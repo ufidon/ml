{
 "cells": [
  {
   "cell_type": "markdown",
   "metadata": {},
   "source": [
    "<table align=\"left\">\n",
    "  <td>\n",
    "    <a href=\"https://colab.research.google.com/github/ufidon/ml/blob/main/mod6/anns.ipynb\" target=\"_parent\"><img src=\"https://colab.research.google.com/assets/colab-badge.svg\" alt=\"Open In Colab\"/></a>\n",
    "  </td>\n",
    "  <td>\n",
    "    <a target=\"_blank\" href=\"https://kaggle.com/kernels/welcome?src=https://github.com/ufidon/ml/blob/main/mod6/anns.ipynb\"><img src=\"https://kaggle.com/static/images/open-in-kaggle.svg\" /></a>\n",
    "  </td>\n",
    "</table>\n",
    "<br>\n",
    "\n",
    "Introduction to Artificial Neural Networks with Keras\n",
    "---\n",
    "_homl3 ch10_\n"
   ]
  },
  {
   "cell_type": "markdown",
   "metadata": {},
   "source": [
    "Artificial Neural Networks (ANNs)\n",
    "---\n",
    "- versatile, powerful, and scalable ML models for classification and regression\n",
    "- inspired by the networks of biological neurons but very different\n",
    "- wide applications\n",
    "  - classifying billions of images such as Google Images\n",
    "  - speech recognition such as Google's `OK Google`\n",
    "  - video recommendation such Youtube\n",
    "  - defeating world champions in the game of Go such as Deepmind's AlphaZero\n",
    "- popular ANN frameworks\n",
    "  - Google TensorFlow\n",
    "  - Facebook PyTorch\n",
    "- [Keras](https://keras.io/) is a high-level API for building, training and evaluating ANNs\n",
    "  - supports multi-backend such as TensorFlow, JAX and PyTorch\n",
    "- cost for ANNs\n",
    "  - huge amount of data for training\n",
    "  - high computing power\n",
    "  - millions even billions of parameters\n",
    "- ANNs can theoretically approximate any continuous functions with arbitrary precision\n",
    "- theoretical limitations such as getting stuck in local optima\n",
    "  - but practically the local optima often perform almost as well as the global optimum"
   ]
  },
  {
   "cell_type": "code",
   "execution_count": null,
   "metadata": {},
   "outputs": [],
   "source": [
    "import sys\n",
    "if \"google.colab\" in sys.modules:\n",
    "  %pip install -q -U keras-tuner"
   ]
  },
  {
   "cell_type": "code",
   "execution_count": 67,
   "metadata": {},
   "outputs": [],
   "source": [
    "import numpy as np, pandas as pd, matplotlib.pyplot as plt, matplotlib as mpl\n",
    "import sklearn as skl, sklearn.datasets as skds\n",
    "\n",
    "import tensorflow as tf, keras_tuner as kt "
   ]
  },
  {
   "cell_type": "markdown",
   "metadata": {},
   "source": [
    "Artificial neuron - TLU\n",
    "---\n",
    "- `threshold logic unit (TLU)`, or `linear threshold unit (LTU)`\n",
    "- computes a `linear function` of its inputs\n",
    "  - $z=w_1x_1+w_2x_2+⋯+w_mx_m+b=\\mathbf{w^Tx}+b$\n",
    "- then applies a `step function` to z:\n",
    "  - $h_{\\mathbf{w}}(\\mathbf{x})=\\operatorname{step}(z)$\n",
    "  - the input weights __w__ and the bias term b are the model's parameters\n",
    "  - similar to `logistic regression` except it uses a step function instead of the logistic function\n",
    "- two typical step functions are used\n",
    "  - Heaviside step function: ${\\displaystyle H(z)={\\begin{cases}1,&z\\geq 0\\\\0,&z<0\\end{cases}}}$\n",
    "  - sign function: ${\\displaystyle \\operatorname {sgn} (z)={\\begin{cases}-1&{\\text{if }}z<0,\\\\0&{\\text{if }}z=0,\\\\1&{\\text{if }}z>0.\\end{cases}}}$\n",
    "- A single TLU can be used for simple linear binary classification\n",
    "  - computes a linear function of its inputs\n",
    "  - outputs the positive class if the result exceeds a threshold\n",
    "    - otherwise the negative class"
   ]
  },
  {
   "cell_type": "markdown",
   "metadata": {},
   "source": [
    "Perceptron\n",
    "---\n",
    "- composed of one or more TLUs organized in a single layer\n",
    "  - every TLU is connected to every input\n",
    "  - such a layer is called a `fully connected layer`, or a `dense layer`\n",
    "- The inputs constitute the `input layer`\n",
    "  - since the layer of TLUs produces the final outputs, it is called the `output layer`\n",
    "- ∴ The perceptron can classify instances simultaneously into multiple\n",
    "different binary classes\n",
    "  - which makes it a `multilabel classifier` \n",
    "  - can also be used for `multiclass classification`\n",
    "- The decision boundary of each output neuron is `linear`\n",
    "  - incapable of learning complex patterns\n",
    "- implemented in sklearn `Perceptron class`"
   ]
  },
  {
   "cell_type": "markdown",
   "metadata": {},
   "source": [
    "Computing the outputs of a fully connected layer\n",
    "---\n",
    "- ${\\displaystyle h_{\\mathbf{w,b}}} (\\mathbf{X}) = ϕ(\\mathbf{XW+b})$\n",
    "- $\\mathbf{X}$, the matrix of inputs, one row per instance and one column per feature\n",
    "- $\\mathbf{W}$, the matrix of weights, one row per input and one column per neuron\n",
    "- $\\mathbf{b}$, the bias vector, one bias per neuron\n",
    "- $ϕ$, the `activation` function,  a step function for TLUs"
   ]
  },
  {
   "cell_type": "markdown",
   "metadata": {},
   "source": [
    "Training perceptron\n",
    "---\n",
    "- update weights by ${\\displaystyle w_{i,j}^{(k+1)} = w_{i,j}^{(k)} +  η(y_j - \\hat{y_j})x_i }$\n",
    "  - $w_{i,j}$, the connection weight between the $i^{th}$ input and the $j^{th}$ neuron\n",
    "  - $x_i$, the $i^{th}$ input value of the current training instance\n",
    "  - $\\hat{y_j}$, the output of the $j^{th}$ output neuron for the current training instance\n",
    "  - $y_j$, the target output of the $j^{th}$ output neuron for the current training instance\n",
    "  - η, the learning rate\n",
    "- the biases $b_j$ are included as $b_j = w_{0,j}x_0$, where $x_0=1$"
   ]
  },
  {
   "cell_type": "code",
   "execution_count": 68,
   "metadata": {},
   "outputs": [
    {
     "data": {
      "text/plain": [
       "array([ True, False])"
      ]
     },
     "execution_count": 68,
     "metadata": {},
     "output_type": "execute_result"
    }
   ],
   "source": [
    "# 1. classify iris with perceptron\n",
    "# train the perceptron as a binary classifier: setosa or not-setosa\n",
    "\n",
    "from sklearn.linear_model import Perceptron\n",
    "\n",
    "iris = skds.load_iris(as_frame=True)\n",
    "X = iris.data[[\"petal length (cm)\", \"petal width (cm)\"]].values\n",
    "y = (iris.target == 0)  # Iris setosa\n",
    "\n",
    "per_clf = Perceptron(random_state=42)\n",
    "per_clf.fit(X, y)\n",
    "\n",
    "X_new = [[2, 0.5], [3, 1]]\n",
    "y_pred = per_clf.predict(X_new)  # which flower is setosa\n",
    "y_pred"
   ]
  },
  {
   "cell_type": "code",
   "execution_count": 69,
   "metadata": {},
   "outputs": [
    {
     "name": "stdout",
     "output_type": "stream",
     "text": [
      "True\n",
      "True\n"
     ]
    }
   ],
   "source": [
    "# 2. The `Perceptron` is equivalent to  a `SGDClassifier` with \n",
    "# `loss=\"perceptron\"`, no regularization, and a constant learning rate equal to 1:\n",
    "from sklearn.linear_model import SGDClassifier\n",
    "\n",
    "sgd_clf = SGDClassifier(loss=\"perceptron\", penalty=None,\n",
    "                        learning_rate=\"constant\", eta0=1, random_state=42)\n",
    "sgd_clf.fit(X, y)\n",
    "print(f\"{(sgd_clf.coef_ == per_clf.coef_).all()}\")\n",
    "print(f\"{ (sgd_clf.intercept_ == per_clf.intercept_).all()}\")"
   ]
  },
  {
   "cell_type": "code",
   "execution_count": 70,
   "metadata": {},
   "outputs": [
    {
     "data": {
      "image/png": "[encoded data removed]",
      "text/plain": [
       "<Figure size 700x300 with 1 Axes>"
      ]
     },
     "metadata": {},
     "output_type": "display_data"
    }
   ],
   "source": [
    "# 3. the Perceptron stops learning once found a decision boundary that properly separates the classes, \n",
    "# This means that the decision boundary is often quite close to one class:\n",
    "\n",
    "from matplotlib.colors import ListedColormap\n",
    "\n",
    "a = -per_clf.coef_[0, 0] / per_clf.coef_[0, 1]\n",
    "b = -per_clf.intercept_ / per_clf.coef_[0, 1]\n",
    "axes = [0, 5, 0, 2]\n",
    "x0, x1 = np.meshgrid(\n",
    "    np.linspace(axes[0], axes[1], 500).reshape(-1, 1),\n",
    "    np.linspace(axes[2], axes[3], 200).reshape(-1, 1),\n",
    ")\n",
    "X_new = np.c_[x0.ravel(), x1.ravel()]\n",
    "y_predict = per_clf.predict(X_new)\n",
    "zz = y_predict.reshape(x0.shape)\n",
    "custom_cmap = ListedColormap(['#9898ff', '#fafab0'])\n",
    "\n",
    "fig1, ax1 = plt.subplots(figsize=(7, 3))\n",
    "ax1.plot(X[y == 0, 0], X[y == 0, 1], \"bs\", label=\"Not Iris setosa\")\n",
    "ax1.plot(X[y == 1, 0], X[y == 1, 1], \"yo\", label=\"Iris setosa\")\n",
    "ax1.plot([axes[0], axes[1]], [a * axes[0] + b, a * axes[1] + b], \"k-\",\n",
    "         linewidth=3)\n",
    "ax1.contourf(x0, x1, zz, cmap=custom_cmap)\n",
    "ax1.set_xlabel(\"Petal length\")\n",
    "ax1.set_ylabel(\"Petal width\")\n",
    "ax1.legend(loc=\"lower right\")\n",
    "ax1.set_title(\"Perceptron's decision boundary is close to one class\")\n",
    "ax1.axis(axes);"
   ]
  },
  {
   "cell_type": "markdown",
   "metadata": {},
   "source": [
    "Multilayer perceptron (MLP)\n",
    "---\n",
    "- Perceptrons can't classify non-linearly separable dataset such as `the XOR problem`\n",
    "  - x1 xor x2: (0,0) and (1,1) output 0, (0,1) and (1,0) output 1\n",
    "  - these two classes cross over each other so they are non-linearly separable\n",
    "- This limitation can be solved with ` multilayer perceptron (MLP)` \n",
    "  - which stacks multiple perceptrons\n",
    "  - ![mlp](./img/mlp.png)\n",
    "  - 1 `input layer` → 1⁺ intermediate or `hidden layers` → 1 `output layer`\n",
    "    - An ANN that has a deep stack of hidden layers is called a `deep neural network (DNN)`\n",
    "  - layers close to the input layer are called `lower layers`\n",
    "  - layers close to the output layer are called `upper layers`\n",
    "- The MLP below solves the XOR problem\n",
    "- ![mlpxor](./img/mlpxor.png)\n",
    "  - `(0,0): p1(0*1+0*1-3/2)=0, p2(0*1+0*1>-1/2)=0, p3(-1*0+1*0-1/2)=0`\n",
    "  - `(0,1): p1(0*1+1*1-3/2)=0, p2(0*1+1*1-1/2)=1, p3(-1*0+1*1-1/2)=1`\n",
    "  - `(1,0): p1(1*1+0*1-3/2)=0, p2(1*1+0*1-1/2)=1, p3(-1*0+1*1-1/2)=1`\n",
    "  - `(1,1): p1(1*1+1*1-3/2)=1, p2(1*1+1*1-1/2)=1, p3(-1*1+1*1-1/2)=0`\n"
   ]
  },
  {
   "cell_type": "markdown",
   "metadata": {},
   "source": [
    "Backpropagation\n",
    "---\n",
    "- Backpropagation (`backprop`) is an efficient way to train an ANN. It's a combination of two steps\n",
    "  - `reverse-mode autodiff`: \n",
    "    - computes the `gradients` of the neural network’s error with regard to every single model parameter in two passes through the network \n",
    "    - one forward, one backward\n",
    "  - `gradient descent`: exploits the gradients calculated from reverse-mode autodiff\n",
    "- repeat these two steps, the neural network’s error will gradually drop until it eventually reaches a minimum\n",
    "- Backpropagation can be applied to all sorts of computational graphs, not just NNs\n",
    "- There are various autodiff techniques, with different pros and cons\n",
    "  "
   ]
  },
  {
   "cell_type": "markdown",
   "metadata": {},
   "source": [
    "Train an ANN with backprop\n",
    "---\n",
    "- initialize all weights and biases randomly\n",
    "- handle one mini-batch out of the training set at a time\n",
    "  - each pass of the whole training set is called an `epoch`\n",
    "- forward pass: \n",
    "  - each mini-batch go through the ANN from the input layer to the output layer\n",
    "  - exactly like prediction except keeping all intermediate results for the backward pass\n",
    "- backward pass:\n",
    "  - measure the `error gradients` across all the connection weights and biases came from each layer\n",
    "  - from the output layer backward to the input layer\n",
    "- tweak all the connection weights and biases through a `gradient descent step` using the error gradients\n",
    "- to make the `gradient descent step` working, the `step function` in the MLP is replaced with `derivable functions` with `nonzero derivative` such as `sigmoid function`\n",
    "  - these functions are called `activation function`\n",
    "  - they introduce `nonlinearity` into the ANN"
   ]
  },
  {
   "cell_type": "markdown",
   "metadata": {},
   "source": [
    "Popular activation functions\n",
    "---\n",
    "- sigmoid function: ${\\displaystyle \\sigma (z)={\\frac {1}{1+e^{-z}}}={\\frac {e^{z}}{1+e^{z}}}=1-\\sigma (-z)}$\n",
    "  - range: (0,1)\n",
    "- hyperbolic tangent function: ${\\displaystyle f(z)=\\tanh z={\\frac {e^{z}-e^{-z}}{e^{z}+e^{-z}}} = 2σ(2z) – 1}$\n",
    "  - range: (-1,1)\n",
    "- rectified linear unit function: ${\\displaystyle \\operatorname{ReLU}(z) = \\max(0, z)}$\n",
    "  - range: [0, ∞)\n",
    "- softplus, a smooth variant of ReLU: ${\\displaystyle \\operatorname{softplus}(z) = \\log(1+e^z)}$\n",
    "  - range: (0, ∞)"
   ]
  },
  {
   "cell_type": "code",
   "execution_count": 71,
   "metadata": {},
   "outputs": [
    {
     "data": {
      "image/png": "[encoded data removed]",
      "text/plain": [
       "<Figure size 1100x310 with 2 Axes>"
      ]
     },
     "metadata": {},
     "output_type": "display_data"
    }
   ],
   "source": [
    "# 1. Popular activation functions\n",
    "from scipy.special import expit as sigmoid\n",
    "\n",
    "def relu(z):\n",
    "    return np.maximum(0, z)\n",
    "\n",
    "def derivative(f, z, eps=0.000001):\n",
    "    return (f(z + eps) - f(z - eps))/(2 * eps)\n",
    "\n",
    "max_z = 4.5\n",
    "z = np.linspace(-max_z, max_z, 200)\n",
    "\n",
    "fig2, ax2 = plt.subplots(1,2, figsize=(11, 3.1))\n",
    "\n",
    "\n",
    "ax2[0].plot([-max_z, 0], [0, 0], \"r-\", linewidth=2, label=\"Heaviside\")\n",
    "ax2[0].plot(z, relu(z), \"m-.\", linewidth=2, label=\"ReLU\")\n",
    "ax2[0].plot([0, 0], [0, 1], \"r-\", linewidth=0.5)\n",
    "ax2[0].plot([0, max_z], [1, 1], \"r-\", linewidth=2)\n",
    "ax2[0].plot(z, sigmoid(z), \"g--\", linewidth=2, label=\"Sigmoid\")\n",
    "ax2[0].plot(z, np.tanh(z), \"b-\", linewidth=1, label=\"Tanh\")\n",
    "ax2[0].grid(True)\n",
    "ax2[0].set_title(\"Popular activation functions\")\n",
    "ax2[0].axis([-max_z, max_z, -1.65, 2.4])\n",
    "ax2[0].set_yticks([-1, 0, 1, 2])\n",
    "ax2[0].legend(loc=\"lower right\", fontsize=13)\n",
    "\n",
    "\n",
    "ax2[1].plot(z, derivative(np.sign, z), \"r-\", linewidth=2, label=\"Heaviside\")\n",
    "ax2[1].plot(0, 0, \"ro\", markersize=5)\n",
    "ax2[1].plot(0, 0, \"rx\", markersize=10)\n",
    "ax2[1].plot(z, derivative(sigmoid, z), \"g--\", linewidth=2, label=\"Sigmoid\")\n",
    "ax2[1].plot(z, derivative(np.tanh, z), \"b-\", linewidth=1, label=\"Tanh\")\n",
    "ax2[1].plot([-max_z, 0], [0, 0], \"m-.\", linewidth=2)\n",
    "ax2[1].plot([0, max_z], [1, 1], \"m-.\", linewidth=2)\n",
    "ax2[1].plot([0, 0], [0, 1], \"m-.\", linewidth=1.2)\n",
    "ax2[1].plot(0, 1, \"mo\", markersize=5)\n",
    "ax2[1].plot(0, 1, \"mx\", markersize=10)\n",
    "ax2[1].grid(True)\n",
    "ax2[1].set_title(\"and their derivatives\")\n",
    "ax2[1].axis([-max_z, max_z, -0.2, 1.2]);"
   ]
  },
  {
   "cell_type": "markdown",
   "metadata": {},
   "source": [
    "Regression MLPs\n",
    "---\n",
    "- For `univariate regression`, \n",
    "  - a single output neuron is used to predict a single value \n",
    "- For `multivariate regression`, \n",
    "  - multiple output neurons are used to predict multiple values at once\n",
    "- implemented in sklearn `MLPRegressor class`\n",
    "- ⚠️ the MLPRegressor class does not support activation functions in the output layer\n",
    "  - so it’s free to output any value it wants\n",
    "- Typical regression MLP architecture\n",
    "\n",
    "| Hyperparameter |  Typical value |\n",
    "|:--:|:--:|\n",
    "| # hidden layers |  Depends on the problem, but typically 1 to 5 |\n",
    "| # neurons per hidden |  Depends on the problem, but typically 10 to 100  |\n",
    "| # output neurons |  1 per prediction dimension |\n",
    "| Hidden activation |  ReLU |\n",
    "| Output activation |  None, or ReLU/softplus (if positive outputs) or sigmoid/tanh (if bounded outputs) |\n",
    "| Loss function |  MSE, or [Huber](https://en.wikipedia.org/wiki/Huber_loss) if too many outliers |"
   ]
  },
  {
   "cell_type": "code",
   "execution_count": 72,
   "metadata": {},
   "outputs": [
    {
     "data": {
      "text/html": [
       "<style>#sk-container-id-3 {\n",
       "  /* Definition of color scheme common for light and dark mode */\n",
       "  --sklearn-color-text: black;\n",
       "  --sklearn-color-line: gray;\n",
       "  /* Definition of color scheme for unfitted estimators */\n",
       "  --sklearn-color-unfitted-level-0: #fff5e6;\n",
       "  --sklearn-color-unfitted-level-1: #f6e4d2;\n",
       "  --sklearn-color-unfitted-level-2: #ffe0b3;\n",
       "  --sklearn-color-unfitted-level-3: chocolate;\n",
       "  /* Definition of color scheme for fitted estimators */\n",
       "  --sklearn-color-fitted-level-0: #f0f8ff;\n",
       "  --sklearn-color-fitted-level-1: #d4ebff;\n",
       "  --sklearn-color-fitted-level-2: #b3dbfd;\n",
       "  --sklearn-color-fitted-level-3: cornflowerblue;\n",
       "\n",
       "  /* Specific color for light theme */\n",
       "  --sklearn-color-text-on-default-background: var(--sg-text-color, var(--theme-code-foreground, var(--jp-content-font-color1, black)));\n",
       "  --sklearn-color-background: var(--sg-background-color, var(--theme-background, var(--jp-layout-color0, white)));\n",
       "  --sklearn-color-border-box: var(--sg-text-color, var(--theme-code-foreground, var(--jp-content-font-color1, black)));\n",
       "  --sklearn-color-icon: #696969;\n",
       "\n",
       "  @media (prefers-color-scheme: dark) {\n",
       "    /* Redefinition of color scheme for dark theme */\n",
       "    --sklearn-color-text-on-default-background: var(--sg-text-color, var(--theme-code-foreground, var(--jp-content-font-color1, white)));\n",
       "    --sklearn-color-background: var(--sg-background-color, var(--theme-background, var(--jp-layout-color0, #111)));\n",
       "    --sklearn-color-border-box: var(--sg-text-color, var(--theme-code-foreground, var(--jp-content-font-color1, white)));\n",
       "    --sklearn-color-icon: #878787;\n",
       "  }\n",
       "}\n",
       "\n",
       "#sk-container-id-3 {\n",
       "  color: var(--sklearn-color-text);\n",
       "}\n",
       "\n",
       "#sk-container-id-3 pre {\n",
       "  padding: 0;\n",
       "}\n",
       "\n",
       "#sk-container-id-3 input.sk-hidden--visually {\n",
       "  border: 0;\n",
       "  clip: rect(1px 1px 1px 1px);\n",
       "  clip: rect(1px, 1px, 1px, 1px);\n",
       "  height: 1px;\n",
       "  margin: -1px;\n",
       "  overflow: hidden;\n",
       "  padding: 0;\n",
       "  position: absolute;\n",
       "  width: 1px;\n",
       "}\n",
       "\n",
       "#sk-container-id-3 div.sk-dashed-wrapped {\n",
       "  border: 1px dashed var(--sklearn-color-line);\n",
       "  margin: 0 0.4em 0.5em 0.4em;\n",
       "  box-sizing: border-box;\n",
       "  padding-bottom: 0.4em;\n",
       "  background-color: var(--sklearn-color-background);\n",
       "}\n",
       "\n",
       "#sk-container-id-3 div.sk-container {\n",
       "  /* jupyter's `normalize.less` sets `[hidden] { display: none; }`\n",
       "     but bootstrap.min.css set `[hidden] { display: none !important; }`\n",
       "     so we also need the `!important` here to be able to override the\n",
       "     default hidden behavior on the sphinx rendered scikit-learn.org.\n",
       "     See: https://github.com/scikit-learn/scikit-learn/issues/21755 */\n",
       "  display: inline-block !important;\n",
       "  position: relative;\n",
       "}\n",
       "\n",
       "#sk-container-id-3 div.sk-text-repr-fallback {\n",
       "  display: none;\n",
       "}\n",
       "\n",
       "div.sk-parallel-item,\n",
       "div.sk-serial,\n",
       "div.sk-item {\n",
       "  /* draw centered vertical line to link estimators */\n",
       "  background-image: linear-gradient(var(--sklearn-color-text-on-default-background), var(--sklearn-color-text-on-default-background));\n",
       "  background-size: 2px 100%;\n",
       "  background-repeat: no-repeat;\n",
       "  background-position: center center;\n",
       "}\n",
       "\n",
       "/* Parallel-specific style estimator block */\n",
       "\n",
       "#sk-container-id-3 div.sk-parallel-item::after {\n",
       "  content: \"\";\n",
       "  width: 100%;\n",
       "  border-bottom: 2px solid var(--sklearn-color-text-on-default-background);\n",
       "  flex-grow: 1;\n",
       "}\n",
       "\n",
       "#sk-container-id-3 div.sk-parallel {\n",
       "  display: flex;\n",
       "  align-items: stretch;\n",
       "  justify-content: center;\n",
       "  background-color: var(--sklearn-color-background);\n",
       "  position: relative;\n",
       "}\n",
       "\n",
       "#sk-container-id-3 div.sk-parallel-item {\n",
       "  display: flex;\n",
       "  flex-direction: column;\n",
       "}\n",
       "\n",
       "#sk-container-id-3 div.sk-parallel-item:first-child::after {\n",
       "  align-self: flex-end;\n",
       "  width: 50%;\n",
       "}\n",
       "\n",
       "#sk-container-id-3 div.sk-parallel-item:last-child::after {\n",
       "  align-self: flex-start;\n",
       "  width: 50%;\n",
       "}\n",
       "\n",
       "#sk-container-id-3 div.sk-parallel-item:only-child::after {\n",
       "  width: 0;\n",
       "}\n",
       "\n",
       "/* Serial-specific style estimator block */\n",
       "\n",
       "#sk-container-id-3 div.sk-serial {\n",
       "  display: flex;\n",
       "  flex-direction: column;\n",
       "  align-items: center;\n",
       "  background-color: var(--sklearn-color-background);\n",
       "  padding-right: 1em;\n",
       "  padding-left: 1em;\n",
       "}\n",
       "\n",
       "\n",
       "/* Toggleable style: style used for estimator/Pipeline/ColumnTransformer box that is\n",
       "clickable and can be expanded/collapsed.\n",
       "- Pipeline and ColumnTransformer use this feature and define the default style\n",
       "- Estimators will overwrite some part of the style using the `sk-estimator` class\n",
       "*/\n",
       "\n",
       "/* Pipeline and ColumnTransformer style (default) */\n",
       "\n",
       "#sk-container-id-3 div.sk-toggleable {\n",
       "  /* Default theme specific background. It is overwritten whether we have a\n",
       "  specific estimator or a Pipeline/ColumnTransformer */\n",
       "  background-color: var(--sklearn-color-background);\n",
       "}\n",
       "\n",
       "/* Toggleable label */\n",
       "#sk-container-id-3 label.sk-toggleable__label {\n",
       "  cursor: pointer;\n",
       "  display: block;\n",
       "  width: 100%;\n",
       "  margin-bottom: 0;\n",
       "  padding: 0.5em;\n",
       "  box-sizing: border-box;\n",
       "  text-align: center;\n",
       "}\n",
       "\n",
       "#sk-container-id-3 label.sk-toggleable__label-arrow:before {\n",
       "  /* Arrow on the left of the label */\n",
       "  content: \"▸\";\n",
       "  float: left;\n",
       "  margin-right: 0.25em;\n",
       "  color: var(--sklearn-color-icon);\n",
       "}\n",
       "\n",
       "#sk-container-id-3 label.sk-toggleable__label-arrow:hover:before {\n",
       "  color: var(--sklearn-color-text);\n",
       "}\n",
       "\n",
       "/* Toggleable content - dropdown */\n",
       "\n",
       "#sk-container-id-3 div.sk-toggleable__content {\n",
       "  max-height: 0;\n",
       "  max-width: 0;\n",
       "  overflow: hidden;\n",
       "  text-align: left;\n",
       "  /* unfitted */\n",
       "  background-color: var(--sklearn-color-unfitted-level-0);\n",
       "}\n",
       "\n",
       "#sk-container-id-3 div.sk-toggleable__content.fitted {\n",
       "  /* fitted */\n",
       "  background-color: var(--sklearn-color-fitted-level-0);\n",
       "}\n",
       "\n",
       "#sk-container-id-3 div.sk-toggleable__content pre {\n",
       "  margin: 0.2em;\n",
       "  border-radius: 0.25em;\n",
       "  color: var(--sklearn-color-text);\n",
       "  /* unfitted */\n",
       "  background-color: var(--sklearn-color-unfitted-level-0);\n",
       "}\n",
       "\n",
       "#sk-container-id-3 div.sk-toggleable__content.fitted pre {\n",
       "  /* unfitted */\n",
       "  background-color: var(--sklearn-color-fitted-level-0);\n",
       "}\n",
       "\n",
       "#sk-container-id-3 input.sk-toggleable__control:checked~div.sk-toggleable__content {\n",
       "  /* Expand drop-down */\n",
       "  max-height: 200px;\n",
       "  max-width: 100%;\n",
       "  overflow: auto;\n",
       "}\n",
       "\n",
       "#sk-container-id-3 input.sk-toggleable__control:checked~label.sk-toggleable__label-arrow:before {\n",
       "  content: \"▾\";\n",
       "}\n",
       "\n",
       "/* Pipeline/ColumnTransformer-specific style */\n",
       "\n",
       "#sk-container-id-3 div.sk-label input.sk-toggleable__control:checked~label.sk-toggleable__label {\n",
       "  color: var(--sklearn-color-text);\n",
       "  background-color: var(--sklearn-color-unfitted-level-2);\n",
       "}\n",
       "\n",
       "#sk-container-id-3 div.sk-label.fitted input.sk-toggleable__control:checked~label.sk-toggleable__label {\n",
       "  background-color: var(--sklearn-color-fitted-level-2);\n",
       "}\n",
       "\n",
       "/* Estimator-specific style */\n",
       "\n",
       "/* Colorize estimator box */\n",
       "#sk-container-id-3 div.sk-estimator input.sk-toggleable__control:checked~label.sk-toggleable__label {\n",
       "  /* unfitted */\n",
       "  background-color: var(--sklearn-color-unfitted-level-2);\n",
       "}\n",
       "\n",
       "#sk-container-id-3 div.sk-estimator.fitted input.sk-toggleable__control:checked~label.sk-toggleable__label {\n",
       "  /* fitted */\n",
       "  background-color: var(--sklearn-color-fitted-level-2);\n",
       "}\n",
       "\n",
       "#sk-container-id-3 div.sk-label label.sk-toggleable__label,\n",
       "#sk-container-id-3 div.sk-label label {\n",
       "  /* The background is the default theme color */\n",
       "  color: var(--sklearn-color-text-on-default-background);\n",
       "}\n",
       "\n",
       "/* On hover, darken the color of the background */\n",
       "#sk-container-id-3 div.sk-label:hover label.sk-toggleable__label {\n",
       "  color: var(--sklearn-color-text);\n",
       "  background-color: var(--sklearn-color-unfitted-level-2);\n",
       "}\n",
       "\n",
       "/* Label box, darken color on hover, fitted */\n",
       "#sk-container-id-3 div.sk-label.fitted:hover label.sk-toggleable__label.fitted {\n",
       "  color: var(--sklearn-color-text);\n",
       "  background-color: var(--sklearn-color-fitted-level-2);\n",
       "}\n",
       "\n",
       "/* Estimator label */\n",
       "\n",
       "#sk-container-id-3 div.sk-label label {\n",
       "  font-family: monospace;\n",
       "  font-weight: bold;\n",
       "  display: inline-block;\n",
       "  line-height: 1.2em;\n",
       "}\n",
       "\n",
       "#sk-container-id-3 div.sk-label-container {\n",
       "  text-align: center;\n",
       "}\n",
       "\n",
       "/* Estimator-specific */\n",
       "#sk-container-id-3 div.sk-estimator {\n",
       "  font-family: monospace;\n",
       "  border: 1px dotted var(--sklearn-color-border-box);\n",
       "  border-radius: 0.25em;\n",
       "  box-sizing: border-box;\n",
       "  margin-bottom: 0.5em;\n",
       "  /* unfitted */\n",
       "  background-color: var(--sklearn-color-unfitted-level-0);\n",
       "}\n",
       "\n",
       "#sk-container-id-3 div.sk-estimator.fitted {\n",
       "  /* fitted */\n",
       "  background-color: var(--sklearn-color-fitted-level-0);\n",
       "}\n",
       "\n",
       "/* on hover */\n",
       "#sk-container-id-3 div.sk-estimator:hover {\n",
       "  /* unfitted */\n",
       "  background-color: var(--sklearn-color-unfitted-level-2);\n",
       "}\n",
       "\n",
       "#sk-container-id-3 div.sk-estimator.fitted:hover {\n",
       "  /* fitted */\n",
       "  background-color: var(--sklearn-color-fitted-level-2);\n",
       "}\n",
       "\n",
       "/* Specification for estimator info (e.g. \"i\" and \"?\") */\n",
       "\n",
       "/* Common style for \"i\" and \"?\" */\n",
       "\n",
       ".sk-estimator-doc-link,\n",
       "a:link.sk-estimator-doc-link,\n",
       "a:visited.sk-estimator-doc-link {\n",
       "  float: right;\n",
       "  font-size: smaller;\n",
       "  line-height: 1em;\n",
       "  font-family: monospace;\n",
       "  background-color: var(--sklearn-color-background);\n",
       "  border-radius: 1em;\n",
       "  height: 1em;\n",
       "  width: 1em;\n",
       "  text-decoration: none !important;\n",
       "  margin-left: 1ex;\n",
       "  /* unfitted */\n",
       "  border: var(--sklearn-color-unfitted-level-1) 1pt solid;\n",
       "  color: var(--sklearn-color-unfitted-level-1);\n",
       "}\n",
       "\n",
       ".sk-estimator-doc-link.fitted,\n",
       "a:link.sk-estimator-doc-link.fitted,\n",
       "a:visited.sk-estimator-doc-link.fitted {\n",
       "  /* fitted */\n",
       "  border: var(--sklearn-color-fitted-level-1) 1pt solid;\n",
       "  color: var(--sklearn-color-fitted-level-1);\n",
       "}\n",
       "\n",
       "/* On hover */\n",
       "div.sk-estimator:hover .sk-estimator-doc-link:hover,\n",
       ".sk-estimator-doc-link:hover,\n",
       "div.sk-label-container:hover .sk-estimator-doc-link:hover,\n",
       ".sk-estimator-doc-link:hover {\n",
       "  /* unfitted */\n",
       "  background-color: var(--sklearn-color-unfitted-level-3);\n",
       "  color: var(--sklearn-color-background);\n",
       "  text-decoration: none;\n",
       "}\n",
       "\n",
       "div.sk-estimator.fitted:hover .sk-estimator-doc-link.fitted:hover,\n",
       ".sk-estimator-doc-link.fitted:hover,\n",
       "div.sk-label-container:hover .sk-estimator-doc-link.fitted:hover,\n",
       ".sk-estimator-doc-link.fitted:hover {\n",
       "  /* fitted */\n",
       "  background-color: var(--sklearn-color-fitted-level-3);\n",
       "  color: var(--sklearn-color-background);\n",
       "  text-decoration: none;\n",
       "}\n",
       "\n",
       "/* Span, style for the box shown on hovering the info icon */\n",
       ".sk-estimator-doc-link span {\n",
       "  display: none;\n",
       "  z-index: 9999;\n",
       "  position: relative;\n",
       "  font-weight: normal;\n",
       "  right: .2ex;\n",
       "  padding: .5ex;\n",
       "  margin: .5ex;\n",
       "  width: min-content;\n",
       "  min-width: 20ex;\n",
       "  max-width: 50ex;\n",
       "  color: var(--sklearn-color-text);\n",
       "  box-shadow: 2pt 2pt 4pt #999;\n",
       "  /* unfitted */\n",
       "  background: var(--sklearn-color-unfitted-level-0);\n",
       "  border: .5pt solid var(--sklearn-color-unfitted-level-3);\n",
       "}\n",
       "\n",
       ".sk-estimator-doc-link.fitted span {\n",
       "  /* fitted */\n",
       "  background: var(--sklearn-color-fitted-level-0);\n",
       "  border: var(--sklearn-color-fitted-level-3);\n",
       "}\n",
       "\n",
       ".sk-estimator-doc-link:hover span {\n",
       "  display: block;\n",
       "}\n",
       "\n",
       "/* \"?\"-specific style due to the `<a>` HTML tag */\n",
       "\n",
       "#sk-container-id-3 a.estimator_doc_link {\n",
       "  float: right;\n",
       "  font-size: 1rem;\n",
       "  line-height: 1em;\n",
       "  font-family: monospace;\n",
       "  background-color: var(--sklearn-color-background);\n",
       "  border-radius: 1rem;\n",
       "  height: 1rem;\n",
       "  width: 1rem;\n",
       "  text-decoration: none;\n",
       "  /* unfitted */\n",
       "  color: var(--sklearn-color-unfitted-level-1);\n",
       "  border: var(--sklearn-color-unfitted-level-1) 1pt solid;\n",
       "}\n",
       "\n",
       "#sk-container-id-3 a.estimator_doc_link.fitted {\n",
       "  /* fitted */\n",
       "  border: var(--sklearn-color-fitted-level-1) 1pt solid;\n",
       "  color: var(--sklearn-color-fitted-level-1);\n",
       "}\n",
       "\n",
       "/* On hover */\n",
       "#sk-container-id-3 a.estimator_doc_link:hover {\n",
       "  /* unfitted */\n",
       "  background-color: var(--sklearn-color-unfitted-level-3);\n",
       "  color: var(--sklearn-color-background);\n",
       "  text-decoration: none;\n",
       "}\n",
       "\n",
       "#sk-container-id-3 a.estimator_doc_link.fitted:hover {\n",
       "  /* fitted */\n",
       "  background-color: var(--sklearn-color-fitted-level-3);\n",
       "}\n",
       "</style><div id=\"sk-container-id-3\" class=\"sk-top-container\"><div class=\"sk-text-repr-fallback\"><pre>Pipeline(steps=[(&#x27;standardscaler&#x27;, StandardScaler()),\n",
       "                (&#x27;mlpregressor&#x27;,\n",
       "                 MLPRegressor(hidden_layer_sizes=[50, 50, 50],\n",
       "                              random_state=42))])</pre><b>In a Jupyter environment, please rerun this cell to show the HTML representation or trust the notebook. <br />On GitHub, the HTML representation is unable to render, please try loading this page with nbviewer.org.</b></div><div class=\"sk-container\" hidden><div class=\"sk-item sk-dashed-wrapped\"><div class=\"sk-label-container\"><div class=\"sk-label fitted sk-toggleable\"><input class=\"sk-toggleable__control sk-hidden--visually\" id=\"sk-estimator-id-7\" type=\"checkbox\" ><label for=\"sk-estimator-id-7\" class=\"sk-toggleable__label fitted sk-toggleable__label-arrow fitted\">&nbsp;&nbsp;Pipeline<a class=\"sk-estimator-doc-link fitted\" rel=\"noreferrer\" target=\"_blank\" href=\"https://scikit-learn.org/1.4/modules/generated/sklearn.pipeline.Pipeline.html\">?<span>Documentation for Pipeline</span></a><span class=\"sk-estimator-doc-link fitted\">i<span>Fitted</span></span></label><div class=\"sk-toggleable__content fitted\"><pre>Pipeline(steps=[(&#x27;standardscaler&#x27;, StandardScaler()),\n",
       "                (&#x27;mlpregressor&#x27;,\n",
       "                 MLPRegressor(hidden_layer_sizes=[50, 50, 50],\n",
       "                              random_state=42))])</pre></div> </div></div><div class=\"sk-serial\"><div class=\"sk-item\"><div class=\"sk-estimator fitted sk-toggleable\"><input class=\"sk-toggleable__control sk-hidden--visually\" id=\"sk-estimator-id-8\" type=\"checkbox\" ><label for=\"sk-estimator-id-8\" class=\"sk-toggleable__label fitted sk-toggleable__label-arrow fitted\">&nbsp;StandardScaler<a class=\"sk-estimator-doc-link fitted\" rel=\"noreferrer\" target=\"_blank\" href=\"https://scikit-learn.org/1.4/modules/generated/sklearn.preprocessing.StandardScaler.html\">?<span>Documentation for StandardScaler</span></a></label><div class=\"sk-toggleable__content fitted\"><pre>StandardScaler()</pre></div> </div></div><div class=\"sk-item\"><div class=\"sk-estimator fitted sk-toggleable\"><input class=\"sk-toggleable__control sk-hidden--visually\" id=\"sk-estimator-id-9\" type=\"checkbox\" ><label for=\"sk-estimator-id-9\" class=\"sk-toggleable__label fitted sk-toggleable__label-arrow fitted\">&nbsp;MLPRegressor<a class=\"sk-estimator-doc-link fitted\" rel=\"noreferrer\" target=\"_blank\" href=\"https://scikit-learn.org/1.4/modules/generated/sklearn.neural_network.MLPRegressor.html\">?<span>Documentation for MLPRegressor</span></a></label><div class=\"sk-toggleable__content fitted\"><pre>MLPRegressor(hidden_layer_sizes=[50, 50, 50], random_state=42)</pre></div> </div></div></div></div></div></div>"
      ],
      "text/plain": [
       "Pipeline(steps=[('standardscaler', StandardScaler()),\n",
       "                ('mlpregressor',\n",
       "                 MLPRegressor(hidden_layer_sizes=[50, 50, 50],\n",
       "                              random_state=42))])"
      ]
     },
     "execution_count": 72,
     "metadata": {},
     "output_type": "execute_result"
    }
   ],
   "source": [
    "# 1. predict California housing prices \n",
    "# using MLPRegressor with three hidden layers composed of 50 neurons each\n",
    "# \n",
    "# a) create a pipeline to standardize the input features \n",
    "#    before sending them to the MLPRegressor because \n",
    "#    gradient descent does not converge very well \n",
    "#    when the features have very different scales\n",
    "# b) by default, the model uses\n",
    "#    the ReLU activation function in the hidden layers\n",
    "#    a variant of gradient descent called `Adam` to minimize the mean square error\n",
    "#       with a little bit of `l2 regularization` \n",
    "#       which can be tuned with the `alpha` hyperparameter\n",
    "\n",
    "from sklearn.datasets import fetch_california_housing\n",
    "from sklearn.metrics import mean_squared_error\n",
    "from sklearn.model_selection import train_test_split\n",
    "from sklearn.neural_network import MLPRegressor\n",
    "from sklearn.pipeline import make_pipeline\n",
    "from sklearn.preprocessing import StandardScaler\n",
    "\n",
    "housing = fetch_california_housing()\n",
    "X_train_full, X_test, y_train_full, y_test = train_test_split(\n",
    "    housing.data, housing.target, random_state=42)\n",
    "X_train, X_valid, y_train, y_valid = train_test_split(\n",
    "    X_train_full, y_train_full, random_state=42)\n",
    "\n",
    "mlp_reg = MLPRegressor(hidden_layer_sizes=[50, 50, 50], random_state=42)\n",
    "pipeline = make_pipeline(StandardScaler(), mlp_reg)\n",
    "pipeline.fit(X_train, y_train)"
   ]
  },
  {
   "cell_type": "code",
   "execution_count": 73,
   "metadata": {},
   "outputs": [
    {
     "name": "stderr",
     "output_type": "stream",
     "text": [
      "/opt/micromamba/envs/ml/lib/python3.9/site-packages/sklearn/metrics/_regression.py:483: FutureWarning: 'squared' is deprecated in version 1.4 and will be removed in 1.6. To calculate the root mean squared error, use the function'root_mean_squared_error'.\n",
      "  warnings.warn(\n"
     ]
    },
    {
     "data": {
      "text/plain": [
       "0.5053326657968407"
      ]
     },
     "execution_count": 73,
     "metadata": {},
     "output_type": "execute_result"
    }
   ],
   "source": [
    "y_pred = pipeline.predict(X_valid)\n",
    "rmse = mean_squared_error(y_valid, y_pred, squared=False)\n",
    "rmse"
   ]
  },
  {
   "cell_type": "markdown",
   "metadata": {},
   "source": [
    "Classification MLPs\n",
    "---\n",
    "- using the `sigmoid` activation function\n",
    "  - for `binary` classification (BC),  \n",
    "    - a single output neuron outputs a probability\n",
    "  - for `multilabel binary` classification (MLC),\n",
    "    - multiple output neurons output multiple probabilities\n",
    "      -  the output probabilities do `not` necessarily add up to 1\n",
    "    - e.x. given an email, \n",
    "      - one neuron predicts for urgent or non-urgent\n",
    "      - another neuron predicts for spam or non-spam\n",
    "- using the `softmax` activation function for `multiclass` classification (MCC)\n",
    "  - `softmax` ensures that \n",
    "    - all the estimated probabilities are between 0 and 1 \n",
    "    - and that they add up to 1, since the classes are exclusive\n",
    "  - one output neuron per class is needed\n",
    "- the generally used `loss` function is\n",
    "    - cross-entropy loss (or x-entropy or log loss for short)\n",
    "    - since we are predicting probability distributions\n",
    "- implemented in sklearn `MLPClassifier class`\n",
    "- Typical classification MLP architecture\n",
    "\n",
    "| Hyperparameter | Binary classification | Multilabel binary classification | Multiclass classification|\n",
    "|:--:|:--:|:--:|:--:|\n",
    "| # hidden layers |  Typically 1 to 5 layers, depending on the task | as BC. | as BC. |\n",
    "| # output neurons |  1 |  1 per binary label |  1 per class |\n",
    "| Output layer activation |  Sigmoid | Sigmoid | Softmax |\n",
    "| Loss function |  X-entropy | X-entropy | X-entropy |"
   ]
  },
  {
   "cell_type": "code",
   "execution_count": 74,
   "metadata": {},
   "outputs": [
    {
     "data": {
      "text/html": [
       "<style>#sk-container-id-4 {\n",
       "  /* Definition of color scheme common for light and dark mode */\n",
       "  --sklearn-color-text: black;\n",
       "  --sklearn-color-line: gray;\n",
       "  /* Definition of color scheme for unfitted estimators */\n",
       "  --sklearn-color-unfitted-level-0: #fff5e6;\n",
       "  --sklearn-color-unfitted-level-1: #f6e4d2;\n",
       "  --sklearn-color-unfitted-level-2: #ffe0b3;\n",
       "  --sklearn-color-unfitted-level-3: chocolate;\n",
       "  /* Definition of color scheme for fitted estimators */\n",
       "  --sklearn-color-fitted-level-0: #f0f8ff;\n",
       "  --sklearn-color-fitted-level-1: #d4ebff;\n",
       "  --sklearn-color-fitted-level-2: #b3dbfd;\n",
       "  --sklearn-color-fitted-level-3: cornflowerblue;\n",
       "\n",
       "  /* Specific color for light theme */\n",
       "  --sklearn-color-text-on-default-background: var(--sg-text-color, var(--theme-code-foreground, var(--jp-content-font-color1, black)));\n",
       "  --sklearn-color-background: var(--sg-background-color, var(--theme-background, var(--jp-layout-color0, white)));\n",
       "  --sklearn-color-border-box: var(--sg-text-color, var(--theme-code-foreground, var(--jp-content-font-color1, black)));\n",
       "  --sklearn-color-icon: #696969;\n",
       "\n",
       "  @media (prefers-color-scheme: dark) {\n",
       "    /* Redefinition of color scheme for dark theme */\n",
       "    --sklearn-color-text-on-default-background: var(--sg-text-color, var(--theme-code-foreground, var(--jp-content-font-color1, white)));\n",
       "    --sklearn-color-background: var(--sg-background-color, var(--theme-background, var(--jp-layout-color0, #111)));\n",
       "    --sklearn-color-border-box: var(--sg-text-color, var(--theme-code-foreground, var(--jp-content-font-color1, white)));\n",
       "    --sklearn-color-icon: #878787;\n",
       "  }\n",
       "}\n",
       "\n",
       "#sk-container-id-4 {\n",
       "  color: var(--sklearn-color-text);\n",
       "}\n",
       "\n",
       "#sk-container-id-4 pre {\n",
       "  padding: 0;\n",
       "}\n",
       "\n",
       "#sk-container-id-4 input.sk-hidden--visually {\n",
       "  border: 0;\n",
       "  clip: rect(1px 1px 1px 1px);\n",
       "  clip: rect(1px, 1px, 1px, 1px);\n",
       "  height: 1px;\n",
       "  margin: -1px;\n",
       "  overflow: hidden;\n",
       "  padding: 0;\n",
       "  position: absolute;\n",
       "  width: 1px;\n",
       "}\n",
       "\n",
       "#sk-container-id-4 div.sk-dashed-wrapped {\n",
       "  border: 1px dashed var(--sklearn-color-line);\n",
       "  margin: 0 0.4em 0.5em 0.4em;\n",
       "  box-sizing: border-box;\n",
       "  padding-bottom: 0.4em;\n",
       "  background-color: var(--sklearn-color-background);\n",
       "}\n",
       "\n",
       "#sk-container-id-4 div.sk-container {\n",
       "  /* jupyter's `normalize.less` sets `[hidden] { display: none; }`\n",
       "     but bootstrap.min.css set `[hidden] { display: none !important; }`\n",
       "     so we also need the `!important` here to be able to override the\n",
       "     default hidden behavior on the sphinx rendered scikit-learn.org.\n",
       "     See: https://github.com/scikit-learn/scikit-learn/issues/21755 */\n",
       "  display: inline-block !important;\n",
       "  position: relative;\n",
       "}\n",
       "\n",
       "#sk-container-id-4 div.sk-text-repr-fallback {\n",
       "  display: none;\n",
       "}\n",
       "\n",
       "div.sk-parallel-item,\n",
       "div.sk-serial,\n",
       "div.sk-item {\n",
       "  /* draw centered vertical line to link estimators */\n",
       "  background-image: linear-gradient(var(--sklearn-color-text-on-default-background), var(--sklearn-color-text-on-default-background));\n",
       "  background-size: 2px 100%;\n",
       "  background-repeat: no-repeat;\n",
       "  background-position: center center;\n",
       "}\n",
       "\n",
       "/* Parallel-specific style estimator block */\n",
       "\n",
       "#sk-container-id-4 div.sk-parallel-item::after {\n",
       "  content: \"\";\n",
       "  width: 100%;\n",
       "  border-bottom: 2px solid var(--sklearn-color-text-on-default-background);\n",
       "  flex-grow: 1;\n",
       "}\n",
       "\n",
       "#sk-container-id-4 div.sk-parallel {\n",
       "  display: flex;\n",
       "  align-items: stretch;\n",
       "  justify-content: center;\n",
       "  background-color: var(--sklearn-color-background);\n",
       "  position: relative;\n",
       "}\n",
       "\n",
       "#sk-container-id-4 div.sk-parallel-item {\n",
       "  display: flex;\n",
       "  flex-direction: column;\n",
       "}\n",
       "\n",
       "#sk-container-id-4 div.sk-parallel-item:first-child::after {\n",
       "  align-self: flex-end;\n",
       "  width: 50%;\n",
       "}\n",
       "\n",
       "#sk-container-id-4 div.sk-parallel-item:last-child::after {\n",
       "  align-self: flex-start;\n",
       "  width: 50%;\n",
       "}\n",
       "\n",
       "#sk-container-id-4 div.sk-parallel-item:only-child::after {\n",
       "  width: 0;\n",
       "}\n",
       "\n",
       "/* Serial-specific style estimator block */\n",
       "\n",
       "#sk-container-id-4 div.sk-serial {\n",
       "  display: flex;\n",
       "  flex-direction: column;\n",
       "  align-items: center;\n",
       "  background-color: var(--sklearn-color-background);\n",
       "  padding-right: 1em;\n",
       "  padding-left: 1em;\n",
       "}\n",
       "\n",
       "\n",
       "/* Toggleable style: style used for estimator/Pipeline/ColumnTransformer box that is\n",
       "clickable and can be expanded/collapsed.\n",
       "- Pipeline and ColumnTransformer use this feature and define the default style\n",
       "- Estimators will overwrite some part of the style using the `sk-estimator` class\n",
       "*/\n",
       "\n",
       "/* Pipeline and ColumnTransformer style (default) */\n",
       "\n",
       "#sk-container-id-4 div.sk-toggleable {\n",
       "  /* Default theme specific background. It is overwritten whether we have a\n",
       "  specific estimator or a Pipeline/ColumnTransformer */\n",
       "  background-color: var(--sklearn-color-background);\n",
       "}\n",
       "\n",
       "/* Toggleable label */\n",
       "#sk-container-id-4 label.sk-toggleable__label {\n",
       "  cursor: pointer;\n",
       "  display: block;\n",
       "  width: 100%;\n",
       "  margin-bottom: 0;\n",
       "  padding: 0.5em;\n",
       "  box-sizing: border-box;\n",
       "  text-align: center;\n",
       "}\n",
       "\n",
       "#sk-container-id-4 label.sk-toggleable__label-arrow:before {\n",
       "  /* Arrow on the left of the label */\n",
       "  content: \"▸\";\n",
       "  float: left;\n",
       "  margin-right: 0.25em;\n",
       "  color: var(--sklearn-color-icon);\n",
       "}\n",
       "\n",
       "#sk-container-id-4 label.sk-toggleable__label-arrow:hover:before {\n",
       "  color: var(--sklearn-color-text);\n",
       "}\n",
       "\n",
       "/* Toggleable content - dropdown */\n",
       "\n",
       "#sk-container-id-4 div.sk-toggleable__content {\n",
       "  max-height: 0;\n",
       "  max-width: 0;\n",
       "  overflow: hidden;\n",
       "  text-align: left;\n",
       "  /* unfitted */\n",
       "  background-color: var(--sklearn-color-unfitted-level-0);\n",
       "}\n",
       "\n",
       "#sk-container-id-4 div.sk-toggleable__content.fitted {\n",
       "  /* fitted */\n",
       "  background-color: var(--sklearn-color-fitted-level-0);\n",
       "}\n",
       "\n",
       "#sk-container-id-4 div.sk-toggleable__content pre {\n",
       "  margin: 0.2em;\n",
       "  border-radius: 0.25em;\n",
       "  color: var(--sklearn-color-text);\n",
       "  /* unfitted */\n",
       "  background-color: var(--sklearn-color-unfitted-level-0);\n",
       "}\n",
       "\n",
       "#sk-container-id-4 div.sk-toggleable__content.fitted pre {\n",
       "  /* unfitted */\n",
       "  background-color: var(--sklearn-color-fitted-level-0);\n",
       "}\n",
       "\n",
       "#sk-container-id-4 input.sk-toggleable__control:checked~div.sk-toggleable__content {\n",
       "  /* Expand drop-down */\n",
       "  max-height: 200px;\n",
       "  max-width: 100%;\n",
       "  overflow: auto;\n",
       "}\n",
       "\n",
       "#sk-container-id-4 input.sk-toggleable__control:checked~label.sk-toggleable__label-arrow:before {\n",
       "  content: \"▾\";\n",
       "}\n",
       "\n",
       "/* Pipeline/ColumnTransformer-specific style */\n",
       "\n",
       "#sk-container-id-4 div.sk-label input.sk-toggleable__control:checked~label.sk-toggleable__label {\n",
       "  color: var(--sklearn-color-text);\n",
       "  background-color: var(--sklearn-color-unfitted-level-2);\n",
       "}\n",
       "\n",
       "#sk-container-id-4 div.sk-label.fitted input.sk-toggleable__control:checked~label.sk-toggleable__label {\n",
       "  background-color: var(--sklearn-color-fitted-level-2);\n",
       "}\n",
       "\n",
       "/* Estimator-specific style */\n",
       "\n",
       "/* Colorize estimator box */\n",
       "#sk-container-id-4 div.sk-estimator input.sk-toggleable__control:checked~label.sk-toggleable__label {\n",
       "  /* unfitted */\n",
       "  background-color: var(--sklearn-color-unfitted-level-2);\n",
       "}\n",
       "\n",
       "#sk-container-id-4 div.sk-estimator.fitted input.sk-toggleable__control:checked~label.sk-toggleable__label {\n",
       "  /* fitted */\n",
       "  background-color: var(--sklearn-color-fitted-level-2);\n",
       "}\n",
       "\n",
       "#sk-container-id-4 div.sk-label label.sk-toggleable__label,\n",
       "#sk-container-id-4 div.sk-label label {\n",
       "  /* The background is the default theme color */\n",
       "  color: var(--sklearn-color-text-on-default-background);\n",
       "}\n",
       "\n",
       "/* On hover, darken the color of the background */\n",
       "#sk-container-id-4 div.sk-label:hover label.sk-toggleable__label {\n",
       "  color: var(--sklearn-color-text);\n",
       "  background-color: var(--sklearn-color-unfitted-level-2);\n",
       "}\n",
       "\n",
       "/* Label box, darken color on hover, fitted */\n",
       "#sk-container-id-4 div.sk-label.fitted:hover label.sk-toggleable__label.fitted {\n",
       "  color: var(--sklearn-color-text);\n",
       "  background-color: var(--sklearn-color-fitted-level-2);\n",
       "}\n",
       "\n",
       "/* Estimator label */\n",
       "\n",
       "#sk-container-id-4 div.sk-label label {\n",
       "  font-family: monospace;\n",
       "  font-weight: bold;\n",
       "  display: inline-block;\n",
       "  line-height: 1.2em;\n",
       "}\n",
       "\n",
       "#sk-container-id-4 div.sk-label-container {\n",
       "  text-align: center;\n",
       "}\n",
       "\n",
       "/* Estimator-specific */\n",
       "#sk-container-id-4 div.sk-estimator {\n",
       "  font-family: monospace;\n",
       "  border: 1px dotted var(--sklearn-color-border-box);\n",
       "  border-radius: 0.25em;\n",
       "  box-sizing: border-box;\n",
       "  margin-bottom: 0.5em;\n",
       "  /* unfitted */\n",
       "  background-color: var(--sklearn-color-unfitted-level-0);\n",
       "}\n",
       "\n",
       "#sk-container-id-4 div.sk-estimator.fitted {\n",
       "  /* fitted */\n",
       "  background-color: var(--sklearn-color-fitted-level-0);\n",
       "}\n",
       "\n",
       "/* on hover */\n",
       "#sk-container-id-4 div.sk-estimator:hover {\n",
       "  /* unfitted */\n",
       "  background-color: var(--sklearn-color-unfitted-level-2);\n",
       "}\n",
       "\n",
       "#sk-container-id-4 div.sk-estimator.fitted:hover {\n",
       "  /* fitted */\n",
       "  background-color: var(--sklearn-color-fitted-level-2);\n",
       "}\n",
       "\n",
       "/* Specification for estimator info (e.g. \"i\" and \"?\") */\n",
       "\n",
       "/* Common style for \"i\" and \"?\" */\n",
       "\n",
       ".sk-estimator-doc-link,\n",
       "a:link.sk-estimator-doc-link,\n",
       "a:visited.sk-estimator-doc-link {\n",
       "  float: right;\n",
       "  font-size: smaller;\n",
       "  line-height: 1em;\n",
       "  font-family: monospace;\n",
       "  background-color: var(--sklearn-color-background);\n",
       "  border-radius: 1em;\n",
       "  height: 1em;\n",
       "  width: 1em;\n",
       "  text-decoration: none !important;\n",
       "  margin-left: 1ex;\n",
       "  /* unfitted */\n",
       "  border: var(--sklearn-color-unfitted-level-1) 1pt solid;\n",
       "  color: var(--sklearn-color-unfitted-level-1);\n",
       "}\n",
       "\n",
       ".sk-estimator-doc-link.fitted,\n",
       "a:link.sk-estimator-doc-link.fitted,\n",
       "a:visited.sk-estimator-doc-link.fitted {\n",
       "  /* fitted */\n",
       "  border: var(--sklearn-color-fitted-level-1) 1pt solid;\n",
       "  color: var(--sklearn-color-fitted-level-1);\n",
       "}\n",
       "\n",
       "/* On hover */\n",
       "div.sk-estimator:hover .sk-estimator-doc-link:hover,\n",
       ".sk-estimator-doc-link:hover,\n",
       "div.sk-label-container:hover .sk-estimator-doc-link:hover,\n",
       ".sk-estimator-doc-link:hover {\n",
       "  /* unfitted */\n",
       "  background-color: var(--sklearn-color-unfitted-level-3);\n",
       "  color: var(--sklearn-color-background);\n",
       "  text-decoration: none;\n",
       "}\n",
       "\n",
       "div.sk-estimator.fitted:hover .sk-estimator-doc-link.fitted:hover,\n",
       ".sk-estimator-doc-link.fitted:hover,\n",
       "div.sk-label-container:hover .sk-estimator-doc-link.fitted:hover,\n",
       ".sk-estimator-doc-link.fitted:hover {\n",
       "  /* fitted */\n",
       "  background-color: var(--sklearn-color-fitted-level-3);\n",
       "  color: var(--sklearn-color-background);\n",
       "  text-decoration: none;\n",
       "}\n",
       "\n",
       "/* Span, style for the box shown on hovering the info icon */\n",
       ".sk-estimator-doc-link span {\n",
       "  display: none;\n",
       "  z-index: 9999;\n",
       "  position: relative;\n",
       "  font-weight: normal;\n",
       "  right: .2ex;\n",
       "  padding: .5ex;\n",
       "  margin: .5ex;\n",
       "  width: min-content;\n",
       "  min-width: 20ex;\n",
       "  max-width: 50ex;\n",
       "  color: var(--sklearn-color-text);\n",
       "  box-shadow: 2pt 2pt 4pt #999;\n",
       "  /* unfitted */\n",
       "  background: var(--sklearn-color-unfitted-level-0);\n",
       "  border: .5pt solid var(--sklearn-color-unfitted-level-3);\n",
       "}\n",
       "\n",
       ".sk-estimator-doc-link.fitted span {\n",
       "  /* fitted */\n",
       "  background: var(--sklearn-color-fitted-level-0);\n",
       "  border: var(--sklearn-color-fitted-level-3);\n",
       "}\n",
       "\n",
       ".sk-estimator-doc-link:hover span {\n",
       "  display: block;\n",
       "}\n",
       "\n",
       "/* \"?\"-specific style due to the `<a>` HTML tag */\n",
       "\n",
       "#sk-container-id-4 a.estimator_doc_link {\n",
       "  float: right;\n",
       "  font-size: 1rem;\n",
       "  line-height: 1em;\n",
       "  font-family: monospace;\n",
       "  background-color: var(--sklearn-color-background);\n",
       "  border-radius: 1rem;\n",
       "  height: 1rem;\n",
       "  width: 1rem;\n",
       "  text-decoration: none;\n",
       "  /* unfitted */\n",
       "  color: var(--sklearn-color-unfitted-level-1);\n",
       "  border: var(--sklearn-color-unfitted-level-1) 1pt solid;\n",
       "}\n",
       "\n",
       "#sk-container-id-4 a.estimator_doc_link.fitted {\n",
       "  /* fitted */\n",
       "  border: var(--sklearn-color-fitted-level-1) 1pt solid;\n",
       "  color: var(--sklearn-color-fitted-level-1);\n",
       "}\n",
       "\n",
       "/* On hover */\n",
       "#sk-container-id-4 a.estimator_doc_link:hover {\n",
       "  /* unfitted */\n",
       "  background-color: var(--sklearn-color-unfitted-level-3);\n",
       "  color: var(--sklearn-color-background);\n",
       "  text-decoration: none;\n",
       "}\n",
       "\n",
       "#sk-container-id-4 a.estimator_doc_link.fitted:hover {\n",
       "  /* fitted */\n",
       "  background-color: var(--sklearn-color-fitted-level-3);\n",
       "}\n",
       "</style><div id=\"sk-container-id-4\" class=\"sk-top-container\"><div class=\"sk-text-repr-fallback\"><pre>Pipeline(steps=[(&#x27;standardscaler&#x27;, StandardScaler()),\n",
       "                (&#x27;mlpclassifier&#x27;,\n",
       "                 MLPClassifier(hidden_layer_sizes=[5], max_iter=10000,\n",
       "                               random_state=42))])</pre><b>In a Jupyter environment, please rerun this cell to show the HTML representation or trust the notebook. <br />On GitHub, the HTML representation is unable to render, please try loading this page with nbviewer.org.</b></div><div class=\"sk-container\" hidden><div class=\"sk-item sk-dashed-wrapped\"><div class=\"sk-label-container\"><div class=\"sk-label fitted sk-toggleable\"><input class=\"sk-toggleable__control sk-hidden--visually\" id=\"sk-estimator-id-10\" type=\"checkbox\" ><label for=\"sk-estimator-id-10\" class=\"sk-toggleable__label fitted sk-toggleable__label-arrow fitted\">&nbsp;&nbsp;Pipeline<a class=\"sk-estimator-doc-link fitted\" rel=\"noreferrer\" target=\"_blank\" href=\"https://scikit-learn.org/1.4/modules/generated/sklearn.pipeline.Pipeline.html\">?<span>Documentation for Pipeline</span></a><span class=\"sk-estimator-doc-link fitted\">i<span>Fitted</span></span></label><div class=\"sk-toggleable__content fitted\"><pre>Pipeline(steps=[(&#x27;standardscaler&#x27;, StandardScaler()),\n",
       "                (&#x27;mlpclassifier&#x27;,\n",
       "                 MLPClassifier(hidden_layer_sizes=[5], max_iter=10000,\n",
       "                               random_state=42))])</pre></div> </div></div><div class=\"sk-serial\"><div class=\"sk-item\"><div class=\"sk-estimator fitted sk-toggleable\"><input class=\"sk-toggleable__control sk-hidden--visually\" id=\"sk-estimator-id-11\" type=\"checkbox\" ><label for=\"sk-estimator-id-11\" class=\"sk-toggleable__label fitted sk-toggleable__label-arrow fitted\">&nbsp;StandardScaler<a class=\"sk-estimator-doc-link fitted\" rel=\"noreferrer\" target=\"_blank\" href=\"https://scikit-learn.org/1.4/modules/generated/sklearn.preprocessing.StandardScaler.html\">?<span>Documentation for StandardScaler</span></a></label><div class=\"sk-toggleable__content fitted\"><pre>StandardScaler()</pre></div> </div></div><div class=\"sk-item\"><div class=\"sk-estimator fitted sk-toggleable\"><input class=\"sk-toggleable__control sk-hidden--visually\" id=\"sk-estimator-id-12\" type=\"checkbox\" ><label for=\"sk-estimator-id-12\" class=\"sk-toggleable__label fitted sk-toggleable__label-arrow fitted\">&nbsp;MLPClassifier<a class=\"sk-estimator-doc-link fitted\" rel=\"noreferrer\" target=\"_blank\" href=\"https://scikit-learn.org/1.4/modules/generated/sklearn.neural_network.MLPClassifier.html\">?<span>Documentation for MLPClassifier</span></a></label><div class=\"sk-toggleable__content fitted\"><pre>MLPClassifier(hidden_layer_sizes=[5], max_iter=10000, random_state=42)</pre></div> </div></div></div></div></div></div>"
      ],
      "text/plain": [
       "Pipeline(steps=[('standardscaler', StandardScaler()),\n",
       "                ('mlpclassifier',\n",
       "                 MLPClassifier(hidden_layer_sizes=[5], max_iter=10000,\n",
       "                               random_state=42))])"
      ]
     },
     "execution_count": 74,
     "metadata": {},
     "output_type": "execute_result"
    }
   ],
   "source": [
    "# 1. Classify iris flowers\n",
    "\n",
    "from sklearn.datasets import load_iris\n",
    "from sklearn.model_selection import train_test_split\n",
    "from sklearn.neural_network import MLPClassifier\n",
    "\n",
    "iris = load_iris()\n",
    "X_train_full, X_test, y_train_full, y_test = train_test_split(\n",
    "    iris.data, iris.target, test_size=0.1, random_state=42)\n",
    "X_train, X_valid, y_train, y_valid = train_test_split(\n",
    "    X_train_full, y_train_full, test_size=0.1, random_state=42)\n",
    "\n",
    "# 1 hidden layer with 5 neurons\n",
    "mlp_clf = MLPClassifier(hidden_layer_sizes=[5], max_iter=10_000,\n",
    "                        random_state=42)\n",
    "pipeline = make_pipeline(StandardScaler(), mlp_clf)\n",
    "pipeline.fit(X_train, y_train)"
   ]
  },
  {
   "cell_type": "code",
   "execution_count": 75,
   "metadata": {},
   "outputs": [
    {
     "data": {
      "text/plain": [
       "1.0"
      ]
     },
     "execution_count": 75,
     "metadata": {},
     "output_type": "execute_result"
    }
   ],
   "source": [
    "accuracy = pipeline.score(X_valid, y_valid)\n",
    "accuracy"
   ]
  },
  {
   "cell_type": "markdown",
   "metadata": {},
   "source": [
    "Building an Image Classifier Using Keras Sequential API\n",
    "---\n",
    "- Fashion MNIST contains 70,000 grayscale images of 28 × 28 pixels each\n",
    "  - the images represent fashion items\n",
    "    - is more diverse than Digit MNIST\n",
    "  - already shuffled and split into a training set (60,000 images) and a test set (10,000 images)"
   ]
  },
  {
   "cell_type": "code",
   "execution_count": 76,
   "metadata": {},
   "outputs": [],
   "source": [
    "# 1. fetch Fashion MNIST with Keras\n",
    "# We'll use 55,000 images for training, \n",
    "#   and 5,000 for validation both from the training set\n",
    "\n",
    "import tensorflow as tf\n",
    "\n",
    "fashion_mnist = tf.keras.datasets.fashion_mnist.load_data()\n",
    "(X_train_full, y_train_full), (X_test, y_test) = fashion_mnist\n",
    "X_train, y_train = X_train_full[:-5000], y_train_full[:-5000]\n",
    "X_valid, y_valid = X_train_full[-5000:], y_train_full[-5000:]"
   ]
  },
  {
   "cell_type": "code",
   "execution_count": 77,
   "metadata": {},
   "outputs": [
    {
     "data": {
      "text/plain": [
       "((55000, 28, 28),\n",
       " dtype('uint8'),\n",
       " array([0, 1, 2, 3, 4, 5, 6, 7, 8, 9], dtype=uint8))"
      ]
     },
     "execution_count": 77,
     "metadata": {},
     "output_type": "execute_result"
    }
   ],
   "source": [
    "# 2. Each image is grays, 28x28 pixels\n",
    "#    Each pixel intensity is represented as a byte (0 to 255)\n",
    "#    there are 10 classes\n",
    "X_train.shape, X_train.dtype, np.unique(y_train)"
   ]
  },
  {
   "cell_type": "code",
   "execution_count": 78,
   "metadata": {},
   "outputs": [],
   "source": [
    "# 3. scale the pixel intensities down to the 0-1 range and convert them to floats\n",
    "X_train, X_valid, X_test = X_train / 255., X_valid / 255., X_test / 255."
   ]
  },
  {
   "cell_type": "code",
   "execution_count": 79,
   "metadata": {},
   "outputs": [
    {
     "data": {
      "image/png": "[encoded data removed]",
      "text/plain": [
       "<Figure size 1200x600 with 50 Axes>"
      ]
     },
     "metadata": {},
     "output_type": "display_data"
    }
   ],
   "source": [
    "# 4. show the first 50 fashions\n",
    "class_names = [\"T-shirt/top\", \"Trouser\", \"Pullover\", \"Dress\", \"Coat\",\n",
    "               \"Sandal\", \"Shirt\", \"Sneaker\", \"Bag\", \"Ankle boot\"]\n",
    "\n",
    "n_rows = 5\n",
    "n_cols = 10\n",
    "fig3 = plt.figure(figsize=(n_cols * 1.2, n_rows * 1.2))\n",
    "for row in range(n_rows):\n",
    "    for col in range(n_cols):\n",
    "        index = n_cols * row + col\n",
    "        plt.subplot(n_rows, n_cols, index + 1)\n",
    "        plt.imshow(X_train[index], cmap=\"binary\", interpolation=\"nearest\")\n",
    "        plt.axis('off')\n",
    "        plt.title(class_names[y_train[index]])\n",
    "plt.subplots_adjust(wspace=0.2, hspace=0.5)"
   ]
  },
  {
   "cell_type": "code",
   "execution_count": 80,
   "metadata": {},
   "outputs": [],
   "source": [
    "# 5. Build the model using Keras sequential API\n",
    "# 5.1 method 1: build layer by layer\n",
    "\n",
    "# 2) compose a single stack of layers connected sequentially\n",
    "model = tf.keras.Sequential()\n",
    "\n",
    "# 3) 2D (28,28) to 1D (28*28)\n",
    "model.add(tf.keras.layers.InputLayer(input_shape=[28, 28]))\n",
    "model.add(tf.keras.layers.Flatten())\n",
    "\n",
    "# 4) Each Dense layer manages its own weight matrix\n",
    "#     containing all the connection weights and a vector of bias terms\n",
    "#   # of parameters for n neurons:  \n",
    "#       (# of inputs)*n weights + n biases = (#number of inputs + 1)*n\n",
    "#       e.x. for layer `dense`: (784+1)*300 = 235,500\n",
    "\n",
    "model.add(tf.keras.layers.Dense(300, activation=\"relu\"))\n",
    "model.add(tf.keras.layers.Dense(100, activation=\"relu\"))\n",
    "\n",
    "# 5) a Dense output layer with 10 neurons (one per class)\n",
    "model.add(tf.keras.layers.Dense(10, activation=\"softmax\"))\n"
   ]
  },
  {
   "cell_type": "code",
   "execution_count": 81,
   "metadata": {},
   "outputs": [],
   "source": [
    "# 5.2 method 2: pass a list of layers to the Sequential constructor\n",
    "\n",
    "# 1) clear the session to reset the name counters\n",
    "tf.keras.backend.clear_session()\n",
    "\n",
    "model = tf.keras.Sequential([\n",
    "    tf.keras.layers.Flatten(input_shape=[28, 28]),\n",
    "    tf.keras.layers.Dense(300, activation=\"relu\"),\n",
    "    tf.keras.layers.Dense(100, activation=\"relu\"),\n",
    "    tf.keras.layers.Dense(10, activation=\"softmax\")\n",
    "])"
   ]
  },
  {
   "cell_type": "code",
   "execution_count": 82,
   "metadata": {},
   "outputs": [
    {
     "name": "stdout",
     "output_type": "stream",
     "text": [
      "Model: \"sequential\"\n",
      "_________________________________________________________________\n",
      " Layer (type)                Output Shape              Param #   \n",
      "=================================================================\n",
      " flatten (Flatten)           (None, 784)               0         \n",
      "                                                                 \n",
      " dense (Dense)               (None, 300)               235500    \n",
      "                                                                 \n",
      " dense_1 (Dense)             (None, 100)               30100     \n",
      "                                                                 \n",
      " dense_2 (Dense)             (None, 10)                1010      \n",
      "                                                                 \n",
      "=================================================================\n",
      "Total params: 266,610\n",
      "Trainable params: 266,610\n",
      "Non-trainable params: 0\n",
      "_________________________________________________________________\n"
     ]
    }
   ],
   "source": [
    "# 6. summarize the model\n",
    "#   1) `None` in the output shape means the batch size can be anything\n",
    "#   2) the layer name can be set explicitly or leave implicitly \n",
    "#       and must be `unique` across models, \n",
    "#       this makes it possible to merge models without name conflicts\n",
    "\n",
    "model.summary()"
   ]
  },
  {
   "cell_type": "code",
   "execution_count": 83,
   "metadata": {},
   "outputs": [
    {
     "data": {
      "image/png": "[encoded data removed]",
      "text/plain": [
       "<IPython.core.display.Image object>"
      ]
     },
     "execution_count": 83,
     "metadata": {},
     "output_type": "execute_result"
    }
   ],
   "source": [
    "# 7. visualize the model's architecture\n",
    "tf.keras.utils.plot_model(model, show_shapes=True)"
   ]
  },
  {
   "cell_type": "code",
   "execution_count": 84,
   "metadata": {},
   "outputs": [
    {
     "data": {
      "text/plain": [
       "[<keras.layers.core.flatten.Flatten at 0x783543825fa0>,\n",
       " <keras.layers.core.dense.Dense at 0x783501850af0>,\n",
       " <keras.layers.core.dense.Dense at 0x7835018501c0>,\n",
       " <keras.layers.core.dense.Dense at 0x783501896fa0>]"
      ]
     },
     "execution_count": 84,
     "metadata": {},
     "output_type": "execute_result"
    }
   ],
   "source": [
    "# 8. access model layers\n",
    "# 1) access all layers\n",
    "model.layers"
   ]
  },
  {
   "cell_type": "code",
   "execution_count": 85,
   "metadata": {},
   "outputs": [
    {
     "data": {
      "text/plain": [
       "('dense', True)"
      ]
     },
     "execution_count": 85,
     "metadata": {},
     "output_type": "execute_result"
    }
   ],
   "source": [
    "# 2) access a specified layer by index or by name\n",
    "hidden1 = model.layers[1]\n",
    "hidden1.name, model.get_layer('dense') is hidden1"
   ]
  },
  {
   "cell_type": "code",
   "execution_count": 86,
   "metadata": {},
   "outputs": [
    {
     "data": {
      "text/plain": [
       "((784, 300), (300,))"
      ]
     },
     "execution_count": 86,
     "metadata": {},
     "output_type": "execute_result"
    }
   ],
   "source": [
    "# 3) access a layer's weights and biases\n",
    "weights, biases = hidden1.get_weights()\n",
    "weights.shape, biases.shape"
   ]
  },
  {
   "cell_type": "code",
   "execution_count": 87,
   "metadata": {},
   "outputs": [
    {
     "data": {
      "text/plain": [
       "(array([[ 0.02448617, -0.00877795, -0.02189048, ..., -0.02766046,\n",
       "          0.03859074, -0.06889391],\n",
       "        [ 0.00476504, -0.03105379, -0.0586676 , ...,  0.00602964,\n",
       "         -0.02763776, -0.04165364],\n",
       "        [-0.06189284, -0.06901957,  0.07102345, ..., -0.04238207,\n",
       "          0.07121518, -0.07331658],\n",
       "        ...,\n",
       "        [-0.03048757,  0.02155137, -0.05400612, ..., -0.00113463,\n",
       "          0.00228987,  0.05581069],\n",
       "        [ 0.07061854, -0.06960931,  0.07038955, ..., -0.00384101,\n",
       "          0.00034875,  0.02878492],\n",
       "        [-0.06022581,  0.01577859, -0.02585464, ..., -0.00527829,\n",
       "          0.00272203, -0.06793761]], dtype=float32),\n",
       " array([0., 0., 0., 0., 0., 0., 0., 0., 0., 0., 0., 0., 0., 0., 0., 0., 0.,\n",
       "        0., 0., 0., 0., 0., 0., 0., 0., 0., 0., 0., 0., 0., 0., 0., 0., 0.,\n",
       "        0., 0., 0., 0., 0., 0., 0., 0., 0., 0., 0., 0., 0., 0., 0., 0., 0.,\n",
       "        0., 0., 0., 0., 0., 0., 0., 0., 0., 0., 0., 0., 0., 0., 0., 0., 0.,\n",
       "        0., 0., 0., 0., 0., 0., 0., 0., 0., 0., 0., 0., 0., 0., 0., 0., 0.,\n",
       "        0., 0., 0., 0., 0., 0., 0., 0., 0., 0., 0., 0., 0., 0., 0., 0., 0.,\n",
       "        0., 0., 0., 0., 0., 0., 0., 0., 0., 0., 0., 0., 0., 0., 0., 0., 0.,\n",
       "        0., 0., 0., 0., 0., 0., 0., 0., 0., 0., 0., 0., 0., 0., 0., 0., 0.,\n",
       "        0., 0., 0., 0., 0., 0., 0., 0., 0., 0., 0., 0., 0., 0., 0., 0., 0.,\n",
       "        0., 0., 0., 0., 0., 0., 0., 0., 0., 0., 0., 0., 0., 0., 0., 0., 0.,\n",
       "        0., 0., 0., 0., 0., 0., 0., 0., 0., 0., 0., 0., 0., 0., 0., 0., 0.,\n",
       "        0., 0., 0., 0., 0., 0., 0., 0., 0., 0., 0., 0., 0., 0., 0., 0., 0.,\n",
       "        0., 0., 0., 0., 0., 0., 0., 0., 0., 0., 0., 0., 0., 0., 0., 0., 0.,\n",
       "        0., 0., 0., 0., 0., 0., 0., 0., 0., 0., 0., 0., 0., 0., 0., 0., 0.,\n",
       "        0., 0., 0., 0., 0., 0., 0., 0., 0., 0., 0., 0., 0., 0., 0., 0., 0.,\n",
       "        0., 0., 0., 0., 0., 0., 0., 0., 0., 0., 0., 0., 0., 0., 0., 0., 0.,\n",
       "        0., 0., 0., 0., 0., 0., 0., 0., 0., 0., 0., 0., 0., 0., 0., 0., 0.,\n",
       "        0., 0., 0., 0., 0., 0., 0., 0., 0., 0., 0.], dtype=float32))"
      ]
     },
     "execution_count": 87,
     "metadata": {},
     "output_type": "execute_result"
    }
   ],
   "source": [
    "# 4)  the connection weights were initialized randomly\n",
    "#        which is needed to break symmetry\n",
    "#     the biases were initialized to zeros, which is fine\n",
    "# different initialization method can be specified with \n",
    "#   - `kernel_initializer` \n",
    "#       - kernel is another name for the matrix of connection weights\n",
    "#   - bias_initializer``\n",
    "weights, biases"
   ]
  },
  {
   "cell_type": "code",
   "execution_count": 88,
   "metadata": {},
   "outputs": [],
   "source": [
    "# 9. compile the model\n",
    "#  1) specify the `loss` function, the `optimizer` and `metrics`\n",
    "# a) `sparse_categorical_crossentropy` for sparse labels which have \n",
    "#     only one exclusive target class index out of 10 for each instance\n",
    "#     `categorical_crossentropy` is needed for \n",
    "#     one target probability per class for each instance\n",
    "# b) for binary classification or multilabel binary classification\n",
    "#     we need \"sigmoid\" activation function in the output layer\n",
    "#     and the \"binary_crossentropy\" loss\n",
    "\n",
    "model.compile(loss=\"sparse_categorical_crossentropy\",\n",
    "              optimizer=\"sgd\",\n",
    "              metrics=[\"accuracy\"])"
   ]
  },
  {
   "cell_type": "code",
   "execution_count": 89,
   "metadata": {},
   "outputs": [],
   "source": [
    "# 2) equivalent to 1)\n",
    "model.compile(loss=tf.keras.losses.sparse_categorical_crossentropy,\n",
    "              optimizer=tf.keras.optimizers.SGD(),\n",
    "              metrics=[tf.keras.metrics.sparse_categorical_accuracy])"
   ]
  },
  {
   "cell_type": "code",
   "execution_count": 90,
   "metadata": {},
   "outputs": [
    {
     "name": "stdout",
     "output_type": "stream",
     "text": [
      "Epoch 1/30\n",
      " 435/1719 [======>.......................] - ETA: 2s - loss: 1.1144 - sparse_categorical_accuracy: 0.6573"
     ]
    },
    {
     "name": "stdout",
     "output_type": "stream",
     "text": [
      "1719/1719 [==============================] - 3s 2ms/step - loss: 0.7220 - sparse_categorical_accuracy: 0.7647 - val_loss: 0.4961 - val_sparse_categorical_accuracy: 0.8328\n",
      "Epoch 2/30\n",
      "1719/1719 [==============================] - 3s 2ms/step - loss: 0.4825 - sparse_categorical_accuracy: 0.8333 - val_loss: 0.4558 - val_sparse_categorical_accuracy: 0.8390\n",
      "Epoch 3/30\n",
      "1719/1719 [==============================] - 3s 2ms/step - loss: 0.4368 - sparse_categorical_accuracy: 0.8479 - val_loss: 0.4237 - val_sparse_categorical_accuracy: 0.8548\n",
      "Epoch 4/30\n",
      "1719/1719 [==============================] - 3s 2ms/step - loss: 0.4121 - sparse_categorical_accuracy: 0.8559 - val_loss: 0.3967 - val_sparse_categorical_accuracy: 0.8624\n",
      "Epoch 5/30\n",
      "1719/1719 [==============================] - 3s 2ms/step - loss: 0.3910 - sparse_categorical_accuracy: 0.8631 - val_loss: 0.3892 - val_sparse_categorical_accuracy: 0.8612\n",
      "Epoch 6/30\n",
      "1719/1719 [==============================] - 3s 2ms/step - loss: 0.3750 - sparse_categorical_accuracy: 0.8693 - val_loss: 0.3924 - val_sparse_categorical_accuracy: 0.8596\n",
      "Epoch 7/30\n",
      "1719/1719 [==============================] - 3s 2ms/step - loss: 0.3628 - sparse_categorical_accuracy: 0.8709 - val_loss: 0.3715 - val_sparse_categorical_accuracy: 0.8704\n",
      "Epoch 8/30\n",
      "1719/1719 [==============================] - 3s 2ms/step - loss: 0.3515 - sparse_categorical_accuracy: 0.8755 - val_loss: 0.3791 - val_sparse_categorical_accuracy: 0.8610\n",
      "Epoch 9/30\n",
      "1719/1719 [==============================] - 3s 2ms/step - loss: 0.3404 - sparse_categorical_accuracy: 0.8793 - val_loss: 0.3509 - val_sparse_categorical_accuracy: 0.8730\n",
      "Epoch 10/30\n",
      "1719/1719 [==============================] - 3s 2ms/step - loss: 0.3307 - sparse_categorical_accuracy: 0.8812 - val_loss: 0.3544 - val_sparse_categorical_accuracy: 0.8732\n",
      "Epoch 11/30\n",
      "1719/1719 [==============================] - 3s 2ms/step - loss: 0.3222 - sparse_categorical_accuracy: 0.8855 - val_loss: 0.3612 - val_sparse_categorical_accuracy: 0.8700\n",
      "Epoch 12/30\n",
      "1719/1719 [==============================] - 3s 2ms/step - loss: 0.3145 - sparse_categorical_accuracy: 0.8873 - val_loss: 0.3483 - val_sparse_categorical_accuracy: 0.8744\n",
      "Epoch 13/30\n",
      "1719/1719 [==============================] - 3s 2ms/step - loss: 0.3073 - sparse_categorical_accuracy: 0.8906 - val_loss: 0.3281 - val_sparse_categorical_accuracy: 0.8792\n",
      "Epoch 14/30\n",
      "1719/1719 [==============================] - 3s 2ms/step - loss: 0.3003 - sparse_categorical_accuracy: 0.8922 - val_loss: 0.3410 - val_sparse_categorical_accuracy: 0.8770\n",
      "Epoch 15/30\n",
      "1719/1719 [==============================] - 3s 2ms/step - loss: 0.2939 - sparse_categorical_accuracy: 0.8955 - val_loss: 0.3384 - val_sparse_categorical_accuracy: 0.8820\n",
      "Epoch 16/30\n",
      "1719/1719 [==============================] - 3s 2ms/step - loss: 0.2870 - sparse_categorical_accuracy: 0.8975 - val_loss: 0.3263 - val_sparse_categorical_accuracy: 0.8788\n",
      "Epoch 17/30\n",
      "1719/1719 [==============================] - 3s 2ms/step - loss: 0.2825 - sparse_categorical_accuracy: 0.8980 - val_loss: 0.3346 - val_sparse_categorical_accuracy: 0.8780\n",
      "Epoch 18/30\n",
      "1719/1719 [==============================] - 3s 2ms/step - loss: 0.2759 - sparse_categorical_accuracy: 0.9006 - val_loss: 0.3242 - val_sparse_categorical_accuracy: 0.8832\n",
      "Epoch 19/30\n",
      "1719/1719 [==============================] - 3s 2ms/step - loss: 0.2713 - sparse_categorical_accuracy: 0.9031 - val_loss: 0.3485 - val_sparse_categorical_accuracy: 0.8714\n",
      "Epoch 20/30\n",
      "1719/1719 [==============================] - 3s 2ms/step - loss: 0.2665 - sparse_categorical_accuracy: 0.9039 - val_loss: 0.3206 - val_sparse_categorical_accuracy: 0.8814\n",
      "Epoch 21/30\n",
      "1719/1719 [==============================] - 3s 2ms/step - loss: 0.2616 - sparse_categorical_accuracy: 0.9044 - val_loss: 0.3174 - val_sparse_categorical_accuracy: 0.8864\n",
      "Epoch 22/30\n",
      "1719/1719 [==============================] - 3s 2ms/step - loss: 0.2565 - sparse_categorical_accuracy: 0.9069 - val_loss: 0.3121 - val_sparse_categorical_accuracy: 0.8840\n",
      "Epoch 23/30\n",
      "1719/1719 [==============================] - 3s 2ms/step - loss: 0.2521 - sparse_categorical_accuracy: 0.9096 - val_loss: 0.3474 - val_sparse_categorical_accuracy: 0.8738\n",
      "Epoch 24/30\n",
      "1719/1719 [==============================] - 3s 2ms/step - loss: 0.2471 - sparse_categorical_accuracy: 0.9111 - val_loss: 0.3210 - val_sparse_categorical_accuracy: 0.8872\n",
      "Epoch 25/30\n",
      "1719/1719 [==============================] - 3s 2ms/step - loss: 0.2427 - sparse_categorical_accuracy: 0.9123 - val_loss: 0.3163 - val_sparse_categorical_accuracy: 0.8830\n",
      "Epoch 26/30\n",
      "1719/1719 [==============================] - 3s 2ms/step - loss: 0.2393 - sparse_categorical_accuracy: 0.9137 - val_loss: 0.3098 - val_sparse_categorical_accuracy: 0.8860\n",
      "Epoch 27/30\n",
      "1719/1719 [==============================] - 3s 2ms/step - loss: 0.2342 - sparse_categorical_accuracy: 0.9148 - val_loss: 0.3193 - val_sparse_categorical_accuracy: 0.8864\n",
      "Epoch 28/30\n",
      "1719/1719 [==============================] - 3s 2ms/step - loss: 0.2314 - sparse_categorical_accuracy: 0.9166 - val_loss: 0.3085 - val_sparse_categorical_accuracy: 0.8906\n",
      "Epoch 29/30\n",
      "1719/1719 [==============================] - 3s 2ms/step - loss: 0.2266 - sparse_categorical_accuracy: 0.9183 - val_loss: 0.3220 - val_sparse_categorical_accuracy: 0.8844\n",
      "Epoch 30/30\n",
      "1719/1719 [==============================] - 3s 2ms/step - loss: 0.2236 - sparse_categorical_accuracy: 0.9201 - val_loss: 0.3062 - val_sparse_categorical_accuracy: 0.8880\n"
     ]
    }
   ],
   "source": [
    "# 10. train and evaluate the model\n",
    "# ∵ default batch size = 32 instances\n",
    "# ∴ 55000 images result in ⌈55000/32 ⌉ = 1719 batches per epoch\n",
    "# each epoch outputs: \n",
    "#   - the mean training time, \n",
    "#   - the loss and accuracy for both training and validation\n",
    "\n",
    "# 1) the validation data is provided explicitly here\n",
    "#   it can also be provided by setting `validation_split=0.1`\n",
    "#   to use the last 10% of the data\n",
    "history = model.fit(X_train, y_train, epochs=30, validation_data=(X_valid, y_valid))"
   ]
  },
  {
   "cell_type": "markdown",
   "metadata": {},
   "source": [
    "- there is a little bit of overfitting since \n",
    "  - the validation accuracy = 0.8880 < the training accuracy=0.9201\n",
    "- for unbalanced dataset, the `fit()` argument `class_weight` can be used to\n",
    "  - give a larger weight to underrepresented classes \n",
    "  - and a lower weight to overrepresented classes\n",
    "- if samples have different quality, the `fit()` argument `sample_weight` can be used to\n",
    "  - give a larger weight to samples with better quality\n",
    "  - and a lower weight to samples with worse quality\n",
    "- If both `class_weight` and `sample_weight` are provided, then Keras multiplies them\n",
    "- sample weights (but not class weights) can also be applied on the validation set by\n",
    "  - by adding them as a third item in the validation_data tuple"
   ]
  },
  {
   "cell_type": "markdown",
   "metadata": {},
   "source": [
    "- The fit() method returns a `History object` containing\n",
    "  - the training parameters `history.params`\n",
    "  - the list of epochs it went through `history.epoch`\n",
    "  - and a dictionary `history.history` containing \n",
    "    - the loss and extra metrics it measured at the end of each epoch \n",
    "      - on the training set and on the validation set (if any)"
   ]
  },
  {
   "cell_type": "code",
   "execution_count": 91,
   "metadata": {},
   "outputs": [
    {
     "data": {
      "image/png": "[encoded data removed]",
      "text/plain": [
       "<Figure size 800x500 with 1 Axes>"
      ]
     },
     "metadata": {},
     "output_type": "display_data"
    }
   ],
   "source": [
    "# 1. compare training and validations errors and accuracies\n",
    "\n",
    "pd.DataFrame(history.history).plot(\n",
    "    figsize=(8, 5), xlim=[0, 29], ylim=[0, 1], grid=True, xlabel=\"Epoch\",\n",
    "    style=[\"r--\", \"r--.\", \"b-\", \"b-*\"])\n",
    "plt.legend(loc=\"lower left\");\n",
    "plt.title(\"Learning curves: training and validation losses and accuracies vs. epochs\");"
   ]
  },
  {
   "cell_type": "markdown",
   "metadata": {},
   "source": [
    "- The validation error is computed at the end of each epoch, \n",
    "   - while the training error is computed using a running mean during each epoch\n",
    " - so the model looks like it performed better on the validation set than on the training set at the beginning of training, which is NOT true"
   ]
  },
  {
   "cell_type": "code",
   "execution_count": 92,
   "metadata": {},
   "outputs": [
    {
     "name": "stdout",
     "output_type": "stream",
     "text": [
      "  1/313 [..............................] - ETA: 3s - loss: 0.4091 - sparse_categorical_accuracy: 0.9062"
     ]
    },
    {
     "name": "stdout",
     "output_type": "stream",
     "text": [
      "313/313 [==============================] - 0s 1ms/step - loss: 0.3254 - sparse_categorical_accuracy: 0.8839\n"
     ]
    },
    {
     "data": {
      "text/plain": [
       "[0.3253977596759796, 0.883899986743927]"
      ]
     },
     "execution_count": 92,
     "metadata": {},
     "output_type": "execute_result"
    }
   ],
   "source": [
    "# 2. evaluate the model on the test set\n",
    "\n",
    "model.evaluate(X_test, y_test)"
   ]
  },
  {
   "cell_type": "code",
   "execution_count": 93,
   "metadata": {},
   "outputs": [
    {
     "data": {
      "text/plain": [
       "array([[0.  , 0.  , 0.  , 0.  , 0.  , 0.01, 0.  , 0.02, 0.  , 0.97],\n",
       "       [0.  , 0.  , 0.99, 0.  , 0.01, 0.  , 0.  , 0.  , 0.  , 0.  ],\n",
       "       [0.  , 1.  , 0.  , 0.  , 0.  , 0.  , 0.  , 0.  , 0.  , 0.  ],\n",
       "       [0.  , 1.  , 0.  , 0.  , 0.  , 0.  , 0.  , 0.  , 0.  , 0.  ],\n",
       "       [0.23, 0.  , 0.01, 0.  , 0.  , 0.  , 0.76, 0.  , 0.  , 0.  ]],\n",
       "      dtype=float32)"
      ]
     },
     "execution_count": 93,
     "metadata": {},
     "output_type": "execute_result"
    }
   ],
   "source": [
    "# 3. make predictions\n",
    "#   For each instance the model estimates one probability per class, \n",
    "#   from class 0 to class 9\n",
    "numtest = 5\n",
    "X_new, y_new = X_test[:numtest], y_test[:numtest]\n",
    "y_proba = model.predict(X_new)\n",
    "y_proba.round(2)"
   ]
  },
  {
   "cell_type": "code",
   "execution_count": 94,
   "metadata": {},
   "outputs": [
    {
     "data": {
      "text/plain": [
       "(array([9, 2, 1, 1, 6]),\n",
       " array(['Ankle boot', 'Pullover', 'Trouser', 'Trouser', 'Shirt'],\n",
       "       dtype='<U11'))"
      ]
     },
     "execution_count": 94,
     "metadata": {},
     "output_type": "execute_result"
    }
   ],
   "source": [
    "# 2) find the predicted class index and name\n",
    "y_pred = y_proba.argmax(axis=-1)\n",
    "y_pred, np.array(class_names)[y_pred]"
   ]
  },
  {
   "cell_type": "code",
   "execution_count": 95,
   "metadata": {},
   "outputs": [
    {
     "data": {
      "text/plain": [
       "array([ True,  True,  True,  True,  True])"
      ]
     },
     "execution_count": 95,
     "metadata": {},
     "output_type": "execute_result"
    }
   ],
   "source": [
    "# 3) check the prediction\n",
    "y_pred == y_new"
   ]
  },
  {
   "cell_type": "code",
   "execution_count": 96,
   "metadata": {},
   "outputs": [
    {
     "data": {
      "image/png": "[encoded data removed]",
      "text/plain": [
       "<Figure size 720x240 with 5 Axes>"
      ]
     },
     "metadata": {},
     "output_type": "display_data"
    }
   ],
   "source": [
    "# 4) check with naked eyes\n",
    "plt.figure(figsize=(7.2, 2.4))\n",
    "for index, image in enumerate(X_new):\n",
    "    plt.subplot(1, numtest, index + 1)\n",
    "    plt.imshow(image, cmap=\"binary\", interpolation=\"nearest\")\n",
    "    plt.axis('off')\n",
    "    plt.title(class_names[y_test[index]])\n",
    "plt.subplots_adjust(wspace=0.2, hspace=0.5)"
   ]
  },
  {
   "cell_type": "markdown",
   "metadata": {},
   "source": [
    "Building a Regression MLP Using Keras Sequential API\n",
    "---\n",
    "- the process is quite similar to classification MLP\n",
    "- main differences\n",
    "  - the output layer \n",
    "    - uses a single neuron for predicting a single value\n",
    "    - no activation function\n",
    "  - the loss function is mean squared error\n",
    "    - the metric is RMSE\n",
    "    - the optimizer is Adam like the one used in sklearn MLPRegressor\n",
    "  - the first layer is a Normalization layer instead of a Flatten layer\n",
    "    - used to scale the data as sklearn StandardScaler"
   ]
  },
  {
   "cell_type": "code",
   "execution_count": 97,
   "metadata": {},
   "outputs": [],
   "source": [
    "# 1. build a Regression MLP Using Keras Sequential API \n",
    "#   for predicting the California housing prices\n",
    "\n",
    "# 1) load, split and scale the California housing dataset\n",
    "housing = fetch_california_housing()\n",
    "X_train_full, X_test, y_train_full, y_test = train_test_split(\n",
    "    housing.data, housing.target, random_state=42)\n",
    "X_train, X_valid, y_train, y_valid = train_test_split(\n",
    "    X_train_full, y_train_full, random_state=42)"
   ]
  },
  {
   "cell_type": "code",
   "execution_count": 98,
   "metadata": {},
   "outputs": [
    {
     "data": {
      "text/plain": [
       "(11610, 8)"
      ]
     },
     "execution_count": 98,
     "metadata": {},
     "output_type": "execute_result"
    }
   ],
   "source": [
    "X_train.shape"
   ]
  },
  {
   "cell_type": "code",
   "execution_count": 99,
   "metadata": {},
   "outputs": [
    {
     "name": "stdout",
     "output_type": "stream",
     "text": [
      "Epoch 1/20\n",
      " 48/363 [==>...........................] - ETA: 0s - loss: 2.8166 - root_mean_squared_error: 1.6783  "
     ]
    },
    {
     "name": "stdout",
     "output_type": "stream",
     "text": [
      "363/363 [==============================] - 1s 1ms/step - loss: 0.9051 - root_mean_squared_error: 0.9514 - val_loss: 0.4030 - val_root_mean_squared_error: 0.6348\n",
      "Epoch 2/20\n",
      "363/363 [==============================] - 0s 1ms/step - loss: 0.3843 - root_mean_squared_error: 0.6199 - val_loss: 0.8436 - val_root_mean_squared_error: 0.9185\n",
      "Epoch 3/20\n",
      "363/363 [==============================] - 0s 1ms/step - loss: 0.3609 - root_mean_squared_error: 0.6007 - val_loss: 0.3744 - val_root_mean_squared_error: 0.6119\n",
      "Epoch 4/20\n",
      "363/363 [==============================] - 0s 1ms/step - loss: 0.3416 - root_mean_squared_error: 0.5844 - val_loss: 0.4343 - val_root_mean_squared_error: 0.6590\n",
      "Epoch 5/20\n",
      "363/363 [==============================] - 0s 1ms/step - loss: 0.3301 - root_mean_squared_error: 0.5746 - val_loss: 0.3085 - val_root_mean_squared_error: 0.5554\n",
      "Epoch 6/20\n",
      "363/363 [==============================] - 0s 1ms/step - loss: 0.3168 - root_mean_squared_error: 0.5629 - val_loss: 0.4544 - val_root_mean_squared_error: 0.6741\n",
      "Epoch 7/20\n",
      "363/363 [==============================] - 0s 1ms/step - loss: 0.3162 - root_mean_squared_error: 0.5623 - val_loss: 0.2941 - val_root_mean_squared_error: 0.5423\n",
      "Epoch 8/20\n",
      "363/363 [==============================] - 0s 1ms/step - loss: 0.3045 - root_mean_squared_error: 0.5518 - val_loss: 0.3333 - val_root_mean_squared_error: 0.5773\n",
      "Epoch 9/20\n",
      "363/363 [==============================] - 0s 1ms/step - loss: 0.2974 - root_mean_squared_error: 0.5453 - val_loss: 0.3446 - val_root_mean_squared_error: 0.5870\n",
      "Epoch 10/20\n",
      "363/363 [==============================] - 0s 1ms/step - loss: 0.2921 - root_mean_squared_error: 0.5404 - val_loss: 0.2874 - val_root_mean_squared_error: 0.5361\n",
      "Epoch 11/20\n",
      "363/363 [==============================] - 0s 1ms/step - loss: 0.2863 - root_mean_squared_error: 0.5351 - val_loss: 0.4141 - val_root_mean_squared_error: 0.6435\n",
      "Epoch 12/20\n",
      "363/363 [==============================] - 0s 1ms/step - loss: 0.2942 - root_mean_squared_error: 0.5424 - val_loss: 1.0956 - val_root_mean_squared_error: 1.0467\n",
      "Epoch 13/20\n",
      "363/363 [==============================] - 0s 1ms/step - loss: 0.2864 - root_mean_squared_error: 0.5352 - val_loss: 0.3063 - val_root_mean_squared_error: 0.5534\n",
      "Epoch 14/20\n",
      "363/363 [==============================] - 0s 1ms/step - loss: 0.2804 - root_mean_squared_error: 0.5295 - val_loss: 0.2709 - val_root_mean_squared_error: 0.5205\n",
      "Epoch 15/20\n",
      "363/363 [==============================] - 0s 1ms/step - loss: 0.2784 - root_mean_squared_error: 0.5276 - val_loss: 0.3680 - val_root_mean_squared_error: 0.6066\n",
      "Epoch 16/20\n",
      "363/363 [==============================] - 0s 1ms/step - loss: 0.2757 - root_mean_squared_error: 0.5250 - val_loss: 0.2730 - val_root_mean_squared_error: 0.5225\n",
      "Epoch 17/20\n",
      "363/363 [==============================] - 0s 1ms/step - loss: 0.2740 - root_mean_squared_error: 0.5234 - val_loss: 0.3683 - val_root_mean_squared_error: 0.6068\n",
      "Epoch 18/20\n",
      "363/363 [==============================] - 0s 1ms/step - loss: 0.2696 - root_mean_squared_error: 0.5192 - val_loss: 0.4194 - val_root_mean_squared_error: 0.6476\n",
      "Epoch 19/20\n",
      "363/363 [==============================] - 0s 1ms/step - loss: 0.2672 - root_mean_squared_error: 0.5169 - val_loss: 0.7877 - val_root_mean_squared_error: 0.8875\n",
      "Epoch 20/20\n",
      "363/363 [==============================] - 0s 1ms/step - loss: 0.2760 - root_mean_squared_error: 0.5254 - val_loss: 0.2856 - val_root_mean_squared_error: 0.5344\n"
     ]
    }
   ],
   "source": [
    "# 2) build and train a regression MLP\n",
    "# The Normalization layer learns the feature means and standard deviations \n",
    "#   in the training data when you call the adapt() method\n",
    "#   these parameters are not affected by gradient descent \n",
    "#     so they are listed as non-trainable\n",
    "\n",
    "norm_layer = tf.keras.layers.Normalization(input_shape=X_train.shape[1:])\n",
    "model = tf.keras.Sequential([\n",
    "    norm_layer,\n",
    "    tf.keras.layers.Dense(50, activation=\"relu\"),\n",
    "    tf.keras.layers.Dense(50, activation=\"relu\"),\n",
    "    tf.keras.layers.Dense(50, activation=\"relu\"),\n",
    "    tf.keras.layers.Dense(1)\n",
    "])\n",
    "\n",
    "optimizer = tf.keras.optimizers.Adam(learning_rate=1e-3)\n",
    "model.compile(loss=\"mse\", optimizer=optimizer, metrics=[\"RootMeanSquaredError\"])\n",
    "norm_layer.adapt(X_train)\n",
    "history = model.fit(X_train, y_train, epochs=20,\n",
    "                    validation_data=(X_valid, y_valid))"
   ]
  },
  {
   "cell_type": "code",
   "execution_count": 100,
   "metadata": {},
   "outputs": [
    {
     "name": "stdout",
     "output_type": "stream",
     "text": [
      " 78/162 [=============>................] - ETA: 0s - loss: 0.2779 - root_mean_squared_error: 0.5272"
     ]
    },
    {
     "name": "stdout",
     "output_type": "stream",
     "text": [
      "162/162 [==============================] - 0s 617us/step - loss: 0.2812 - root_mean_squared_error: 0.5303\n"
     ]
    }
   ],
   "source": [
    "# 3) evaluate the model\n",
    "mse_test, rmse_test = model.evaluate(X_test, y_test)"
   ]
  },
  {
   "cell_type": "code",
   "execution_count": 101,
   "metadata": {},
   "outputs": [
    {
     "name": "stdout",
     "output_type": "stream",
     "text": [
      "y_new=array([0.477  , 0.458  , 5.00001, 2.186  , 2.78   ])\n",
      "y_pred=array([[0.48159295],\n",
      "       [1.1848724 ],\n",
      "       [4.969157  ],\n",
      "       [2.525544  ],\n",
      "       [2.971431  ]], dtype=float32)\n"
     ]
    }
   ],
   "source": [
    "# 4) make predictions\n",
    "numtest = 5\n",
    "X_new, y_new = X_test[:numtest], y_test[:numtest]\n",
    "y_pred = model.predict(X_new)\n",
    "print(f\"{y_new=}\\n{y_pred=}\")"
   ]
  },
  {
   "cell_type": "markdown",
   "metadata": {},
   "source": [
    "Building Complex Models Using Keras Functional API\n",
    "---\n",
    "- One example of a nonsequential neural network is a `Wide & Deep` neural network (wdnn)\n",
    "  - It connects all or part of the inputs directly to the output layer\n",
    "  - It is able to learn \n",
    "    - both deep patterns (through the deep path) \n",
    "    - and simple rules (through the short path)\n",
    "- ![wdnn](./img/wdnn.png)"
   ]
  },
  {
   "cell_type": "code",
   "execution_count": 102,
   "metadata": {},
   "outputs": [],
   "source": [
    "# 1. build a wdnn to predict the California housing prices\n",
    "# 1) reset the name counters and make the code reproducible\n",
    "tf.keras.backend.clear_session()"
   ]
  },
  {
   "cell_type": "code",
   "execution_count": 103,
   "metadata": {},
   "outputs": [],
   "source": [
    "# 2) build the wdnn\n",
    "\n",
    "# build layers\n",
    "normalization_layer = tf.keras.layers.Normalization()\n",
    "hidden_layer1 = tf.keras.layers.Dense(30, activation=\"relu\")\n",
    "hidden_layer2 = tf.keras.layers.Dense(30, activation=\"relu\")\n",
    "concat_layer = tf.keras.layers.Concatenate()\n",
    "output_layer = tf.keras.layers.Dense(1)\n",
    "\n",
    "# connect layers\n",
    "input_ = tf.keras.layers.Input(shape=X_train.shape[1:])\n",
    "normalized = normalization_layer(input_)\n",
    "hidden1 = hidden_layer1(normalized)\n",
    "hidden2 = hidden_layer2(hidden1)\n",
    "concat = concat_layer([normalized, hidden2])\n",
    "output = output_layer(concat)\n",
    "\n",
    "model = tf.keras.Model(inputs=[input_], outputs=[output])"
   ]
  },
  {
   "cell_type": "code",
   "execution_count": 104,
   "metadata": {},
   "outputs": [
    {
     "name": "stdout",
     "output_type": "stream",
     "text": [
      "Model: \"model\"\n",
      "__________________________________________________________________________________________________\n",
      " Layer (type)                   Output Shape         Param #     Connected to                     \n",
      "==================================================================================================\n",
      " input_1 (InputLayer)           [(None, 8)]          0           []                               \n",
      "                                                                                                  \n",
      " normalization (Normalization)  (None, 8)            17          ['input_1[0][0]']                \n",
      "                                                                                                  \n",
      " dense (Dense)                  (None, 30)           270         ['normalization[0][0]']          \n",
      "                                                                                                  \n",
      " dense_1 (Dense)                (None, 30)           930         ['dense[0][0]']                  \n",
      "                                                                                                  \n",
      " concatenate (Concatenate)      (None, 38)           0           ['normalization[0][0]',          \n",
      "                                                                  'dense_1[0][0]']                \n",
      "                                                                                                  \n",
      " dense_2 (Dense)                (None, 1)            39          ['concatenate[0][0]']            \n",
      "                                                                                                  \n",
      "==================================================================================================\n",
      "Total params: 1,256\n",
      "Trainable params: 1,239\n",
      "Non-trainable params: 17\n",
      "__________________________________________________________________________________________________\n"
     ]
    }
   ],
   "source": [
    "model.summary()"
   ]
  },
  {
   "cell_type": "code",
   "execution_count": 105,
   "metadata": {},
   "outputs": [
    {
     "name": "stdout",
     "output_type": "stream",
     "text": [
      "Epoch 1/20\n",
      "  1/363 [..............................] - ETA: 1:09 - loss: 4.1043 - root_mean_squared_error: 2.0259"
     ]
    },
    {
     "name": "stdout",
     "output_type": "stream",
     "text": [
      "363/363 [==============================] - 1s 1ms/step - loss: 0.8358 - root_mean_squared_error: 0.9142 - val_loss: 0.5117 - val_root_mean_squared_error: 0.7153\n",
      "Epoch 2/20\n",
      "363/363 [==============================] - 0s 1ms/step - loss: 0.4329 - root_mean_squared_error: 0.6579 - val_loss: 0.7802 - val_root_mean_squared_error: 0.8833\n",
      "Epoch 3/20\n",
      "363/363 [==============================] - 0s 1ms/step - loss: 0.3900 - root_mean_squared_error: 0.6245 - val_loss: 0.3525 - val_root_mean_squared_error: 0.5937\n",
      "Epoch 4/20\n",
      "363/363 [==============================] - 0s 1ms/step - loss: 0.3646 - root_mean_squared_error: 0.6038 - val_loss: 0.3524 - val_root_mean_squared_error: 0.5937\n",
      "Epoch 5/20\n",
      "363/363 [==============================] - 0s 1ms/step - loss: 0.3523 - root_mean_squared_error: 0.5935 - val_loss: 0.3285 - val_root_mean_squared_error: 0.5731\n",
      "Epoch 6/20\n",
      "363/363 [==============================] - 0s 1ms/step - loss: 0.3419 - root_mean_squared_error: 0.5847 - val_loss: 0.6086 - val_root_mean_squared_error: 0.7801\n",
      "Epoch 7/20\n",
      "363/363 [==============================] - 0s 1ms/step - loss: 0.3408 - root_mean_squared_error: 0.5838 - val_loss: 1.1025 - val_root_mean_squared_error: 1.0500\n",
      "Epoch 8/20\n",
      "363/363 [==============================] - 0s 1ms/step - loss: 0.3288 - root_mean_squared_error: 0.5734 - val_loss: 2.0927 - val_root_mean_squared_error: 1.4466\n",
      "Epoch 9/20\n",
      "363/363 [==============================] - 0s 1ms/step - loss: 0.3293 - root_mean_squared_error: 0.5739 - val_loss: 2.0999 - val_root_mean_squared_error: 1.4491\n",
      "Epoch 10/20\n",
      "363/363 [==============================] - 0s 1ms/step - loss: 0.3352 - root_mean_squared_error: 0.5789 - val_loss: 1.9001 - val_root_mean_squared_error: 1.3784\n",
      "Epoch 11/20\n",
      "363/363 [==============================] - 0s 1ms/step - loss: 0.3175 - root_mean_squared_error: 0.5635 - val_loss: 0.3529 - val_root_mean_squared_error: 0.5941\n",
      "Epoch 12/20\n",
      "363/363 [==============================] - 0s 1ms/step - loss: 0.3172 - root_mean_squared_error: 0.5632 - val_loss: 1.0082 - val_root_mean_squared_error: 1.0041\n",
      "Epoch 13/20\n",
      "363/363 [==============================] - 0s 1ms/step - loss: 0.3082 - root_mean_squared_error: 0.5552 - val_loss: 0.3278 - val_root_mean_squared_error: 0.5725\n",
      "Epoch 14/20\n",
      "363/363 [==============================] - 0s 1ms/step - loss: 0.3013 - root_mean_squared_error: 0.5489 - val_loss: 0.3712 - val_root_mean_squared_error: 0.6092\n",
      "Epoch 15/20\n",
      "363/363 [==============================] - 0s 1ms/step - loss: 0.3003 - root_mean_squared_error: 0.5480 - val_loss: 0.4342 - val_root_mean_squared_error: 0.6590\n",
      "Epoch 16/20\n",
      "363/363 [==============================] - 0s 1ms/step - loss: 0.2987 - root_mean_squared_error: 0.5466 - val_loss: 0.5071 - val_root_mean_squared_error: 0.7121\n",
      "Epoch 17/20\n",
      "363/363 [==============================] - 0s 1ms/step - loss: 0.3000 - root_mean_squared_error: 0.5477 - val_loss: 0.7155 - val_root_mean_squared_error: 0.8458\n",
      "Epoch 18/20\n",
      "363/363 [==============================] - 0s 1ms/step - loss: 0.2964 - root_mean_squared_error: 0.5444 - val_loss: 1.8597 - val_root_mean_squared_error: 1.3637\n",
      "Epoch 19/20\n",
      "363/363 [==============================] - 0s 1ms/step - loss: 0.3005 - root_mean_squared_error: 0.5482 - val_loss: 0.7703 - val_root_mean_squared_error: 0.8777\n",
      "Epoch 20/20\n",
      "363/363 [==============================] - 0s 1ms/step - loss: 0.2981 - root_mean_squared_error: 0.5460 - val_loss: 1.1052 - val_root_mean_squared_error: 1.0513\n"
     ]
    }
   ],
   "source": [
    "# 3. train the model\n",
    "optimizer = tf.keras.optimizers.Adam(learning_rate=1e-3)\n",
    "model.compile(loss=\"mse\", optimizer=optimizer, metrics=[\"RootMeanSquaredError\"])\n",
    "normalization_layer.adapt(X_train)\n",
    "history = model.fit(X_train, y_train, epochs=20,\n",
    "                    validation_data=(X_valid, y_valid))"
   ]
  },
  {
   "cell_type": "code",
   "execution_count": 106,
   "metadata": {},
   "outputs": [
    {
     "name": "stdout",
     "output_type": "stream",
     "text": [
      " 75/162 [============>.................] - ETA: 0s - loss: 0.3038 - root_mean_squared_error: 0.5512"
     ]
    },
    {
     "name": "stdout",
     "output_type": "stream",
     "text": [
      "162/162 [==============================] - 0s 638us/step - loss: 0.2993 - root_mean_squared_error: 0.5471\n"
     ]
    }
   ],
   "source": [
    "# 4. evaluate the model and make prediction\n",
    "mse_test = model.evaluate(X_test, y_test)\n",
    "y_pred = model.predict(X_new)"
   ]
  },
  {
   "cell_type": "code",
   "execution_count": 107,
   "metadata": {},
   "outputs": [
    {
     "name": "stdout",
     "output_type": "stream",
     "text": [
      "y_pred.flatten()=array([0.44989687, 1.2359425 , 4.592379  , 2.550535  , 2.70434   ],\n",
      "      dtype=float32)\n",
      "y_new=array([0.477  , 0.458  , 5.00001, 2.186  , 2.78   ])\n"
     ]
    }
   ],
   "source": [
    "print(f\"{y_pred.flatten()=}\\n{y_new=}\")"
   ]
  },
  {
   "cell_type": "markdown",
   "metadata": {},
   "source": [
    "Multiple-input WDNN\n",
    "---\n",
    "- separates the features input two subsets\n",
    "  - one subset goes through the wide path\n",
    "  - the other one goes through the deep path\n",
    "- ![miwd](./img/miwd.png)"
   ]
  },
  {
   "cell_type": "code",
   "execution_count": 108,
   "metadata": {},
   "outputs": [],
   "source": [
    "# 1. build a multiple-input WDNN for the California housing problem again\n",
    "#   the California housing dataset has 8 features\n",
    "#   - 5 features through the wide path (features 0 to 4)\n",
    "#   - 6 features through the deep path (features 2 to 7)\n",
    "\n",
    "\n",
    "input_wide = tf.keras.layers.Input(shape=[5])  # 5 features\n",
    "input_deep = tf.keras.layers.Input(shape=[6])  # 6 features \n",
    "norm_layer_wide = tf.keras.layers.Normalization()\n",
    "norm_layer_deep = tf.keras.layers.Normalization()\n",
    "norm_wide = norm_layer_wide(input_wide)\n",
    "norm_deep = norm_layer_deep(input_deep)\n",
    "hidden1 = tf.keras.layers.Dense(30, activation=\"relu\")(norm_deep)\n",
    "hidden2 = tf.keras.layers.Dense(30, activation=\"relu\")(hidden1)\n",
    "concat = tf.keras.layers.concatenate([norm_wide, hidden2])\n",
    "output = tf.keras.layers.Dense(1)(concat)\n",
    "\n",
    "model = tf.keras.Model(inputs=[input_wide, input_deep], outputs=[output])"
   ]
  },
  {
   "cell_type": "code",
   "execution_count": 109,
   "metadata": {},
   "outputs": [
    {
     "name": "stdout",
     "output_type": "stream",
     "text": [
      "Model: \"model_1\"\n",
      "__________________________________________________________________________________________________\n",
      " Layer (type)                   Output Shape         Param #     Connected to                     \n",
      "==================================================================================================\n",
      " input_3 (InputLayer)           [(None, 6)]          0           []                               \n",
      "                                                                                                  \n",
      " normalization_2 (Normalization  (None, 6)           13          ['input_3[0][0]']                \n",
      " )                                                                                                \n",
      "                                                                                                  \n",
      " input_2 (InputLayer)           [(None, 5)]          0           []                               \n",
      "                                                                                                  \n",
      " dense_3 (Dense)                (None, 30)           210         ['normalization_2[0][0]']        \n",
      "                                                                                                  \n",
      " normalization_1 (Normalization  (None, 5)           11          ['input_2[0][0]']                \n",
      " )                                                                                                \n",
      "                                                                                                  \n",
      " dense_4 (Dense)                (None, 30)           930         ['dense_3[0][0]']                \n",
      "                                                                                                  \n",
      " concatenate_1 (Concatenate)    (None, 35)           0           ['normalization_1[0][0]',        \n",
      "                                                                  'dense_4[0][0]']                \n",
      "                                                                                                  \n",
      " dense_5 (Dense)                (None, 1)            36          ['concatenate_1[0][0]']          \n",
      "                                                                                                  \n",
      "==================================================================================================\n",
      "Total params: 1,200\n",
      "Trainable params: 1,176\n",
      "Non-trainable params: 24\n",
      "__________________________________________________________________________________________________\n"
     ]
    }
   ],
   "source": [
    "# 2. compile the model\n",
    "optimizer = tf.keras.optimizers.Adam(learning_rate=1e-3)\n",
    "model.compile(loss=\"mse\", optimizer=optimizer, metrics=[\"RootMeanSquaredError\"])\n",
    "model.summary()"
   ]
  },
  {
   "cell_type": "code",
   "execution_count": 110,
   "metadata": {},
   "outputs": [
    {
     "name": "stdout",
     "output_type": "stream",
     "text": [
      "Epoch 1/20\n",
      "363/363 [==============================] - 1s 1ms/step - loss: 1.2768 - root_mean_squared_error: 1.1300 - val_loss: 0.9497 - val_root_mean_squared_error: 0.9745\n",
      "Epoch 2/20\n",
      "363/363 [==============================] - 0s 1ms/step - loss: 0.4767 - root_mean_squared_error: 0.6904 - val_loss: 1.4311 - val_root_mean_squared_error: 1.1963\n",
      "Epoch 3/20\n",
      "363/363 [==============================] - 0s 1ms/step - loss: 0.4433 - root_mean_squared_error: 0.6658 - val_loss: 0.4258 - val_root_mean_squared_error: 0.6525\n",
      "Epoch 4/20\n",
      "363/363 [==============================] - 0s 1ms/step - loss: 0.4057 - root_mean_squared_error: 0.6370 - val_loss: 0.4009 - val_root_mean_squared_error: 0.6332\n",
      "Epoch 5/20\n",
      "363/363 [==============================] - 0s 1ms/step - loss: 0.3939 - root_mean_squared_error: 0.6276 - val_loss: 1.4774 - val_root_mean_squared_error: 1.2155\n",
      "Epoch 6/20\n",
      "363/363 [==============================] - 0s 1ms/step - loss: 0.3873 - root_mean_squared_error: 0.6223 - val_loss: 2.6819 - val_root_mean_squared_error: 1.6376\n",
      "Epoch 7/20\n",
      "363/363 [==============================] - 0s 1ms/step - loss: 0.3917 - root_mean_squared_error: 0.6259 - val_loss: 3.0769 - val_root_mean_squared_error: 1.7541\n",
      "Epoch 8/20\n",
      "363/363 [==============================] - 0s 1ms/step - loss: 0.3737 - root_mean_squared_error: 0.6113 - val_loss: 3.3294 - val_root_mean_squared_error: 1.8247\n",
      "Epoch 9/20\n",
      "363/363 [==============================] - 0s 1ms/step - loss: 0.3711 - root_mean_squared_error: 0.6092 - val_loss: 2.1121 - val_root_mean_squared_error: 1.4533\n",
      "Epoch 10/20\n",
      "363/363 [==============================] - 0s 1ms/step - loss: 0.3687 - root_mean_squared_error: 0.6072 - val_loss: 1.7401 - val_root_mean_squared_error: 1.3191\n",
      "Epoch 11/20\n",
      "363/363 [==============================] - 0s 1ms/step - loss: 0.3590 - root_mean_squared_error: 0.5992 - val_loss: 0.6135 - val_root_mean_squared_error: 0.7833\n",
      "Epoch 12/20\n",
      "363/363 [==============================] - 0s 1ms/step - loss: 0.3604 - root_mean_squared_error: 0.6003 - val_loss: 1.3951 - val_root_mean_squared_error: 1.1811\n",
      "Epoch 13/20\n",
      "363/363 [==============================] - 0s 1ms/step - loss: 0.3523 - root_mean_squared_error: 0.5936 - val_loss: 0.9416 - val_root_mean_squared_error: 0.9704\n",
      "Epoch 14/20\n",
      "363/363 [==============================] - 0s 1ms/step - loss: 0.3434 - root_mean_squared_error: 0.5860 - val_loss: 0.7882 - val_root_mean_squared_error: 0.8878\n",
      "Epoch 15/20\n",
      "363/363 [==============================] - 0s 1ms/step - loss: 0.3426 - root_mean_squared_error: 0.5853 - val_loss: 0.9335 - val_root_mean_squared_error: 0.9662\n",
      "Epoch 16/20\n",
      "363/363 [==============================] - 0s 1ms/step - loss: 0.3385 - root_mean_squared_error: 0.5818 - val_loss: 1.1535 - val_root_mean_squared_error: 1.0740\n",
      "Epoch 17/20\n",
      "363/363 [==============================] - 0s 1ms/step - loss: 0.3418 - root_mean_squared_error: 0.5847 - val_loss: 1.7548 - val_root_mean_squared_error: 1.3247\n",
      "Epoch 18/20\n",
      "363/363 [==============================] - 0s 1ms/step - loss: 0.3418 - root_mean_squared_error: 0.5846 - val_loss: 2.5106 - val_root_mean_squared_error: 1.5845\n",
      "Epoch 19/20\n",
      "363/363 [==============================] - 0s 1ms/step - loss: 0.3447 - root_mean_squared_error: 0.5871 - val_loss: 1.6444 - val_root_mean_squared_error: 1.2823\n",
      "Epoch 20/20\n",
      "363/363 [==============================] - 0s 1ms/step - loss: 0.3448 - root_mean_squared_error: 0.5872 - val_loss: 1.0261 - val_root_mean_squared_error: 1.0130\n"
     ]
    }
   ],
   "source": [
    "# 3. train the model\n",
    "#  X_train[:, :5] - 5 features through the wide path (features 0 to 4)\n",
    "#  X_train[:, 2:] - 6 features through the deep path (features 2 to 7)\n",
    "X_train_wide, X_train_deep = X_train[:, :5], X_train[:, 2:]\n",
    "X_valid_wide, X_valid_deep = X_valid[:, :5], X_valid[:, 2:]\n",
    "X_test_wide, X_test_deep = X_test[:, :5], X_test[:, 2:]\n",
    "\n",
    "norm_layer_wide.adapt(X_train_wide)\n",
    "norm_layer_deep.adapt(X_train_deep)\n",
    "history = model.fit((X_train_wide, X_train_deep), y_train, epochs=20,\n",
    "                    validation_data=((X_valid_wide, X_valid_deep), y_valid))"
   ]
  },
  {
   "cell_type": "code",
   "execution_count": 111,
   "metadata": {},
   "outputs": [
    {
     "name": "stdout",
     "output_type": "stream",
     "text": [
      " 50/162 [========>.....................] - ETA: 0s - loss: 0.3449 - root_mean_squared_error: 0.5873"
     ]
    },
    {
     "name": "stdout",
     "output_type": "stream",
     "text": [
      "162/162 [==============================] - 0s 876us/step - loss: 0.3383 - root_mean_squared_error: 0.5817\n"
     ]
    }
   ],
   "source": [
    "# 4. evaluate the model and make predictions\n",
    "mse_test = model.evaluate((X_test_wide, X_test_deep), y_test)\n",
    "\n",
    "X_new_wide, X_new_deep = X_test_wide[:numtest], X_test_deep[:numtest]\n",
    "y_pred = model.predict((X_new_wide, X_new_deep))"
   ]
  },
  {
   "cell_type": "code",
   "execution_count": 112,
   "metadata": {},
   "outputs": [
    {
     "name": "stdout",
     "output_type": "stream",
     "text": [
      "y_pred.flatten()=array([0.24496524, 1.1924739 , 3.5039153 , 2.3702316 , 2.7661033 ],\n",
      "      dtype=float32)\n",
      "y_new=array([0.477  , 0.458  , 5.00001, 2.186  , 2.78   ])\n"
     ]
    }
   ],
   "source": [
    "print(f\"{y_pred.flatten()=}\\n{y_new=}\")"
   ]
  },
  {
   "cell_type": "markdown",
   "metadata": {},
   "source": [
    "Multiple-input & multiple output WDNN\n",
    "---\n",
    "- many use cases need multiple outputs\n",
    "  - to locate and classify objects in a picture is \n",
    "    - a task that combines regression and classification\n",
    "  - multitask classification of images of animals\n",
    "    - one output for the animal type and the other one for its gesture\n",
    "  - outputs from different paths through the nn\n",
    "    - e.x. add an auxiliary output for regularization\n",
    "- ![mimo](./img/mimo.png)"
   ]
  },
  {
   "cell_type": "code",
   "execution_count": 113,
   "metadata": {},
   "outputs": [],
   "source": [
    "# 1. Adding an auxiliary output for regularization\n",
    "#   as the figure above\n",
    "tf.keras.backend.clear_session()\n",
    "\n",
    "input_wide = tf.keras.layers.Input(shape=[5], name='input_wide')  \n",
    "input_deep = tf.keras.layers.Input(shape=[6], name='input_deep')  \n",
    "norm_layer_wide = tf.keras.layers.Normalization(name='norm_wide')\n",
    "norm_layer_deep = tf.keras.layers.Normalization(name='norm_deep')\n",
    "norm_wide = norm_layer_wide(input_wide)\n",
    "norm_deep = norm_layer_deep(input_deep)\n",
    "hidden1 = tf.keras.layers.Dense(30, activation=\"relu\", name=\"hidden1\")(norm_deep)\n",
    "hidden2 = tf.keras.layers.Dense(30, activation=\"relu\", name='hidden2')(hidden1)\n",
    "concat = tf.keras.layers.concatenate([norm_wide, hidden2])\n",
    "output = tf.keras.layers.Dense(1, name=\"main_output\")(concat)\n",
    "\n",
    "aux_output = tf.keras.layers.Dense(1, name='aux_output')(hidden2)\n",
    "\n",
    "model = tf.keras.Model(inputs=[input_wide, input_deep],\n",
    "                       outputs=[output, aux_output])"
   ]
  },
  {
   "cell_type": "code",
   "execution_count": 114,
   "metadata": {},
   "outputs": [],
   "source": [
    "# 2. compile the model\n",
    "optimizer = tf.keras.optimizers.Adam(learning_rate=1e-3)\n",
    "\n",
    "#  1) If we pass a single loss, Keras will assume that the same loss \n",
    "#     must be used for all outputs\n",
    "#  2) By default, Keras will compute all the losses and simply add \n",
    "#     them up to get the final loss used for training\n",
    "#  3) it is possible to set all the loss weights when compiling the model\n",
    "#     here we care much more about the main output than about the auxiliary output\n",
    "\n",
    "model.compile(loss=(\"mse\", \"mse\"), loss_weights=(0.9, 0.1), optimizer=optimizer,\n",
    "              metrics=[\"RootMeanSquaredError\"])"
   ]
  },
  {
   "cell_type": "code",
   "execution_count": 115,
   "metadata": {},
   "outputs": [
    {
     "name": "stdout",
     "output_type": "stream",
     "text": [
      "Model: \"model\"\n",
      "__________________________________________________________________________________________________\n",
      " Layer (type)                   Output Shape         Param #     Connected to                     \n",
      "==================================================================================================\n",
      " input_deep (InputLayer)        [(None, 6)]          0           []                               \n",
      "                                                                                                  \n",
      " norm_deep (Normalization)      (None, 6)            13          ['input_deep[0][0]']             \n",
      "                                                                                                  \n",
      " input_wide (InputLayer)        [(None, 5)]          0           []                               \n",
      "                                                                                                  \n",
      " hidden1 (Dense)                (None, 30)           210         ['norm_deep[0][0]']              \n",
      "                                                                                                  \n",
      " norm_wide (Normalization)      (None, 5)            11          ['input_wide[0][0]']             \n",
      "                                                                                                  \n",
      " hidden2 (Dense)                (None, 30)           930         ['hidden1[0][0]']                \n",
      "                                                                                                  \n",
      " concatenate (Concatenate)      (None, 35)           0           ['norm_wide[0][0]',              \n",
      "                                                                  'hidden2[0][0]']                \n",
      "                                                                                                  \n",
      " main_output (Dense)            (None, 1)            36          ['concatenate[0][0]']            \n",
      "                                                                                                  \n",
      " aux_output (Dense)             (None, 1)            31          ['hidden2[0][0]']                \n",
      "                                                                                                  \n",
      "==================================================================================================\n",
      "Total params: 1,231\n",
      "Trainable params: 1,207\n",
      "Non-trainable params: 24\n",
      "__________________________________________________________________________________________________\n"
     ]
    }
   ],
   "source": [
    "model.summary()"
   ]
  },
  {
   "cell_type": "code",
   "execution_count": 116,
   "metadata": {},
   "outputs": [
    {
     "name": "stdout",
     "output_type": "stream",
     "text": [
      "Epoch 1/20\n",
      "363/363 [==============================] - 1s 2ms/step - loss: 1.3490 - main_output_loss: 1.2742 - aux_output_loss: 2.0215 - main_output_root_mean_squared_error: 1.1288 - aux_output_root_mean_squared_error: 1.4218 - val_loss: 1.5415 - val_main_output_loss: 0.9593 - val_aux_output_loss: 6.7806 - val_main_output_root_mean_squared_error: 0.9795 - val_aux_output_root_mean_squared_error: 2.6040\n",
      "Epoch 2/20\n",
      "363/363 [==============================] - 0s 1ms/step - loss: 0.5101 - main_output_loss: 0.4785 - aux_output_loss: 0.7952 - main_output_root_mean_squared_error: 0.6917 - aux_output_root_mean_squared_error: 0.8917 - val_loss: 1.3624 - val_main_output_loss: 1.0094 - val_aux_output_loss: 4.5401 - val_main_output_root_mean_squared_error: 1.0047 - val_aux_output_root_mean_squared_error: 2.1307\n",
      "Epoch 3/20\n",
      "363/363 [==============================] - 0s 1ms/step - loss: 0.4618 - main_output_loss: 0.4404 - aux_output_loss: 0.6546 - main_output_root_mean_squared_error: 0.6636 - aux_output_root_mean_squared_error: 0.8091 - val_loss: 0.5361 - val_main_output_loss: 0.3975 - val_aux_output_loss: 1.7837 - val_main_output_root_mean_squared_error: 0.6305 - val_aux_output_root_mean_squared_error: 1.3355\n",
      "Epoch 4/20\n",
      "363/363 [==============================] - 0s 1ms/step - loss: 0.4252 - main_output_loss: 0.4059 - aux_output_loss: 0.5985 - main_output_root_mean_squared_error: 0.6371 - aux_output_root_mean_squared_error: 0.7736 - val_loss: 0.5182 - val_main_output_loss: 0.4590 - val_aux_output_loss: 1.0517 - val_main_output_root_mean_squared_error: 0.6775 - val_aux_output_root_mean_squared_error: 1.0255\n",
      "Epoch 5/20\n",
      "363/363 [==============================] - 0s 1ms/step - loss: 0.4106 - main_output_loss: 0.3931 - aux_output_loss: 0.5690 - main_output_root_mean_squared_error: 0.6269 - aux_output_root_mean_squared_error: 0.7543 - val_loss: 0.4049 - val_main_output_loss: 0.3588 - val_aux_output_loss: 0.8196 - val_main_output_root_mean_squared_error: 0.5990 - val_aux_output_root_mean_squared_error: 0.9053\n",
      "Epoch 6/20\n",
      "363/363 [==============================] - 0s 1ms/step - loss: 0.3944 - main_output_loss: 0.3780 - aux_output_loss: 0.5424 - main_output_root_mean_squared_error: 0.6148 - aux_output_root_mean_squared_error: 0.7365 - val_loss: 0.4167 - val_main_output_loss: 0.3933 - val_aux_output_loss: 0.6268 - val_main_output_root_mean_squared_error: 0.6272 - val_aux_output_root_mean_squared_error: 0.7917\n",
      "Epoch 7/20\n",
      "363/363 [==============================] - 0s 1ms/step - loss: 0.3835 - main_output_loss: 0.3692 - aux_output_loss: 0.5125 - main_output_root_mean_squared_error: 0.6076 - aux_output_root_mean_squared_error: 0.7159 - val_loss: 0.3663 - val_main_output_loss: 0.3433 - val_aux_output_loss: 0.5738 - val_main_output_root_mean_squared_error: 0.5859 - val_aux_output_root_mean_squared_error: 0.7575\n",
      "Epoch 8/20\n",
      "363/363 [==============================] - 0s 1ms/step - loss: 0.3742 - main_output_loss: 0.3619 - aux_output_loss: 0.4847 - main_output_root_mean_squared_error: 0.6016 - aux_output_root_mean_squared_error: 0.6962 - val_loss: 0.4978 - val_main_output_loss: 0.5019 - val_aux_output_loss: 0.4608 - val_main_output_root_mean_squared_error: 0.7085 - val_aux_output_root_mean_squared_error: 0.6788\n",
      "Epoch 9/20\n",
      "363/363 [==============================] - 0s 1ms/step - loss: 0.3652 - main_output_loss: 0.3545 - aux_output_loss: 0.4622 - main_output_root_mean_squared_error: 0.5954 - aux_output_root_mean_squared_error: 0.6799 - val_loss: 0.4475 - val_main_output_loss: 0.4479 - val_aux_output_loss: 0.4440 - val_main_output_root_mean_squared_error: 0.6692 - val_aux_output_root_mean_squared_error: 0.6663\n",
      "Epoch 10/20\n",
      "363/363 [==============================] - 0s 1ms/step - loss: 0.3659 - main_output_loss: 0.3574 - aux_output_loss: 0.4432 - main_output_root_mean_squared_error: 0.5978 - aux_output_root_mean_squared_error: 0.6657 - val_loss: 0.9578 - val_main_output_loss: 0.9863 - val_aux_output_loss: 0.7013 - val_main_output_root_mean_squared_error: 0.9931 - val_aux_output_root_mean_squared_error: 0.8374\n",
      "Epoch 11/20\n",
      "363/363 [==============================] - 0s 1ms/step - loss: 0.3577 - main_output_loss: 0.3495 - aux_output_loss: 0.4319 - main_output_root_mean_squared_error: 0.5912 - aux_output_root_mean_squared_error: 0.6572 - val_loss: 3.1933 - val_main_output_loss: 3.4427 - val_aux_output_loss: 0.9491 - val_main_output_root_mean_squared_error: 1.8554 - val_aux_output_root_mean_squared_error: 0.9742\n",
      "Epoch 12/20\n",
      "363/363 [==============================] - 0s 1ms/step - loss: 0.4108 - main_output_loss: 0.4075 - aux_output_loss: 0.4406 - main_output_root_mean_squared_error: 0.6383 - aux_output_root_mean_squared_error: 0.6638 - val_loss: 0.4580 - val_main_output_loss: 0.4604 - val_aux_output_loss: 0.4371 - val_main_output_root_mean_squared_error: 0.6785 - val_aux_output_root_mean_squared_error: 0.6611\n",
      "Epoch 13/20\n",
      "363/363 [==============================] - 0s 1ms/step - loss: 0.3536 - main_output_loss: 0.3465 - aux_output_loss: 0.4176 - main_output_root_mean_squared_error: 0.5886 - aux_output_root_mean_squared_error: 0.6462 - val_loss: 0.3420 - val_main_output_loss: 0.3350 - val_aux_output_loss: 0.4045 - val_main_output_root_mean_squared_error: 0.5788 - val_aux_output_root_mean_squared_error: 0.6360\n",
      "Epoch 14/20\n",
      "363/363 [==============================] - 0s 1ms/step - loss: 0.3473 - main_output_loss: 0.3400 - aux_output_loss: 0.4129 - main_output_root_mean_squared_error: 0.5831 - aux_output_root_mean_squared_error: 0.6426 - val_loss: 0.3298 - val_main_output_loss: 0.3202 - val_aux_output_loss: 0.4164 - val_main_output_root_mean_squared_error: 0.5658 - val_aux_output_root_mean_squared_error: 0.6453\n",
      "Epoch 15/20\n",
      "363/363 [==============================] - 0s 1ms/step - loss: 0.3468 - main_output_loss: 0.3402 - aux_output_loss: 0.4056 - main_output_root_mean_squared_error: 0.5833 - aux_output_root_mean_squared_error: 0.6369 - val_loss: 0.3271 - val_main_output_loss: 0.3169 - val_aux_output_loss: 0.4194 - val_main_output_root_mean_squared_error: 0.5629 - val_aux_output_root_mean_squared_error: 0.6476\n",
      "Epoch 16/20\n",
      "363/363 [==============================] - 0s 1ms/step - loss: 0.3411 - main_output_loss: 0.3346 - aux_output_loss: 0.4002 - main_output_root_mean_squared_error: 0.5784 - aux_output_root_mean_squared_error: 0.6326 - val_loss: 0.3374 - val_main_output_loss: 0.3304 - val_aux_output_loss: 0.4001 - val_main_output_root_mean_squared_error: 0.5748 - val_aux_output_root_mean_squared_error: 0.6326\n",
      "Epoch 17/20\n",
      "363/363 [==============================] - 0s 1ms/step - loss: 0.3412 - main_output_loss: 0.3347 - aux_output_loss: 0.3998 - main_output_root_mean_squared_error: 0.5786 - aux_output_root_mean_squared_error: 0.6323 - val_loss: 0.4492 - val_main_output_loss: 0.4429 - val_aux_output_loss: 0.5063 - val_main_output_root_mean_squared_error: 0.6655 - val_aux_output_root_mean_squared_error: 0.7116\n",
      "Epoch 18/20\n",
      "363/363 [==============================] - 0s 1ms/step - loss: 0.3385 - main_output_loss: 0.3321 - aux_output_loss: 0.3962 - main_output_root_mean_squared_error: 0.5763 - aux_output_root_mean_squared_error: 0.6294 - val_loss: 0.3227 - val_main_output_loss: 0.3124 - val_aux_output_loss: 0.4154 - val_main_output_root_mean_squared_error: 0.5589 - val_aux_output_root_mean_squared_error: 0.6445\n",
      "Epoch 19/20\n",
      "363/363 [==============================] - 0s 1ms/step - loss: 0.3360 - main_output_loss: 0.3299 - aux_output_loss: 0.3910 - main_output_root_mean_squared_error: 0.5744 - aux_output_root_mean_squared_error: 0.6253 - val_loss: 0.4205 - val_main_output_loss: 0.4145 - val_aux_output_loss: 0.4741 - val_main_output_root_mean_squared_error: 0.6438 - val_aux_output_root_mean_squared_error: 0.6886\n",
      "Epoch 20/20\n",
      "363/363 [==============================] - 0s 1ms/step - loss: 0.3441 - main_output_loss: 0.3385 - aux_output_loss: 0.3948 - main_output_root_mean_squared_error: 0.5818 - aux_output_root_mean_squared_error: 0.6284 - val_loss: 0.3743 - val_main_output_loss: 0.3697 - val_aux_output_loss: 0.4152 - val_main_output_root_mean_squared_error: 0.6081 - val_aux_output_root_mean_squared_error: 0.6444\n"
     ]
    }
   ],
   "source": [
    "# 3. train the model\n",
    "norm_layer_wide.adapt(X_train_wide)\n",
    "norm_layer_deep.adapt(X_train_deep)\n",
    "history = model.fit(\n",
    "    (X_train_wide, X_train_deep), (y_train, y_train), epochs=20,\n",
    "    validation_data=((X_valid_wide, X_valid_deep), (y_valid, y_valid))\n",
    ")"
   ]
  },
  {
   "cell_type": "code",
   "execution_count": 117,
   "metadata": {},
   "outputs": [
    {
     "name": "stdout",
     "output_type": "stream",
     "text": [
      " 56/162 [=========>....................] - ETA: 0s - loss: 0.3499 - main_output_loss: 0.3450 - aux_output_loss: 0.3943 - main_output_root_mean_squared_error: 0.5873 - aux_output_root_mean_squared_error: 0.6280"
     ]
    },
    {
     "name": "stdout",
     "output_type": "stream",
     "text": [
      "162/162 [==============================] - 0s 875us/step - loss: 0.3387 - main_output_loss: 0.3326 - aux_output_loss: 0.3941 - main_output_root_mean_squared_error: 0.5767 - aux_output_root_mean_squared_error: 0.6278\n"
     ]
    }
   ],
   "source": [
    "# 4. evaluate the model \n",
    "#   1) labels must be provided for each output\n",
    "#       here they predict the same thing so they use the same labels\n",
    "#   2)  the weighted sum of the losses, and all output's losses and metrics\n",
    "#       are returned\n",
    "eval_results = model.evaluate((X_test_wide, X_test_deep), (y_test, y_test))\n",
    "weighted_sum_of_losses, main_loss, aux_loss, main_rmse, aux_rmse = eval_results"
   ]
  },
  {
   "cell_type": "code",
   "execution_count": 118,
   "metadata": {},
   "outputs": [],
   "source": [
    "# 5. make predictions\n",
    "#   1)  the predict() method also returns predictions for each output\n",
    "\n",
    "y_pred_main, y_pred_aux = model.predict((X_new_wide, X_new_deep))"
   ]
  },
  {
   "cell_type": "code",
   "execution_count": 119,
   "metadata": {},
   "outputs": [
    {
     "name": "stdout",
     "output_type": "stream",
     "text": [
      "y_pred_main.flatten()=array([0.40565023, 1.0896994 , 3.507359  , 2.60047   , 2.8410385 ],\n",
      "      dtype=float32)\n",
      "y_pred_aux.flatten()=array([0.28099257, 0.85782826, 3.2172375 , 2.5612469 , 3.1340091 ],\n",
      "      dtype=float32)\n",
      "y_new=array([0.477  , 0.458  , 5.00001, 2.186  , 2.78   ])\n"
     ]
    }
   ],
   "source": [
    "print(f\"{y_pred_main.flatten()=}\\n{y_pred_aux.flatten()=}\\n{y_new=}\")"
   ]
  },
  {
   "cell_type": "code",
   "execution_count": 120,
   "metadata": {},
   "outputs": [
    {
     "data": {
      "text/plain": [
       "{'main_output': array([[0.40565023],\n",
       "        [1.0896994 ],\n",
       "        [3.507359  ],\n",
       "        [2.60047   ],\n",
       "        [2.8410385 ]], dtype=float32),\n",
       " 'aux_output': array([[0.28099257],\n",
       "        [0.85782826],\n",
       "        [3.2172375 ],\n",
       "        [2.5612469 ],\n",
       "        [3.1340091 ]], dtype=float32)}"
      ]
     },
     "execution_count": 120,
     "metadata": {},
     "output_type": "execute_result"
    }
   ],
   "source": [
    "y_pred_tuple = model.predict((X_new_wide, X_new_deep))\n",
    "y_pred = dict(zip(model.output_names, y_pred_tuple))\n",
    "y_pred"
   ]
  },
  {
   "cell_type": "markdown",
   "metadata": {},
   "source": [
    "Building dynamic models using Keras subclassing API\n",
    "---\n",
    "- the models built with Keras sequential API and functional API are `static`\n",
    "  - their structures are determined before training\n",
    "  - they can easily be visualized, debugged, saved, cloned and shared\n",
    "- Subclassing API can build `dynamic` models\n",
    "  - these models have varying shapes involving loops, conditional branching and other dynamic behaviors\n",
    "  - created by subclassing the `Model class`\n",
    "- limitations\n",
    "  - Keras cannot easily inspect the model’s architecture \n",
    "    - which is hidden within the call() method\n",
    "  - the model cannot be cloned using tf.keras.models.clone_model()\n",
    "  - the summary() method only returns a list of layers\n",
    "    - without any information on how they are connected to each other \n",
    "  - Moreover, Keras cannot check types and shapes ahead of time \n",
    "    - so it is easier to make mistakes"
   ]
  },
  {
   "cell_type": "code",
   "execution_count": 121,
   "metadata": {},
   "outputs": [],
   "source": [
    "# 1. subclass Model and create a wdnn dynamically\n",
    "class WideAndDeepModel(tf.keras.Model):\n",
    "    def __init__(self, units=30, activation=\"relu\", **kwargs):\n",
    "        super().__init__(**kwargs)  # needed to support naming the model\n",
    "        self.norm_layer_wide = tf.keras.layers.Normalization()\n",
    "        self.norm_layer_deep = tf.keras.layers.Normalization()\n",
    "        self.hidden1 = tf.keras.layers.Dense(units, activation=activation)\n",
    "        self.hidden2 = tf.keras.layers.Dense(units, activation=activation)\n",
    "        self.main_output = tf.keras.layers.Dense(1)\n",
    "        self.aux_output = tf.keras.layers.Dense(1)\n",
    "        \n",
    "    def call(self, inputs): # dynamic building\n",
    "        input_wide, input_deep = inputs\n",
    "        norm_wide = self.norm_layer_wide(input_wide)\n",
    "        norm_deep = self.norm_layer_deep(input_deep)\n",
    "        hidden1 = self.hidden1(norm_deep)\n",
    "        hidden2 = self.hidden2(hidden1)\n",
    "        concat = tf.keras.layers.concatenate([norm_wide, hidden2])\n",
    "        output = self.main_output(concat)\n",
    "        aux_output = self.aux_output(hidden2)\n",
    "        return output, aux_output\n",
    "\n",
    "model = WideAndDeepModel(30, activation=\"relu\", name=\"my_cool_model\")"
   ]
  },
  {
   "cell_type": "code",
   "execution_count": 122,
   "metadata": {},
   "outputs": [
    {
     "name": "stdout",
     "output_type": "stream",
     "text": [
      "Epoch 1/10\n",
      "363/363 [==============================] - 1s 2ms/step - loss: 1.3490 - output_1_loss: 1.2742 - output_2_loss: 2.0215 - output_1_root_mean_squared_error: 1.1288 - output_2_root_mean_squared_error: 1.4218 - val_loss: 1.5415 - val_output_1_loss: 0.9593 - val_output_2_loss: 6.7806 - val_output_1_root_mean_squared_error: 0.9795 - val_output_2_root_mean_squared_error: 2.6040\n",
      "Epoch 2/10\n",
      "363/363 [==============================] - 0s 1ms/step - loss: 0.5101 - output_1_loss: 0.4785 - output_2_loss: 0.7952 - output_1_root_mean_squared_error: 0.6917 - output_2_root_mean_squared_error: 0.8917 - val_loss: 1.3624 - val_output_1_loss: 1.0094 - val_output_2_loss: 4.5401 - val_output_1_root_mean_squared_error: 1.0047 - val_output_2_root_mean_squared_error: 2.1307\n",
      "Epoch 3/10\n",
      "363/363 [==============================] - 0s 1ms/step - loss: 0.4618 - output_1_loss: 0.4404 - output_2_loss: 0.6546 - output_1_root_mean_squared_error: 0.6636 - output_2_root_mean_squared_error: 0.8091 - val_loss: 0.5361 - val_output_1_loss: 0.3975 - val_output_2_loss: 1.7837 - val_output_1_root_mean_squared_error: 0.6305 - val_output_2_root_mean_squared_error: 1.3355\n",
      "Epoch 4/10\n",
      "363/363 [==============================] - 0s 1ms/step - loss: 0.4252 - output_1_loss: 0.4059 - output_2_loss: 0.5985 - output_1_root_mean_squared_error: 0.6371 - output_2_root_mean_squared_error: 0.7736 - val_loss: 0.5182 - val_output_1_loss: 0.4590 - val_output_2_loss: 1.0517 - val_output_1_root_mean_squared_error: 0.6775 - val_output_2_root_mean_squared_error: 1.0255\n",
      "Epoch 5/10\n",
      "363/363 [==============================] - 0s 1ms/step - loss: 0.4106 - output_1_loss: 0.3931 - output_2_loss: 0.5690 - output_1_root_mean_squared_error: 0.6269 - output_2_root_mean_squared_error: 0.7543 - val_loss: 0.4049 - val_output_1_loss: 0.3588 - val_output_2_loss: 0.8196 - val_output_1_root_mean_squared_error: 0.5990 - val_output_2_root_mean_squared_error: 0.9053\n",
      "Epoch 6/10\n",
      "363/363 [==============================] - 0s 1ms/step - loss: 0.3944 - output_1_loss: 0.3780 - output_2_loss: 0.5424 - output_1_root_mean_squared_error: 0.6148 - output_2_root_mean_squared_error: 0.7365 - val_loss: 0.4167 - val_output_1_loss: 0.3933 - val_output_2_loss: 0.6268 - val_output_1_root_mean_squared_error: 0.6272 - val_output_2_root_mean_squared_error: 0.7917\n",
      "Epoch 7/10\n",
      "363/363 [==============================] - 0s 1ms/step - loss: 0.3835 - output_1_loss: 0.3692 - output_2_loss: 0.5125 - output_1_root_mean_squared_error: 0.6076 - output_2_root_mean_squared_error: 0.7159 - val_loss: 0.3663 - val_output_1_loss: 0.3433 - val_output_2_loss: 0.5738 - val_output_1_root_mean_squared_error: 0.5859 - val_output_2_root_mean_squared_error: 0.7575\n",
      "Epoch 8/10\n",
      "363/363 [==============================] - 0s 1ms/step - loss: 0.3742 - output_1_loss: 0.3619 - output_2_loss: 0.4847 - output_1_root_mean_squared_error: 0.6016 - output_2_root_mean_squared_error: 0.6962 - val_loss: 0.4978 - val_output_1_loss: 0.5019 - val_output_2_loss: 0.4608 - val_output_1_root_mean_squared_error: 0.7085 - val_output_2_root_mean_squared_error: 0.6788\n",
      "Epoch 9/10\n",
      "363/363 [==============================] - 0s 1ms/step - loss: 0.3652 - output_1_loss: 0.3545 - output_2_loss: 0.4622 - output_1_root_mean_squared_error: 0.5954 - output_2_root_mean_squared_error: 0.6799 - val_loss: 0.4475 - val_output_1_loss: 0.4479 - val_output_2_loss: 0.4440 - val_output_1_root_mean_squared_error: 0.6692 - val_output_2_root_mean_squared_error: 0.6663\n",
      "Epoch 10/10\n",
      "363/363 [==============================] - 0s 1ms/step - loss: 0.3659 - output_1_loss: 0.3574 - output_2_loss: 0.4432 - output_1_root_mean_squared_error: 0.5978 - output_2_root_mean_squared_error: 0.6657 - val_loss: 0.9578 - val_output_1_loss: 0.9863 - val_output_2_loss: 0.7013 - val_output_1_root_mean_squared_error: 0.9931 - val_output_2_root_mean_squared_error: 0.8374\n"
     ]
    },
    {
     "data": {
      "image/png": "[encoded data removed]",
      "text/plain": [
       "<IPython.core.display.Image object>"
      ]
     },
     "execution_count": 122,
     "metadata": {},
     "output_type": "execute_result"
    }
   ],
   "source": [
    "# 2. compile the model\n",
    "optimizer = tf.keras.optimizers.Adam(learning_rate=1e-3)\n",
    "model.compile(loss=\"mse\", loss_weights=[0.9, 0.1], optimizer=optimizer,\n",
    "              metrics=[\"RootMeanSquaredError\"])\n",
    "\n",
    "# build the model\n",
    "model.norm_layer_wide.adapt(X_train_wide)\n",
    "model.norm_layer_deep.adapt(X_train_deep)\n",
    "history = model.fit(\n",
    "    (X_train_wide, X_train_deep), (y_train, y_train), epochs=10,\n",
    "    validation_data=((X_valid_wide, X_valid_deep), (y_valid, y_valid)))\n",
    "tf.keras.utils.plot_model(model, show_shapes=True)"
   ]
  },
  {
   "cell_type": "code",
   "execution_count": 123,
   "metadata": {},
   "outputs": [],
   "source": [
    "!rm ./model.png"
   ]
  },
  {
   "cell_type": "code",
   "execution_count": 124,
   "metadata": {},
   "outputs": [
    {
     "name": "stdout",
     "output_type": "stream",
     "text": [
      " 46/162 [=======>......................] - ETA: 0s - loss: 0.3735 - output_1_loss: 0.3658 - output_2_loss: 0.4435 - output_1_root_mean_squared_error: 0.6048 - output_2_root_mean_squared_error: 0.6660"
     ]
    },
    {
     "name": "stdout",
     "output_type": "stream",
     "text": [
      "162/162 [==============================] - 0s 1ms/step - loss: 0.3579 - output_1_loss: 0.3494 - output_2_loss: 0.4345 - output_1_root_mean_squared_error: 0.5911 - output_2_root_mean_squared_error: 0.6592\n"
     ]
    }
   ],
   "source": [
    "# 3. evaluate the model and make predictions\n",
    "eval_results = model.evaluate((X_test_wide, X_test_deep), (y_test, y_test))\n",
    "weighted_sum_of_losses, main_loss, aux_loss, main_rmse, aux_rmse = eval_results\n",
    "y_pred_main, y_pred_aux = model.predict((X_new_wide, X_new_deep))"
   ]
  },
  {
   "cell_type": "markdown",
   "metadata": {},
   "source": [
    "Save and load models\n",
    "---\n",
    "- A trained Keras model can be saved by calling its `save()` method\n",
    "- the popular model file formats include\n",
    "  - TensorFlow’s SavedModel format `save_format=\"tf\"` which is a directory containing several files and subdirectories\n",
    "    - the `saved_model.pb` file contains the model’s architecture and logic in the form of a `serialized computation graph`\n",
    "    - it contains sufficient information for deployment\n",
    "    - the `keras_metadata.pb` file contains extra information needed by Keras\n",
    "    - the `variables subdirectory` contains all the parameter values including \n",
    "      - the connection weights, the biases, the normalization statistics, and the optimizer’s parameters\n",
    "      - possibly split across multiple files if the model is very large\n",
    "    - the `assets directory` may contain extra files, such as data samples, feature names, class names, and so on. It is empty by default.\n",
    "- `save_format=\"h5\"` or using a filename with extensions of .h5, .hdf5, or .keras\n",
    "  - Keras will save the model to a single file using a Keras-specific format based on the HDF5 format\n",
    "- `tf.keras.models.load_model` loads a model\n",
    "- `save_weights()` and `load_weights()` save and load only the parameter values\n",
    "  - perfect for saving quick checkpoints during training large models\n"
   ]
  },
  {
   "cell_type": "code",
   "execution_count": 125,
   "metadata": {},
   "outputs": [
    {
     "name": "stdout",
     "output_type": "stream",
     "text": [
      "INFO:tensorflow:Assets written to: my_keras_model/assets\n",
      "\u001b[01;34m./my_keras_model\u001b[0m\n",
      "├── \u001b[01;34massets\u001b[0m\n",
      "├── \u001b[00mkeras_metadata.pb\u001b[0m\n",
      "├── \u001b[00msaved_model.pb\u001b[0m\n",
      "└── \u001b[01;34mvariables\u001b[0m\n",
      "    ├── \u001b[00mvariables.data-00000-of-00001\u001b[0m\n",
      "    └── \u001b[00mvariables.index\u001b[0m\n",
      "\n",
      "2 directories, 4 files\n"
     ]
    }
   ],
   "source": [
    "# 1. save a model\n",
    "import shutil # remove unneeded models\n",
    "shutil.rmtree(\"my_keras_model\", ignore_errors=True)\n",
    "\n",
    "model.save(\"my_keras_model\", save_format=\"tf\")\n",
    "!tree ./my_keras_model"
   ]
  },
  {
   "cell_type": "code",
   "execution_count": 126,
   "metadata": {},
   "outputs": [],
   "source": [
    "# 2. load a model\n",
    "model = tf.keras.models.load_model(\"my_keras_model\")\n",
    "y_pred_main, y_pred_aux = model.predict((X_new_wide, X_new_deep))"
   ]
  },
  {
   "cell_type": "code",
   "execution_count": 127,
   "metadata": {},
   "outputs": [
    {
     "name": "stdout",
     "output_type": "stream",
     "text": [
      "my_weights.data-00000-of-00001\tmy_weights.index\n"
     ]
    }
   ],
   "source": [
    "# 3. save and load weights\n",
    "model.save_weights(\"my_weights\")\n",
    "model.load_weights(\"my_weights\")\n",
    "\n",
    "!ls my_weights*"
   ]
  },
  {
   "cell_type": "code",
   "execution_count": 128,
   "metadata": {},
   "outputs": [],
   "source": [
    "# clean the generated folders and files\n",
    "!rm -rf my_keras_model\n",
    "!rm -f my_weights* checkpoint"
   ]
  },
  {
   "cell_type": "markdown",
   "metadata": {},
   "source": [
    "Save checkpoints with callbacks\n",
    "---\n",
    "- the `fit()` argument `callbacks`  accepts a list of objects for further processing \n",
    "  - before and after training, each epoch, and each batch\n",
    "  - or at regular intervals during training\n",
    "- there are also callbacks accepted by `evaluate()` and `predict()`"
   ]
  },
  {
   "cell_type": "code",
   "execution_count": 129,
   "metadata": {},
   "outputs": [
    {
     "name": "stdout",
     "output_type": "stream",
     "text": [
      "Epoch 1/10\n"
     ]
    },
    {
     "name": "stdout",
     "output_type": "stream",
     "text": [
      "363/363 [==============================] - 1s 2ms/step - loss: 0.3729 - output_1_loss: 0.3655 - output_2_loss: 0.4389 - output_1_root_mean_squared_error: 0.6046 - output_2_root_mean_squared_error: 0.6625 - val_loss: 0.7680 - val_output_1_loss: 0.7994 - val_output_2_loss: 0.4850 - val_output_1_root_mean_squared_error: 0.8941 - val_output_2_root_mean_squared_error: 0.6964\n",
      "Epoch 2/10\n",
      "363/363 [==============================] - 1s 1ms/step - loss: 0.3594 - output_1_loss: 0.3521 - output_2_loss: 0.4254 - output_1_root_mean_squared_error: 0.5934 - output_2_root_mean_squared_error: 0.6523 - val_loss: 0.6260 - val_output_1_loss: 0.6329 - val_output_2_loss: 0.5632 - val_output_1_root_mean_squared_error: 0.7956 - val_output_2_root_mean_squared_error: 0.7505\n",
      "Epoch 3/10\n",
      "363/363 [==============================] - 0s 1ms/step - loss: 0.3635 - output_1_loss: 0.3572 - output_2_loss: 0.4201 - output_1_root_mean_squared_error: 0.5977 - output_2_root_mean_squared_error: 0.6482 - val_loss: 0.4588 - val_output_1_loss: 0.4607 - val_output_2_loss: 0.4419 - val_output_1_root_mean_squared_error: 0.6787 - val_output_2_root_mean_squared_error: 0.6648\n",
      "Epoch 4/10\n",
      "363/363 [==============================] - 0s 1ms/step - loss: 0.3499 - output_1_loss: 0.3429 - output_2_loss: 0.4126 - output_1_root_mean_squared_error: 0.5856 - output_2_root_mean_squared_error: 0.6423 - val_loss: 0.7351 - val_output_1_loss: 0.7407 - val_output_2_loss: 0.6845 - val_output_1_root_mean_squared_error: 0.8606 - val_output_2_root_mean_squared_error: 0.8273\n",
      "Epoch 5/10\n",
      "363/363 [==============================] - 0s 1ms/step - loss: 0.3531 - output_1_loss: 0.3469 - output_2_loss: 0.4088 - output_1_root_mean_squared_error: 0.5890 - output_2_root_mean_squared_error: 0.6394 - val_loss: 1.7692 - val_output_1_loss: 1.8936 - val_output_2_loss: 0.6495 - val_output_1_root_mean_squared_error: 1.3761 - val_output_2_root_mean_squared_error: 0.8059\n",
      "Epoch 6/10\n",
      "363/363 [==============================] - 0s 1ms/step - loss: 0.3568 - output_1_loss: 0.3513 - output_2_loss: 0.4058 - output_1_root_mean_squared_error: 0.5927 - output_2_root_mean_squared_error: 0.6370 - val_loss: 2.8849 - val_output_1_loss: 2.9917 - val_output_2_loss: 1.9234 - val_output_1_root_mean_squared_error: 1.7297 - val_output_2_root_mean_squared_error: 1.3869\n",
      "Epoch 7/10\n",
      "363/363 [==============================] - 0s 1ms/step - loss: 0.3614 - output_1_loss: 0.3560 - output_2_loss: 0.4107 - output_1_root_mean_squared_error: 0.5966 - output_2_root_mean_squared_error: 0.6408 - val_loss: 0.9072 - val_output_1_loss: 0.9648 - val_output_2_loss: 0.3888 - val_output_1_root_mean_squared_error: 0.9823 - val_output_2_root_mean_squared_error: 0.6235\n",
      "Epoch 8/10\n",
      "363/363 [==============================] - 0s 1ms/step - loss: 0.3437 - output_1_loss: 0.3378 - output_2_loss: 0.3969 - output_1_root_mean_squared_error: 0.5812 - output_2_root_mean_squared_error: 0.6300 - val_loss: 0.9909 - val_output_1_loss: 0.9942 - val_output_2_loss: 0.9619 - val_output_1_root_mean_squared_error: 0.9971 - val_output_2_root_mean_squared_error: 0.9808\n",
      "Epoch 9/10\n",
      "363/363 [==============================] - 0s 1ms/step - loss: 0.3404 - output_1_loss: 0.3340 - output_2_loss: 0.3974 - output_1_root_mean_squared_error: 0.5780 - output_2_root_mean_squared_error: 0.6304 - val_loss: 0.4866 - val_output_1_loss: 0.4966 - val_output_2_loss: 0.3969 - val_output_1_root_mean_squared_error: 0.7047 - val_output_2_root_mean_squared_error: 0.6300\n",
      "Epoch 10/10\n",
      "363/363 [==============================] - 1s 1ms/step - loss: 0.3397 - output_1_loss: 0.3338 - output_2_loss: 0.3931 - output_1_root_mean_squared_error: 0.5777 - output_2_root_mean_squared_error: 0.6270 - val_loss: 0.6540 - val_output_1_loss: 0.6440 - val_output_2_loss: 0.7438 - val_output_1_root_mean_squared_error: 0.8025 - val_output_2_root_mean_squared_error: 0.8624\n"
     ]
    }
   ],
   "source": [
    "# 1. use callback `ModelCheckpoint` to save checkpoints of your model \n",
    "# at regular intervals during training, \n",
    "# by default at the end of each epoch\n",
    "\n",
    "checkpoint_cb = tf.keras.callbacks.ModelCheckpoint(\"my_checkpoints\",\n",
    "                                                   save_weights_only=True)\n",
    "history = model.fit(\n",
    "    (X_train_wide, X_train_deep), (y_train, y_train), epochs=10,\n",
    "    validation_data=((X_valid_wide, X_valid_deep), (y_valid, y_valid)),\n",
    "    callbacks=[checkpoint_cb])"
   ]
  },
  {
   "cell_type": "code",
   "execution_count": 130,
   "metadata": {},
   "outputs": [
    {
     "name": "stdout",
     "output_type": "stream",
     "text": [
      "Epoch 1/100\n",
      " 42/363 [==>...........................] - ETA: 0s - loss: 0.3275 - output_1_loss: 0.3239 - output_2_loss: 0.3602 - output_1_root_mean_squared_error: 0.5691 - output_2_root_mean_squared_error: 0.6002"
     ]
    },
    {
     "name": "stdout",
     "output_type": "stream",
     "text": [
      "363/363 [==============================] - 1s 1ms/step - loss: 0.3370 - output_1_loss: 0.3308 - output_2_loss: 0.3928 - output_1_root_mean_squared_error: 0.5752 - output_2_root_mean_squared_error: 0.6267 - val_loss: 0.5780 - val_output_1_loss: 0.6006 - val_output_2_loss: 0.3748 - val_output_1_root_mean_squared_error: 0.7750 - val_output_2_root_mean_squared_error: 0.6122\n",
      "Epoch 2/100\n",
      "363/363 [==============================] - 0s 1ms/step - loss: 0.3408 - output_1_loss: 0.3351 - output_2_loss: 0.3917 - output_1_root_mean_squared_error: 0.5789 - output_2_root_mean_squared_error: 0.6259 - val_loss: 1.0341 - val_output_1_loss: 1.0437 - val_output_2_loss: 0.9477 - val_output_1_root_mean_squared_error: 1.0216 - val_output_2_root_mean_squared_error: 0.9735\n",
      "Epoch 3/100\n",
      "363/363 [==============================] - 1s 1ms/step - loss: 0.3449 - output_1_loss: 0.3396 - output_2_loss: 0.3933 - output_1_root_mean_squared_error: 0.5827 - output_2_root_mean_squared_error: 0.6271 - val_loss: 0.4975 - val_output_1_loss: 0.5116 - val_output_2_loss: 0.3709 - val_output_1_root_mean_squared_error: 0.7153 - val_output_2_root_mean_squared_error: 0.6090\n",
      "Epoch 4/100\n",
      "363/363 [==============================] - 0s 1ms/step - loss: 0.3373 - output_1_loss: 0.3314 - output_2_loss: 0.3899 - output_1_root_mean_squared_error: 0.5757 - output_2_root_mean_squared_error: 0.6244 - val_loss: 1.1564 - val_output_1_loss: 1.1183 - val_output_2_loss: 1.4989 - val_output_1_root_mean_squared_error: 1.0575 - val_output_2_root_mean_squared_error: 1.2243\n",
      "Epoch 5/100\n",
      "363/363 [==============================] - 0s 1ms/step - loss: 0.3432 - output_1_loss: 0.3378 - output_2_loss: 0.3913 - output_1_root_mean_squared_error: 0.5812 - output_2_root_mean_squared_error: 0.6255 - val_loss: 0.9019 - val_output_1_loss: 0.9489 - val_output_2_loss: 0.4793 - val_output_1_root_mean_squared_error: 0.9741 - val_output_2_root_mean_squared_error: 0.6923\n",
      "Epoch 6/100\n",
      "363/363 [==============================] - 1s 1ms/step - loss: 0.3344 - output_1_loss: 0.3288 - output_2_loss: 0.3849 - output_1_root_mean_squared_error: 0.5734 - output_2_root_mean_squared_error: 0.6204 - val_loss: 0.9738 - val_output_1_loss: 0.9912 - val_output_2_loss: 0.8171 - val_output_1_root_mean_squared_error: 0.9956 - val_output_2_root_mean_squared_error: 0.9039\n",
      "Epoch 7/100\n",
      "363/363 [==============================] - 0s 1ms/step - loss: 0.3333 - output_1_loss: 0.3276 - output_2_loss: 0.3842 - output_1_root_mean_squared_error: 0.5724 - output_2_root_mean_squared_error: 0.6199 - val_loss: 0.4332 - val_output_1_loss: 0.4403 - val_output_2_loss: 0.3686 - val_output_1_root_mean_squared_error: 0.6636 - val_output_2_root_mean_squared_error: 0.6071\n",
      "Epoch 8/100\n",
      "363/363 [==============================] - 1s 1ms/step - loss: 0.3275 - output_1_loss: 0.3218 - output_2_loss: 0.3786 - output_1_root_mean_squared_error: 0.5673 - output_2_root_mean_squared_error: 0.6153 - val_loss: 0.6727 - val_output_1_loss: 0.6759 - val_output_2_loss: 0.6443 - val_output_1_root_mean_squared_error: 0.8221 - val_output_2_root_mean_squared_error: 0.8027\n",
      "Epoch 9/100\n",
      "363/363 [==============================] - 1s 1ms/step - loss: 0.3262 - output_1_loss: 0.3203 - output_2_loss: 0.3792 - output_1_root_mean_squared_error: 0.5659 - output_2_root_mean_squared_error: 0.6158 - val_loss: 0.4074 - val_output_1_loss: 0.4109 - val_output_2_loss: 0.3759 - val_output_1_root_mean_squared_error: 0.6410 - val_output_2_root_mean_squared_error: 0.6131\n",
      "Epoch 10/100\n",
      "363/363 [==============================] - 1s 1ms/step - loss: 0.3276 - output_1_loss: 0.3221 - output_2_loss: 0.3764 - output_1_root_mean_squared_error: 0.5676 - output_2_root_mean_squared_error: 0.6135 - val_loss: 0.7855 - val_output_1_loss: 0.7897 - val_output_2_loss: 0.7479 - val_output_1_root_mean_squared_error: 0.8886 - val_output_2_root_mean_squared_error: 0.8648\n",
      "Epoch 11/100\n",
      "363/363 [==============================] - 0s 1ms/step - loss: 0.3245 - output_1_loss: 0.3190 - output_2_loss: 0.3739 - output_1_root_mean_squared_error: 0.5648 - output_2_root_mean_squared_error: 0.6114 - val_loss: 0.3786 - val_output_1_loss: 0.3799 - val_output_2_loss: 0.3669 - val_output_1_root_mean_squared_error: 0.6163 - val_output_2_root_mean_squared_error: 0.6057\n",
      "Epoch 12/100\n",
      "363/363 [==============================] - 0s 1ms/step - loss: 0.3310 - output_1_loss: 0.3260 - output_2_loss: 0.3766 - output_1_root_mean_squared_error: 0.5710 - output_2_root_mean_squared_error: 0.6137 - val_loss: 0.9792 - val_output_1_loss: 0.9848 - val_output_2_loss: 0.9289 - val_output_1_root_mean_squared_error: 0.9924 - val_output_2_root_mean_squared_error: 0.9638\n",
      "Epoch 13/100\n",
      "363/363 [==============================] - 0s 1ms/step - loss: 0.3259 - output_1_loss: 0.3204 - output_2_loss: 0.3746 - output_1_root_mean_squared_error: 0.5661 - output_2_root_mean_squared_error: 0.6121 - val_loss: 0.3825 - val_output_1_loss: 0.3847 - val_output_2_loss: 0.3630 - val_output_1_root_mean_squared_error: 0.6202 - val_output_2_root_mean_squared_error: 0.6025\n",
      "Epoch 14/100\n",
      "363/363 [==============================] - 0s 1ms/step - loss: 0.3208 - output_1_loss: 0.3151 - output_2_loss: 0.3725 - output_1_root_mean_squared_error: 0.5613 - output_2_root_mean_squared_error: 0.6103 - val_loss: 0.3915 - val_output_1_loss: 0.3691 - val_output_2_loss: 0.5933 - val_output_1_root_mean_squared_error: 0.6076 - val_output_2_root_mean_squared_error: 0.7703\n",
      "Epoch 15/100\n",
      "363/363 [==============================] - 0s 1ms/step - loss: 0.3203 - output_1_loss: 0.3150 - output_2_loss: 0.3680 - output_1_root_mean_squared_error: 0.5612 - output_2_root_mean_squared_error: 0.6066 - val_loss: 0.4160 - val_output_1_loss: 0.4205 - val_output_2_loss: 0.3757 - val_output_1_root_mean_squared_error: 0.6485 - val_output_2_root_mean_squared_error: 0.6129\n",
      "Epoch 16/100\n",
      "363/363 [==============================] - 0s 1ms/step - loss: 0.3180 - output_1_loss: 0.3126 - output_2_loss: 0.3672 - output_1_root_mean_squared_error: 0.5591 - output_2_root_mean_squared_error: 0.6060 - val_loss: 0.6247 - val_output_1_loss: 0.6346 - val_output_2_loss: 0.5353 - val_output_1_root_mean_squared_error: 0.7966 - val_output_2_root_mean_squared_error: 0.7317\n",
      "Epoch 17/100\n",
      "363/363 [==============================] - 0s 1ms/step - loss: 0.3209 - output_1_loss: 0.3157 - output_2_loss: 0.3685 - output_1_root_mean_squared_error: 0.5618 - output_2_root_mean_squared_error: 0.6070 - val_loss: 0.5812 - val_output_1_loss: 0.6019 - val_output_2_loss: 0.3951 - val_output_1_root_mean_squared_error: 0.7758 - val_output_2_root_mean_squared_error: 0.6286\n",
      "Epoch 18/100\n",
      "363/363 [==============================] - 0s 1ms/step - loss: 0.3175 - output_1_loss: 0.3123 - output_2_loss: 0.3647 - output_1_root_mean_squared_error: 0.5588 - output_2_root_mean_squared_error: 0.6039 - val_loss: 1.3874 - val_output_1_loss: 1.4275 - val_output_2_loss: 1.0271 - val_output_1_root_mean_squared_error: 1.1948 - val_output_2_root_mean_squared_error: 1.0135\n",
      "Epoch 19/100\n",
      "363/363 [==============================] - 0s 1ms/step - loss: 0.3197 - output_1_loss: 0.3148 - output_2_loss: 0.3631 - output_1_root_mean_squared_error: 0.5611 - output_2_root_mean_squared_error: 0.6026 - val_loss: 0.6636 - val_output_1_loss: 0.6915 - val_output_2_loss: 0.4124 - val_output_1_root_mean_squared_error: 0.8316 - val_output_2_root_mean_squared_error: 0.6422\n",
      "Epoch 20/100\n",
      "363/363 [==============================] - 0s 1ms/step - loss: 0.3185 - output_1_loss: 0.3135 - output_2_loss: 0.3631 - output_1_root_mean_squared_error: 0.5599 - output_2_root_mean_squared_error: 0.6026 - val_loss: 0.6861 - val_output_1_loss: 0.6761 - val_output_2_loss: 0.7757 - val_output_1_root_mean_squared_error: 0.8223 - val_output_2_root_mean_squared_error: 0.8807\n",
      "Epoch 21/100\n",
      "363/363 [==============================] - 0s 1ms/step - loss: 0.3160 - output_1_loss: 0.3111 - output_2_loss: 0.3605 - output_1_root_mean_squared_error: 0.5577 - output_2_root_mean_squared_error: 0.6004 - val_loss: 0.3495 - val_output_1_loss: 0.3488 - val_output_2_loss: 0.3559 - val_output_1_root_mean_squared_error: 0.5906 - val_output_2_root_mean_squared_error: 0.5966\n",
      "Epoch 22/100\n",
      "363/363 [==============================] - 1s 1ms/step - loss: 0.3108 - output_1_loss: 0.3059 - output_2_loss: 0.3554 - output_1_root_mean_squared_error: 0.5531 - output_2_root_mean_squared_error: 0.5962 - val_loss: 0.4607 - val_output_1_loss: 0.4481 - val_output_2_loss: 0.5737 - val_output_1_root_mean_squared_error: 0.6694 - val_output_2_root_mean_squared_error: 0.7575\n",
      "Epoch 23/100\n",
      "363/363 [==============================] - 0s 1ms/step - loss: 0.3085 - output_1_loss: 0.3034 - output_2_loss: 0.3544 - output_1_root_mean_squared_error: 0.5508 - output_2_root_mean_squared_error: 0.5954 - val_loss: 0.3267 - val_output_1_loss: 0.3155 - val_output_2_loss: 0.4273 - val_output_1_root_mean_squared_error: 0.5617 - val_output_2_root_mean_squared_error: 0.6537\n",
      "Epoch 24/100\n",
      "363/363 [==============================] - 0s 1ms/step - loss: 0.3134 - output_1_loss: 0.3083 - output_2_loss: 0.3589 - output_1_root_mean_squared_error: 0.5553 - output_2_root_mean_squared_error: 0.5990 - val_loss: 0.7099 - val_output_1_loss: 0.7072 - val_output_2_loss: 0.7349 - val_output_1_root_mean_squared_error: 0.8409 - val_output_2_root_mean_squared_error: 0.8573\n",
      "Epoch 25/100\n",
      "363/363 [==============================] - 0s 1ms/step - loss: 0.3098 - output_1_loss: 0.3050 - output_2_loss: 0.3526 - output_1_root_mean_squared_error: 0.5523 - output_2_root_mean_squared_error: 0.5938 - val_loss: 0.3366 - val_output_1_loss: 0.3331 - val_output_2_loss: 0.3683 - val_output_1_root_mean_squared_error: 0.5771 - val_output_2_root_mean_squared_error: 0.6069\n",
      "Epoch 26/100\n",
      "363/363 [==============================] - 0s 1ms/step - loss: 0.3088 - output_1_loss: 0.3040 - output_2_loss: 0.3521 - output_1_root_mean_squared_error: 0.5514 - output_2_root_mean_squared_error: 0.5934 - val_loss: 1.0851 - val_output_1_loss: 1.0791 - val_output_2_loss: 1.1383 - val_output_1_root_mean_squared_error: 1.0388 - val_output_2_root_mean_squared_error: 1.0669\n",
      "Epoch 27/100\n",
      "363/363 [==============================] - 0s 1ms/step - loss: 0.3075 - output_1_loss: 0.3027 - output_2_loss: 0.3510 - output_1_root_mean_squared_error: 0.5502 - output_2_root_mean_squared_error: 0.5924 - val_loss: 0.4314 - val_output_1_loss: 0.4328 - val_output_2_loss: 0.4190 - val_output_1_root_mean_squared_error: 0.6578 - val_output_2_root_mean_squared_error: 0.6473\n",
      "Epoch 28/100\n",
      "363/363 [==============================] - 0s 1ms/step - loss: 0.3079 - output_1_loss: 0.3032 - output_2_loss: 0.3507 - output_1_root_mean_squared_error: 0.5506 - output_2_root_mean_squared_error: 0.5922 - val_loss: 0.7130 - val_output_1_loss: 0.7167 - val_output_2_loss: 0.6794 - val_output_1_root_mean_squared_error: 0.8466 - val_output_2_root_mean_squared_error: 0.8242\n",
      "Epoch 29/100\n",
      "363/363 [==============================] - 0s 1ms/step - loss: 0.3109 - output_1_loss: 0.3058 - output_2_loss: 0.3564 - output_1_root_mean_squared_error: 0.5530 - output_2_root_mean_squared_error: 0.5970 - val_loss: 0.6094 - val_output_1_loss: 0.6254 - val_output_2_loss: 0.4649 - val_output_1_root_mean_squared_error: 0.7909 - val_output_2_root_mean_squared_error: 0.6818\n",
      "Epoch 30/100\n",
      "363/363 [==============================] - 0s 1ms/step - loss: 0.3074 - output_1_loss: 0.3027 - output_2_loss: 0.3496 - output_1_root_mean_squared_error: 0.5502 - output_2_root_mean_squared_error: 0.5912 - val_loss: 0.5099 - val_output_1_loss: 0.5106 - val_output_2_loss: 0.5038 - val_output_1_root_mean_squared_error: 0.7145 - val_output_2_root_mean_squared_error: 0.7098\n",
      "Epoch 31/100\n",
      "363/363 [==============================] - 0s 1ms/step - loss: 0.3041 - output_1_loss: 0.2992 - output_2_loss: 0.3481 - output_1_root_mean_squared_error: 0.5470 - output_2_root_mean_squared_error: 0.5900 - val_loss: 0.3017 - val_output_1_loss: 0.2967 - val_output_2_loss: 0.3459 - val_output_1_root_mean_squared_error: 0.5447 - val_output_2_root_mean_squared_error: 0.5882\n",
      "Epoch 32/100\n",
      "363/363 [==============================] - 0s 1ms/step - loss: 0.2993 - output_1_loss: 0.2945 - output_2_loss: 0.3430 - output_1_root_mean_squared_error: 0.5427 - output_2_root_mean_squared_error: 0.5857 - val_loss: 0.3125 - val_output_1_loss: 0.3048 - val_output_2_loss: 0.3813 - val_output_1_root_mean_squared_error: 0.5521 - val_output_2_root_mean_squared_error: 0.6175\n",
      "Epoch 33/100\n",
      "363/363 [==============================] - 0s 1ms/step - loss: 0.2994 - output_1_loss: 0.2946 - output_2_loss: 0.3435 - output_1_root_mean_squared_error: 0.5427 - output_2_root_mean_squared_error: 0.5861 - val_loss: 0.3002 - val_output_1_loss: 0.2954 - val_output_2_loss: 0.3432 - val_output_1_root_mean_squared_error: 0.5435 - val_output_2_root_mean_squared_error: 0.5858\n",
      "Epoch 34/100\n",
      "363/363 [==============================] - 0s 1ms/step - loss: 0.2985 - output_1_loss: 0.2937 - output_2_loss: 0.3416 - output_1_root_mean_squared_error: 0.5419 - output_2_root_mean_squared_error: 0.5844 - val_loss: 0.3564 - val_output_1_loss: 0.3468 - val_output_2_loss: 0.4424 - val_output_1_root_mean_squared_error: 0.5889 - val_output_2_root_mean_squared_error: 0.6651\n",
      "Epoch 35/100\n",
      "363/363 [==============================] - 1s 1ms/step - loss: 0.3013 - output_1_loss: 0.2964 - output_2_loss: 0.3446 - output_1_root_mean_squared_error: 0.5445 - output_2_root_mean_squared_error: 0.5870 - val_loss: 0.3513 - val_output_1_loss: 0.3513 - val_output_2_loss: 0.3507 - val_output_1_root_mean_squared_error: 0.5927 - val_output_2_root_mean_squared_error: 0.5922\n",
      "Epoch 36/100\n",
      "363/363 [==============================] - 0s 1ms/step - loss: 0.2979 - output_1_loss: 0.2931 - output_2_loss: 0.3415 - output_1_root_mean_squared_error: 0.5414 - output_2_root_mean_squared_error: 0.5844 - val_loss: 0.4946 - val_output_1_loss: 0.4857 - val_output_2_loss: 0.5748 - val_output_1_root_mean_squared_error: 0.6969 - val_output_2_root_mean_squared_error: 0.7581\n",
      "Epoch 37/100\n",
      "363/363 [==============================] - 0s 1ms/step - loss: 0.2981 - output_1_loss: 0.2933 - output_2_loss: 0.3408 - output_1_root_mean_squared_error: 0.5416 - output_2_root_mean_squared_error: 0.5838 - val_loss: 0.4280 - val_output_1_loss: 0.4345 - val_output_2_loss: 0.3696 - val_output_1_root_mean_squared_error: 0.6592 - val_output_2_root_mean_squared_error: 0.6079\n",
      "Epoch 38/100\n",
      "363/363 [==============================] - 0s 1ms/step - loss: 0.2983 - output_1_loss: 0.2936 - output_2_loss: 0.3412 - output_1_root_mean_squared_error: 0.5418 - output_2_root_mean_squared_error: 0.5841 - val_loss: 1.6059 - val_output_1_loss: 1.4894 - val_output_2_loss: 2.6552 - val_output_1_root_mean_squared_error: 1.2204 - val_output_2_root_mean_squared_error: 1.6295\n",
      "Epoch 39/100\n",
      "363/363 [==============================] - 0s 1ms/step - loss: 0.3078 - output_1_loss: 0.3031 - output_2_loss: 0.3501 - output_1_root_mean_squared_error: 0.5506 - output_2_root_mean_squared_error: 0.5917 - val_loss: 0.5919 - val_output_1_loss: 0.6035 - val_output_2_loss: 0.4875 - val_output_1_root_mean_squared_error: 0.7768 - val_output_2_root_mean_squared_error: 0.6982\n",
      "Epoch 40/100\n",
      "363/363 [==============================] - 1s 1ms/step - loss: 0.2969 - output_1_loss: 0.2922 - output_2_loss: 0.3384 - output_1_root_mean_squared_error: 0.5406 - output_2_root_mean_squared_error: 0.5817 - val_loss: 0.5250 - val_output_1_loss: 0.5316 - val_output_2_loss: 0.4656 - val_output_1_root_mean_squared_error: 0.7291 - val_output_2_root_mean_squared_error: 0.6823\n",
      "Epoch 41/100\n",
      "363/363 [==============================] - 0s 1ms/step - loss: 0.2976 - output_1_loss: 0.2930 - output_2_loss: 0.3385 - output_1_root_mean_squared_error: 0.5413 - output_2_root_mean_squared_error: 0.5818 - val_loss: 0.2920 - val_output_1_loss: 0.2868 - val_output_2_loss: 0.3388 - val_output_1_root_mean_squared_error: 0.5356 - val_output_2_root_mean_squared_error: 0.5821\n",
      "Epoch 42/100\n",
      "363/363 [==============================] - 0s 1ms/step - loss: 0.2931 - output_1_loss: 0.2885 - output_2_loss: 0.3350 - output_1_root_mean_squared_error: 0.5371 - output_2_root_mean_squared_error: 0.5788 - val_loss: 0.3576 - val_output_1_loss: 0.3534 - val_output_2_loss: 0.3956 - val_output_1_root_mean_squared_error: 0.5945 - val_output_2_root_mean_squared_error: 0.6289\n",
      "Epoch 43/100\n",
      "363/363 [==============================] - 0s 1ms/step - loss: 0.2927 - output_1_loss: 0.2880 - output_2_loss: 0.3353 - output_1_root_mean_squared_error: 0.5366 - output_2_root_mean_squared_error: 0.5791 - val_loss: 0.2956 - val_output_1_loss: 0.2898 - val_output_2_loss: 0.3474 - val_output_1_root_mean_squared_error: 0.5384 - val_output_2_root_mean_squared_error: 0.5894\n",
      "Epoch 44/100\n",
      "363/363 [==============================] - 0s 1ms/step - loss: 0.2973 - output_1_loss: 0.2927 - output_2_loss: 0.3387 - output_1_root_mean_squared_error: 0.5410 - output_2_root_mean_squared_error: 0.5820 - val_loss: 0.3750 - val_output_1_loss: 0.3694 - val_output_2_loss: 0.4248 - val_output_1_root_mean_squared_error: 0.6078 - val_output_2_root_mean_squared_error: 0.6518\n",
      "Epoch 45/100\n",
      "363/363 [==============================] - 0s 1ms/step - loss: 0.2958 - output_1_loss: 0.2914 - output_2_loss: 0.3357 - output_1_root_mean_squared_error: 0.5398 - output_2_root_mean_squared_error: 0.5794 - val_loss: 0.5831 - val_output_1_loss: 0.6020 - val_output_2_loss: 0.4127 - val_output_1_root_mean_squared_error: 0.7759 - val_output_2_root_mean_squared_error: 0.6424\n",
      "Epoch 46/100\n",
      "363/363 [==============================] - 0s 1ms/step - loss: 0.2949 - output_1_loss: 0.2903 - output_2_loss: 0.3362 - output_1_root_mean_squared_error: 0.5388 - output_2_root_mean_squared_error: 0.5798 - val_loss: 3.7820 - val_output_1_loss: 3.4455 - val_output_2_loss: 6.8102 - val_output_1_root_mean_squared_error: 1.8562 - val_output_2_root_mean_squared_error: 2.6096\n",
      "Epoch 47/100\n",
      "363/363 [==============================] - 0s 1ms/step - loss: 0.2942 - output_1_loss: 0.2896 - output_2_loss: 0.3356 - output_1_root_mean_squared_error: 0.5382 - output_2_root_mean_squared_error: 0.5793 - val_loss: 0.7536 - val_output_1_loss: 0.7696 - val_output_2_loss: 0.6097 - val_output_1_root_mean_squared_error: 0.8772 - val_output_2_root_mean_squared_error: 0.7808\n",
      "Epoch 48/100\n",
      "363/363 [==============================] - 0s 1ms/step - loss: 0.2955 - output_1_loss: 0.2910 - output_2_loss: 0.3353 - output_1_root_mean_squared_error: 0.5395 - output_2_root_mean_squared_error: 0.5791 - val_loss: 0.5891 - val_output_1_loss: 0.5902 - val_output_2_loss: 0.5797 - val_output_1_root_mean_squared_error: 0.7682 - val_output_2_root_mean_squared_error: 0.7614\n",
      "Epoch 49/100\n",
      "363/363 [==============================] - 0s 1ms/step - loss: 0.2925 - output_1_loss: 0.2880 - output_2_loss: 0.3324 - output_1_root_mean_squared_error: 0.5367 - output_2_root_mean_squared_error: 0.5765 - val_loss: 0.3276 - val_output_1_loss: 0.3261 - val_output_2_loss: 0.3411 - val_output_1_root_mean_squared_error: 0.5711 - val_output_2_root_mean_squared_error: 0.5841\n",
      "Epoch 50/100\n",
      "363/363 [==============================] - 0s 1ms/step - loss: 0.2901 - output_1_loss: 0.2856 - output_2_loss: 0.3307 - output_1_root_mean_squared_error: 0.5344 - output_2_root_mean_squared_error: 0.5751 - val_loss: 0.3038 - val_output_1_loss: 0.2951 - val_output_2_loss: 0.3816 - val_output_1_root_mean_squared_error: 0.5433 - val_output_2_root_mean_squared_error: 0.6177\n",
      "Epoch 51/100\n",
      "363/363 [==============================] - 0s 1ms/step - loss: 0.2893 - output_1_loss: 0.2848 - output_2_loss: 0.3304 - output_1_root_mean_squared_error: 0.5336 - output_2_root_mean_squared_error: 0.5748 - val_loss: 0.2993 - val_output_1_loss: 0.2956 - val_output_2_loss: 0.3334 - val_output_1_root_mean_squared_error: 0.5437 - val_output_2_root_mean_squared_error: 0.5774\n"
     ]
    }
   ],
   "source": [
    "# 2. to stop training at the moment with best performance using callback `EarlyStopping`\n",
    "#  It will interrupt training when it measures no progress on the validation set \n",
    "#   for a number of epochs (defined by the `patience` argument),\n",
    "# The EarlyStopping callback will store the weights of the best model in RAM, \n",
    "# and it will restore them for you at the end of training.\n",
    "\n",
    "early_stopping_cb = tf.keras.callbacks.EarlyStopping(patience=10,\n",
    "                                                     restore_best_weights=True)\n",
    "history = model.fit(\n",
    "    (X_train_wide, X_train_deep), (y_train, y_train), epochs=100,\n",
    "    validation_data=((X_valid_wide, X_valid_deep), (y_valid, y_valid)),\n",
    "    callbacks=[checkpoint_cb, early_stopping_cb])"
   ]
  },
  {
   "cell_type": "code",
   "execution_count": 131,
   "metadata": {},
   "outputs": [
    {
     "name": "stdout",
     "output_type": "stream",
     "text": [
      "Epoch=0, val/train=1.06\n",
      "Epoch=1, val/train=1.03\n",
      "Epoch=2, val/train=0.99\n",
      "Epoch=3, val/train=1.07\n",
      "Epoch=4, val/train=1.24\n",
      "Epoch=5, val/train=2.33\n",
      "Epoch=6, val/train=1.10\n",
      "Epoch=7, val/train=0.98\n",
      "Epoch=8, val/train=1.11\n",
      "Epoch=9, val/train=1.00\n"
     ]
    }
   ],
   "source": [
    "# 3. show the comparison between validation loss and training loss \n",
    "# by subclassing class `Callback` and override the callbacks you want\n",
    "# 1) training callbacks called by `fit()`: \n",
    "#   on_train_begin(), on_train_end(), on_epoch_begin(), on_epoch_end(), \n",
    "#   on_batch_begin(), and on_batch_end()\n",
    "# 2) evaluation callbacks called by `evaluate()`:\n",
    "#   on_test_begin(), on_test_end(), on_test_batch_begin(), or on_test_batch_end()\n",
    "# 3) prediction callbacks called by `predict()`\n",
    "#   on_predict_begin(), on_predict_end(), on_predict_batch_begin(), or on_predict_batch_end()\n",
    "# for further info, refer to `tf.keras.callbacks package`\n",
    "\n",
    "class PrintValTrainRatioCallback(tf.keras.callbacks.Callback):\n",
    "    def on_epoch_end(self, epoch, logs):\n",
    "        ratio = logs[\"val_loss\"] / logs[\"loss\"]\n",
    "        print(f\"Epoch={epoch}, val/train={ratio:.2f}\")\n",
    "        \n",
    "val_train_ratio_cb = PrintValTrainRatioCallback()\n",
    "history = model.fit(\n",
    "    (X_train_wide, X_train_deep), (y_train, y_train), epochs=10,\n",
    "    validation_data=((X_valid_wide, X_valid_deep), (y_valid, y_valid)),\n",
    "    callbacks=[val_train_ratio_cb], verbose=0)        "
   ]
  },
  {
   "cell_type": "markdown",
   "metadata": {},
   "source": [
    "Visualization with TensorBoard\n",
    "---\n",
    "With TensorBoard, you can interactively \n",
    "-  view the learning curves during training\n",
    "-  compare curves and metrics between multiple runs\n",
    "-  visualize the computation graph\n",
    "-  analyze training statistics\n",
    "-  view images generated by your model\n",
    "-  visualize complex multidimensional data projected down to 3D and automatically clustered for you\n",
    "-  profile your network (i.e., measure its speed to identify bottlenecks), etc.\n"
   ]
  },
  {
   "cell_type": "markdown",
   "metadata": {},
   "source": [
    "How TensorBoard works?\n",
    "---\n",
    "- ML programs output binary logfiles called `event files`\n",
    "  - Each binary data record is called a `summary`\n",
    "- The TensorBoard server monitors the log directory\n",
    "  - automatically picks up the changes and updates the visualization"
   ]
  },
  {
   "cell_type": "code",
   "execution_count": 132,
   "metadata": {},
   "outputs": [],
   "source": [
    "# 1. TensorBoard is installed automatically with TensorFlow\n",
    "#  but to visualize profiling data, ` tensorboard-plugin-profile` is needed\n",
    "if \"google.colab\" in sys.modules:\n",
    "  %pip install -q -U tensorboard-plugin-profile"
   ]
  },
  {
   "cell_type": "code",
   "execution_count": 133,
   "metadata": {},
   "outputs": [],
   "source": [
    "# 2.  you want to point the TensorBoard server to a root log directory \n",
    "# and configure your program so that \n",
    "# it writes to a different subdirectory every time it runs\n",
    "\n",
    "shutil.rmtree(\"my_logs\", ignore_errors=True)\n",
    "from pathlib import Path\n",
    "from time import strftime\n",
    "\n",
    "def get_run_logdir(root_logdir=\"my_logs\"):\n",
    "    return Path(root_logdir) / strftime(\"run_%Y_%m_%d_%H_%M_%S\")\n",
    "\n",
    "run_logdir = get_run_logdir()"
   ]
  },
  {
   "cell_type": "code",
   "execution_count": 134,
   "metadata": {},
   "outputs": [
    {
     "name": "stderr",
     "output_type": "stream",
     "text": [
      "2024-03-11 14:13:29.755796: I tensorflow/core/profiler/lib/profiler_session.cc:110] Profiler session initializing.\n",
      "2024-03-11 14:13:29.755831: I tensorflow/core/profiler/lib/profiler_session.cc:125] Profiler session started.\n",
      "2024-03-11 14:13:29.756517: I tensorflow/core/profiler/lib/profiler_session.cc:143] Profiler session tear down.\n"
     ]
    },
    {
     "name": "stdout",
     "output_type": "stream",
     "text": [
      "Epoch 1/20\n",
      "200/363 [===============>..............] - ETA: 0s - loss: 2.6568 - root_mean_squared_error: 1.6300"
     ]
    },
    {
     "name": "stderr",
     "output_type": "stream",
     "text": [
      "2024-03-11 14:13:30.038549: I tensorflow/core/profiler/lib/profiler_session.cc:110] Profiler session initializing.\n",
      "2024-03-11 14:13:30.038583: I tensorflow/core/profiler/lib/profiler_session.cc:125] Profiler session started.\n",
      "2024-03-11 14:13:30.132156: I tensorflow/core/profiler/lib/profiler_session.cc:67] Profiler session collecting data.\n",
      "2024-03-11 14:13:30.144326: I tensorflow/core/profiler/lib/profiler_session.cc:143] Profiler session tear down.\n",
      "2024-03-11 14:13:30.169358: I tensorflow/core/profiler/rpc/client/save_profile.cc:136] Creating directory: my_logs/run_2024_03_11_14_13_29/plugins/profile/2024_03_11_14_13_30\n",
      "\n",
      "2024-03-11 14:13:30.187172: I tensorflow/core/profiler/rpc/client/save_profile.cc:142] Dumped gzipped tool data for trace.json.gz to my_logs/run_2024_03_11_14_13_29/plugins/profile/2024_03_11_14_13_30/wolongtan.trace.json.gz\n",
      "2024-03-11 14:13:30.198656: I tensorflow/core/profiler/rpc/client/save_profile.cc:136] Creating directory: my_logs/run_2024_03_11_14_13_29/plugins/profile/2024_03_11_14_13_30\n",
      "\n",
      "2024-03-11 14:13:30.198810: I tensorflow/core/profiler/rpc/client/save_profile.cc:142] Dumped gzipped tool data for memory_profile.json.gz to my_logs/run_2024_03_11_14_13_29/plugins/profile/2024_03_11_14_13_30/wolongtan.memory_profile.json.gz\n",
      "2024-03-11 14:13:30.199582: I tensorflow/core/profiler/rpc/client/capture_profile.cc:251] Creating directory: my_logs/run_2024_03_11_14_13_29/plugins/profile/2024_03_11_14_13_30\n",
      "Dumped tool data for xplane.pb to my_logs/run_2024_03_11_14_13_29/plugins/profile/2024_03_11_14_13_30/wolongtan.xplane.pb\n",
      "Dumped tool data for overview_page.pb to my_logs/run_2024_03_11_14_13_29/plugins/profile/2024_03_11_14_13_30/wolongtan.overview_page.pb\n",
      "Dumped tool data for input_pipeline.pb to my_logs/run_2024_03_11_14_13_29/plugins/profile/2024_03_11_14_13_30/wolongtan.input_pipeline.pb\n",
      "Dumped tool data for tensorflow_stats.pb to my_logs/run_2024_03_11_14_13_29/plugins/profile/2024_03_11_14_13_30/wolongtan.tensorflow_stats.pb\n",
      "Dumped tool data for kernel_stats.pb to my_logs/run_2024_03_11_14_13_29/plugins/profile/2024_03_11_14_13_30/wolongtan.kernel_stats.pb\n",
      "\n"
     ]
    },
    {
     "name": "stdout",
     "output_type": "stream",
     "text": [
      "363/363 [==============================] - 1s 1ms/step - loss: 1.8866 - root_mean_squared_error: 1.3736 - val_loss: 0.7126 - val_root_mean_squared_error: 0.8442\n",
      "Epoch 2/20\n",
      "363/363 [==============================] - 0s 974us/step - loss: 0.6577 - root_mean_squared_error: 0.8110 - val_loss: 0.6880 - val_root_mean_squared_error: 0.8295\n",
      "Epoch 3/20\n",
      "363/363 [==============================] - 0s 965us/step - loss: 0.5934 - root_mean_squared_error: 0.7703 - val_loss: 0.5803 - val_root_mean_squared_error: 0.7618\n",
      "Epoch 4/20\n",
      "363/363 [==============================] - 0s 953us/step - loss: 0.5557 - root_mean_squared_error: 0.7455 - val_loss: 0.5166 - val_root_mean_squared_error: 0.7188\n",
      "Epoch 5/20\n",
      "363/363 [==============================] - 0s 954us/step - loss: 0.5272 - root_mean_squared_error: 0.7261 - val_loss: 0.4895 - val_root_mean_squared_error: 0.6997\n",
      "Epoch 6/20\n",
      "363/363 [==============================] - 0s 968us/step - loss: 0.5033 - root_mean_squared_error: 0.7094 - val_loss: 0.4951 - val_root_mean_squared_error: 0.7036\n",
      "Epoch 7/20\n",
      "363/363 [==============================] - 0s 962us/step - loss: 0.4854 - root_mean_squared_error: 0.6967 - val_loss: 0.4862 - val_root_mean_squared_error: 0.6973\n",
      "Epoch 8/20\n",
      "363/363 [==============================] - 0s 1ms/step - loss: 0.4709 - root_mean_squared_error: 0.6862 - val_loss: 0.4554 - val_root_mean_squared_error: 0.6748\n",
      "Epoch 9/20\n",
      "363/363 [==============================] - 0s 979us/step - loss: 0.4578 - root_mean_squared_error: 0.6766 - val_loss: 0.4413 - val_root_mean_squared_error: 0.6643\n",
      "Epoch 10/20\n",
      "363/363 [==============================] - 0s 966us/step - loss: 0.4474 - root_mean_squared_error: 0.6689 - val_loss: 0.4379 - val_root_mean_squared_error: 0.6617\n",
      "Epoch 11/20\n",
      "363/363 [==============================] - 0s 963us/step - loss: 0.4393 - root_mean_squared_error: 0.6628 - val_loss: 0.4396 - val_root_mean_squared_error: 0.6630\n",
      "Epoch 12/20\n",
      "363/363 [==============================] - 0s 836us/step - loss: 0.4318 - root_mean_squared_error: 0.6571 - val_loss: 0.4505 - val_root_mean_squared_error: 0.6712\n",
      "Epoch 13/20\n",
      "363/363 [==============================] - 0s 841us/step - loss: 0.4260 - root_mean_squared_error: 0.6527 - val_loss: 0.3997 - val_root_mean_squared_error: 0.6322\n",
      "Epoch 14/20\n",
      "363/363 [==============================] - 0s 987us/step - loss: 0.4202 - root_mean_squared_error: 0.6482 - val_loss: 0.3956 - val_root_mean_squared_error: 0.6290\n",
      "Epoch 15/20\n",
      "363/363 [==============================] - 0s 971us/step - loss: 0.4155 - root_mean_squared_error: 0.6446 - val_loss: 0.3916 - val_root_mean_squared_error: 0.6258\n",
      "Epoch 16/20\n",
      "363/363 [==============================] - 0s 974us/step - loss: 0.4112 - root_mean_squared_error: 0.6412 - val_loss: 0.3937 - val_root_mean_squared_error: 0.6275\n",
      "Epoch 17/20\n",
      "363/363 [==============================] - 0s 875us/step - loss: 0.4077 - root_mean_squared_error: 0.6385 - val_loss: 0.3809 - val_root_mean_squared_error: 0.6172\n",
      "Epoch 18/20\n",
      "363/363 [==============================] - 0s 1ms/step - loss: 0.4039 - root_mean_squared_error: 0.6356 - val_loss: 0.3793 - val_root_mean_squared_error: 0.6159\n",
      "Epoch 19/20\n",
      "363/363 [==============================] - 0s 970us/step - loss: 0.4004 - root_mean_squared_error: 0.6328 - val_loss: 0.3850 - val_root_mean_squared_error: 0.6205\n",
      "Epoch 20/20\n",
      "363/363 [==============================] - 0s 960us/step - loss: 0.3980 - root_mean_squared_error: 0.6308 - val_loss: 0.3810 - val_root_mean_squared_error: 0.6172\n"
     ]
    }
   ],
   "source": [
    "# 3. Keras `TensorBoard()` callback can \n",
    "# - create the log directory, event files and write summaries during training\n",
    "# - measure your model’s training and validation loss and metrics\n",
    "# - profile your neural network\n",
    "\n",
    "# 1) build a regression nn for visualization demo\n",
    "tf.keras.backend.clear_session()\n",
    "\n",
    "norm_layer = tf.keras.layers.Normalization(input_shape=X_train.shape[1:])\n",
    "model = tf.keras.Sequential([\n",
    "    norm_layer,\n",
    "    tf.keras.layers.Dense(30, activation=\"relu\"),\n",
    "    tf.keras.layers.Dense(30, activation=\"relu\"),\n",
    "    tf.keras.layers.Dense(1)\n",
    "])\n",
    "optimizer = tf.keras.optimizers.SGD(learning_rate=1e-3)\n",
    "model.compile(loss=\"mse\", optimizer=optimizer, metrics=[\"RootMeanSquaredError\"])\n",
    "norm_layer.adapt(X_train)\n",
    "\n",
    "# 2) setup Keras `TensorBoard()` callback\n",
    "tensorboard_cb = tf.keras.callbacks.TensorBoard(run_logdir,\n",
    "                                                profile_batch=(100, 200))\n",
    "history = model.fit(X_train, y_train, epochs=20,\n",
    "                    validation_data=(X_valid, y_valid),\n",
    "                    callbacks=[tensorboard_cb])"
   ]
  },
  {
   "cell_type": "code",
   "execution_count": 135,
   "metadata": {},
   "outputs": [
    {
     "name": "stdout",
     "output_type": "stream",
     "text": [
      "\u001b[01;34mmy_logs/\u001b[0m\n",
      "└── \u001b[01;34mrun_2024_03_11_14_13_29\u001b[0m\n",
      "    ├── \u001b[00mevents.out.tfevents.1710180810.wolongtan.profile-empty\u001b[0m\n",
      "    ├── \u001b[01;34mplugins\u001b[0m\n",
      "    │   └── \u001b[01;34mprofile\u001b[0m\n",
      "    │       └── \u001b[01;34m2024_03_11_14_13_30\u001b[0m\n",
      "    │           ├── \u001b[00mwolongtan.input_pipeline.pb\u001b[0m\n",
      "    │           ├── \u001b[00mwolongtan.kernel_stats.pb\u001b[0m\n",
      "    │           ├── \u001b[01;31mwolongtan.memory_profile.json.gz\u001b[0m\n",
      "    │           ├── \u001b[00mwolongtan.overview_page.pb\u001b[0m\n",
      "    │           ├── \u001b[00mwolongtan.tensorflow_stats.pb\u001b[0m\n",
      "    │           ├── \u001b[01;31mwolongtan.trace.json.gz\u001b[0m\n",
      "    │           └── \u001b[00mwolongtan.xplane.pb\u001b[0m\n",
      "    ├── \u001b[01;34mtrain\u001b[0m\n",
      "    │   └── \u001b[00mevents.out.tfevents.1710180809.wolongtan.3449.0.v2\u001b[0m\n",
      "    └── \u001b[01;34mvalidation\u001b[0m\n",
      "        └── \u001b[00mevents.out.tfevents.1710180810.wolongtan.3449.1.v2\u001b[0m\n",
      "\n",
      "6 directories, 10 files\n"
     ]
    }
   ],
   "source": [
    "# 3) check the generated logfiles\n",
    "!tree my_logs/"
   ]
  },
  {
   "cell_type": "code",
   "execution_count": 136,
   "metadata": {},
   "outputs": [
    {
     "data": {
      "text/html": [
       "\n",
       "      <iframe id=\"tensorboard-frame-f5a92d0c9f8f5ccc\" width=\"100%\" height=\"800\" frameborder=\"0\">\n",
       "      </iframe>\n",
       "      <script>\n",
       "        (function() {\n",
       "          const frame = document.getElementById(\"tensorboard-frame-f5a92d0c9f8f5ccc\");\n",
       "          const url = new URL(\"/\", window.location);\n",
       "          const port = 6006;\n",
       "          if (port) {\n",
       "            url.port = port;\n",
       "          }\n",
       "          frame.src = url;\n",
       "        })();\n",
       "      </script>\n",
       "    "
      ],
      "text/plain": [
       "<IPython.core.display.HTML object>"
      ]
     },
     "metadata": {},
     "output_type": "display_data"
    }
   ],
   "source": [
    "# 4) load the `tensorboard` Jupyter extension \n",
    "%load_ext tensorboard\n",
    "\n",
    "#  starts a TensorBoard server for the my_logs directory\n",
    "%tensorboard --logdir=./my_logs\n"
   ]
  },
  {
   "cell_type": "code",
   "execution_count": 137,
   "metadata": {},
   "outputs": [
    {
     "data": {
      "text/html": [
       "<a href=\"http://localhost:6006/\">http://localhost:6006/</a>"
      ],
      "text/plain": [
       "<IPython.core.display.HTML object>"
      ]
     },
     "metadata": {},
     "output_type": "display_data"
    }
   ],
   "source": [
    "# 5) access TensorBoard in a separate tab, click the \"localhost:6006\" link below:\n",
    "import sys\n",
    "if \"google.colab\" in sys.modules:\n",
    "    from google.colab import output\n",
    "\n",
    "    output.serve_kernel_port_as_window(6006)\n",
    "else:\n",
    "    from IPython.display import display, HTML\n",
    "\n",
    "    display(HTML('<a href=\"http://localhost:6006/\">http://localhost:6006/</a>'))"
   ]
  },
  {
   "cell_type": "code",
   "execution_count": 138,
   "metadata": {},
   "outputs": [],
   "source": [
    "# 6) Log histograms, images, text, and audio using\n",
    "# TensorFlow lower-level API in the tf.summary package\n",
    "# which can be visualized in TensorBoard \n",
    "# click the refresh button in TensorBoard to see what happened?\n",
    "\n",
    "test_logdir = get_run_logdir()\n",
    "writer = tf.summary.create_file_writer(str(test_logdir))\n",
    "with writer.as_default():\n",
    "    for step in range(1, 1000 + 1):\n",
    "        tf.summary.scalar(\"my_scalar\", np.sin(step / 10), step=step)\n",
    "        \n",
    "        data = (np.random.randn(100) + 2) * step / 100  # gets larger\n",
    "        tf.summary.histogram(\"my_hist\", data, buckets=50, step=step)\n",
    "        \n",
    "        images = np.random.rand(2, 32, 32, 3) * step / 1000  # gets brighter\n",
    "        tf.summary.image(\"my_images\", images, step=step)\n",
    "        \n",
    "        texts = [\"The step is \" + str(step), \"Its square is \" + str(step ** 2)]\n",
    "        tf.summary.text(\"my_text\", texts, step=step)\n",
    "        \n",
    "        sine_wave = tf.math.sin(tf.range(12000) / 48000 * 2 * np.pi * step)\n",
    "        audio = tf.reshape(tf.cast(sine_wave, tf.float32), [1, -1, 1])\n",
    "        tf.summary.audio(\"my_audio\", audio, sample_rate=48000, step=step)"
   ]
  },
  {
   "cell_type": "code",
   "execution_count": 139,
   "metadata": {},
   "outputs": [
    {
     "name": "stdout",
     "output_type": "stream",
     "text": [
      "Known TensorBoard instances:\n",
      "  - port 6006: logdir ./my_logs (started 0:00:07 ago; pid 12670)\n"
     ]
    }
   ],
   "source": [
    "# 7) find and kill the TensorBoard server process if no longer used\n",
    "from tensorboard import notebook\n",
    "\n",
    "notebook.list()"
   ]
  },
  {
   "cell_type": "code",
   "execution_count": null,
   "metadata": {},
   "outputs": [],
   "source": [
    "# !kill 120670"
   ]
  },
  {
   "cell_type": "markdown",
   "metadata": {},
   "source": [
    "Fine-Tune Neural Network Hyperparameters such as\n",
    "---\n",
    "- the number of layers\n",
    "- the number of neurons and the type of activation function to use in each layer\n",
    "- the weight initialization logic\n",
    "- the type of optimizer to use\n",
    "- its learning rate, the batch size, etc.\n",
    "\n",
    "two ways:\n",
    "- convert your Keras model to a Scikit-Learn estimator\n",
    "  - use the `KerasRegressor` and `KerasClassifier` wrapper classes from [the `SciKeras` library](https://github.com/adriangb/scikeras)\n",
    "  - then use GridSearchCV or RandomizedSearchCV to finetune the hyperparameters\n",
    "- use the Keras Tuner library on your Keras models directly"
   ]
  },
  {
   "cell_type": "code",
   "execution_count": 141,
   "metadata": {},
   "outputs": [],
   "source": [
    "# 1. install `keras-tuner`\n",
    "if \"google.colab\" in sys.modules:\n",
    "    %pip install -q -U keras-tuner"
   ]
  },
  {
   "cell_type": "code",
   "execution_count": 142,
   "metadata": {},
   "outputs": [],
   "source": [
    "import keras_tuner as kt"
   ]
  },
  {
   "cell_type": "code",
   "execution_count": 143,
   "metadata": {},
   "outputs": [],
   "source": [
    "# 2. use the Fashion MNIST dataset again\n",
    "(X_train_full, y_train_full), (X_test, y_test) = fashion_mnist\n",
    "X_train, y_train = X_train_full[:-5000], y_train_full[:-5000]\n",
    "X_valid, y_valid = X_train_full[-5000:], y_train_full[-5000:]\n",
    "\n",
    "tf.keras.backend.clear_session()"
   ]
  },
  {
   "cell_type": "code",
   "execution_count": 144,
   "metadata": {},
   "outputs": [],
   "source": [
    "# 3. determine the hyperparameters and their ranges to try\n",
    "#   4 sets of hyperparameters:\n",
    "# - number of hidden layers (n_hidden), \n",
    "# - the number of neurons perlayer (n_neurons), \n",
    "# - the learning rate (learning_rate), \n",
    "# - the type of optimizer to use (optimizer)\n",
    "\n",
    "def build_model(hp:  kt.HyperParameters):\n",
    "    # register hyperparameters and their ranges\n",
    "    n_hidden = hp.Int(\"n_hidden\", min_value=0, max_value=8, default=2)\n",
    "    n_neurons = hp.Int(\"n_neurons\", min_value=16, max_value=256)\n",
    "    learning_rate = hp.Float(\"learning_rate\", min_value=1e-4, max_value=1e-2,\n",
    "                             sampling=\"log\")\n",
    "    optimizer = hp.Choice(\"optimizer\", values=[\"sgd\", \"adam\"])\n",
    "    if optimizer == \"sgd\":\n",
    "        optimizer = tf.keras.optimizers.SGD(learning_rate=learning_rate)\n",
    "    else:\n",
    "        optimizer = tf.keras.optimizers.Adam(learning_rate=learning_rate)\n",
    "\n",
    "    # build the model with the hyperparameters\n",
    "    model = tf.keras.Sequential()\n",
    "    model.add(tf.keras.layers.Flatten())\n",
    "    for _ in range(n_hidden):\n",
    "        model.add(tf.keras.layers.Dense(n_neurons, activation=\"relu\"))\n",
    "    model.add(tf.keras.layers.Dense(10, activation=\"softmax\"))\n",
    "    model.compile(loss=\"sparse_categorical_crossentropy\", optimizer=optimizer,\n",
    "                  metrics=[\"accuracy\"])\n",
    "    return model"
   ]
  },
  {
   "cell_type": "code",
   "execution_count": 145,
   "metadata": {},
   "outputs": [
    {
     "name": "stdout",
     "output_type": "stream",
     "text": [
      "Trial 5 Complete [00h 00m 25s]\n",
      "val_accuracy: 0.8342000246047974\n",
      "\n",
      "Best val_accuracy So Far: 0.8618000149726868\n",
      "Total elapsed time: 00h 02m 05s\n"
     ]
    }
   ],
   "source": [
    "# 4) search for the best hyperparameters randomly for 5 trials\n",
    "#   for each trial it builds a model using hyperparameters sampled \n",
    "#   randomly within their respective ranges, \n",
    "#   then it trains that model for 10 epochs and saves it to a subdirectory of the\n",
    "#   `my_fashion_mnist/my_rnd_search` directory\n",
    "\n",
    "# - overwrite=True, the my_rnd_search directory is deleted before training starts\n",
    "# - overwrite=False,  the tuner will continue tuning where it left off, running 5 more trials\n",
    "# - objective=\"val_accuracy\", the tuner prefers models with a higher validation accuracy\n",
    "\n",
    "random_search_tuner = kt.RandomSearch(\n",
    "    build_model, objective=\"val_accuracy\", max_trials=5, overwrite=True,\n",
    "    directory=\"my_fashion_mnist\", project_name=\"my_rnd_search\", seed=42)\n",
    "\n",
    "random_search_tuner.search(X_train, y_train, epochs=10,\n",
    "                           validation_data=(X_valid, y_valid))"
   ]
  },
  {
   "cell_type": "code",
   "execution_count": 146,
   "metadata": {},
   "outputs": [],
   "source": [
    "# get the best model\n",
    "top3_models = random_search_tuner.get_best_models(num_models=3)\n",
    "best_model = top3_models[0]"
   ]
  },
  {
   "cell_type": "code",
   "execution_count": 147,
   "metadata": {},
   "outputs": [
    {
     "data": {
      "text/plain": [
       "{'n_hidden': 7,\n",
       " 'n_neurons': 100,\n",
       " 'learning_rate': 0.0012482904754698163,\n",
       " 'optimizer': 'sgd'}"
      ]
     },
     "execution_count": 147,
     "metadata": {},
     "output_type": "execute_result"
    }
   ],
   "source": [
    "# get the best parameter values of the best model\n",
    "top3_params = random_search_tuner.get_best_hyperparameters(num_trials=3)\n",
    "top3_params[0].values"
   ]
  },
  {
   "cell_type": "code",
   "execution_count": 148,
   "metadata": {},
   "outputs": [
    {
     "name": "stdout",
     "output_type": "stream",
     "text": [
      "Trial 1 summary\n",
      "Hyperparameters:\n",
      "n_hidden: 7\n",
      "n_neurons: 100\n",
      "learning_rate: 0.0012482904754698163\n",
      "optimizer: sgd\n",
      "Score: 0.8618000149726868\n"
     ]
    }
   ],
   "source": [
    "# get the best trial\n",
    "#   Each tuner is guided by a so-called oracle: \n",
    "#   before each trial, the oracle tell the turner what's next trial \n",
    "#   The RandomSearch tuner uses a RandomSearchOracle\n",
    "#     which just picks the next trial randomly\n",
    "\n",
    "best_trial = random_search_tuner.oracle.get_best_trials(num_trials=3)[0]\n",
    "best_trial.summary()"
   ]
  },
  {
   "cell_type": "code",
   "execution_count": 149,
   "metadata": {},
   "outputs": [
    {
     "name": "stdout",
     "output_type": "stream",
     "text": [
      "Epoch 1/10\n",
      "1875/1875 [==============================] - 3s 2ms/step - loss: 0.3261 - accuracy: 0.8790\n",
      "Epoch 2/10\n",
      "1875/1875 [==============================] - 3s 2ms/step - loss: 0.3166 - accuracy: 0.8822\n",
      "Epoch 3/10\n",
      "1875/1875 [==============================] - 3s 2ms/step - loss: 0.3087 - accuracy: 0.8850\n",
      "Epoch 4/10\n",
      "1875/1875 [==============================] - 3s 2ms/step - loss: 0.3000 - accuracy: 0.8889\n",
      "Epoch 5/10\n",
      "1875/1875 [==============================] - 3s 2ms/step - loss: 0.2937 - accuracy: 0.8906\n",
      "Epoch 6/10\n",
      "1875/1875 [==============================] - 3s 2ms/step - loss: 0.2852 - accuracy: 0.8938\n",
      "Epoch 7/10\n",
      "1875/1875 [==============================] - 3s 2ms/step - loss: 0.2803 - accuracy: 0.8947\n",
      "Epoch 8/10\n",
      "1875/1875 [==============================] - 3s 2ms/step - loss: 0.2750 - accuracy: 0.8964\n",
      "Epoch 9/10\n",
      "1875/1875 [==============================] - 3s 2ms/step - loss: 0.2679 - accuracy: 0.8992\n",
      "Epoch 10/10\n",
      "1875/1875 [==============================] - 3s 2ms/step - loss: 0.2641 - accuracy: 0.9017\n",
      "313/313 [==============================] - 0s 1ms/step - loss: 0.3965 - accuracy: 0.8606\n"
     ]
    }
   ],
   "source": [
    "# train the best model fully\n",
    "best_model.fit(X_train_full, y_train_full, epochs=10)\n",
    "test_loss, test_accuracy = best_model.evaluate(X_test, y_test)"
   ]
  },
  {
   "cell_type": "markdown",
   "metadata": {},
   "source": [
    "NN further fine-tuning\n",
    "---\n",
    "- to fine-tune  data preprocessing hyperparameters, or model.fit() arguments, such as the batch size, you must subclass the `kt.HyperModel class` and override two methods\n",
    "  - `build()` does the exact same thing as the `build_model()` function\n",
    "  - `fit()` takes as arguments a `HyperParameters` object, a compiled model, all the `model.fit()` arguments \n",
    "    - to decide how to preprocess the data, tweak the batch size, etc.\n",
    "    - then fits the model and returns the History object"
   ]
  },
  {
   "cell_type": "code",
   "execution_count": 150,
   "metadata": {},
   "outputs": [],
   "source": [
    "# 1. build the same model as before, with the same hyperparameters, \n",
    "# but it also uses a Boolean \"normalize\" hyperparameter to control \n",
    "# whether or not to standardize the training data before fitting the model\n",
    "\n",
    "class MyClassificationHyperModel(kt.HyperModel):\n",
    "    def build(self, hp):\n",
    "        return build_model(hp)\n",
    "\n",
    "    def fit(self, hp, model, X, y, **kwargs):\n",
    "        if hp.Boolean(\"normalize\"):\n",
    "            norm_layer = tf.keras.layers.Normalization()\n",
    "            X = norm_layer(X)\n",
    "        return model.fit(X, y, **kwargs)"
   ]
  },
  {
   "cell_type": "code",
   "execution_count": 151,
   "metadata": {},
   "outputs": [],
   "source": [
    "# 2.  build a kt.Hyperband tuner based on a `MyClassificationHyperModel` instance\n",
    "# This tuner is similar to the HalvingRandomSearchCV class,\n",
    "#   - starts by training many different models for few epochs\n",
    "#   - eliminates the worst models and keeps only the `top 1 / factor` models\n",
    "#       the top third in this case\n",
    "#   - repeats this selection process until a single model is left\n",
    "#   - by argument `max_epochs` controls the max number of epochs that \n",
    "#       the best model will be trained for\n",
    "#   - by `hyperband_iterations=2` repeats whole process twice\n",
    "# The total number of training epochs across all models for each hyperband iteration is \n",
    "# about `max_epochs * (log(max_epochs) / log(factor)) ** 2`, so it’s about 44 epochs. \n",
    "# The other arguments are the same as for `kt.RandomSearch`\n",
    "\n",
    "hyperband_tuner = kt.Hyperband(\n",
    "    MyClassificationHyperModel(), objective=\"val_accuracy\", seed=42,\n",
    "    max_epochs=10, factor=3, hyperband_iterations=2,\n",
    "    overwrite=True, directory=\"my_fashion_mnist\", project_name=\"hyperband\")"
   ]
  },
  {
   "cell_type": "code",
   "execution_count": 152,
   "metadata": {},
   "outputs": [
    {
     "name": "stdout",
     "output_type": "stream",
     "text": [
      "Trial 60 Complete [00h 00m 26s]\n",
      "val_accuracy: 0.8519999980926514\n",
      "\n",
      "Best val_accuracy So Far: 0.8812000155448914\n",
      "Total elapsed time: 00h 10m 45s\n"
     ]
    }
   ],
   "source": [
    "# 3.  run a Hyperband tuner\n",
    "# use the TensorBoard callback pointing to the root log directory \n",
    "# (the tuner will take care of using a different subdirectory for each trial), \n",
    "# and an EarlyStopping callback\n",
    "from pathlib import Path\n",
    "root_logdir = Path(hyperband_tuner.project_dir) / \"tensorboard\"\n",
    "tensorboard_cb = tf.keras.callbacks.TensorBoard(root_logdir)\n",
    "early_stopping_cb = tf.keras.callbacks.EarlyStopping(patience=2)\n",
    "hyperband_tuner.search(X_train, y_train, epochs=10,\n",
    "                       validation_data=(X_valid, y_valid),\n",
    "                       callbacks=[early_stopping_cb, tensorboard_cb])"
   ]
  },
  {
   "cell_type": "markdown",
   "metadata": {},
   "source": [
    "kt.BayesianOptimization tuner\n",
    "---\n",
    "- Hyperband is smarter than pure random search in the way it allocates resources\n",
    "  - but at its core it still explores the hyperparameter space randomly\n",
    "  - it’s fast, but coarse\n",
    "- kt.BayesianOptimization tuner gradually learns \n",
    "  - which regions of the hyperparameter space are most promising \n",
    "  - by fitting a probabilistic model called a Gaussian process\n",
    "  - This allows it to gradually zoom in on the best hyperparameters\n",
    "- Hyperparameter tuning is still an active area of research\n",
    "  - AutoML uses `evolutionary algorithm` to jointly optimize \n",
    "    - a population of models and their hyperparameters\n",
    "  - Evolutionary algorithms are also used to train individual neural networks, \n",
    "    - replacing the ubiquitous gradient descent"
   ]
  },
  {
   "cell_type": "code",
   "execution_count": 153,
   "metadata": {},
   "outputs": [
    {
     "name": "stdout",
     "output_type": "stream",
     "text": [
      "Trial 10 Complete [00h 00m 25s]\n",
      "val_accuracy: 0.8411999940872192\n",
      "\n",
      "Best val_accuracy So Far: 0.8575999736785889\n",
      "Total elapsed time: 00h 03m 33s\n"
     ]
    }
   ],
   "source": [
    "# 4. run a BayesianOptimization tuner\n",
    "# - `alpha` represents the level of noise you expect \n",
    "#   - in the performance measures across trials \n",
    "#   - it defaults to 10⁻⁴\n",
    "# - `beta` specifies how much you want the algorithm to explore, \n",
    "#   - instead of simply exploiting the known good regions of hyperparameter space\n",
    "#   - it defaults to 2.6\n",
    "bayesian_opt_tuner = kt.BayesianOptimization(\n",
    "    MyClassificationHyperModel(), objective=\"val_accuracy\", seed=42,\n",
    "    max_trials=10, alpha=1e-4, beta=2.6,\n",
    "    overwrite=True, directory=\"my_fashion_mnist\", project_name=\"bayesian_opt\")\n",
    "bayesian_opt_tuner.search(X_train, y_train, epochs=10,\n",
    "                          validation_data=(X_valid, y_valid),\n",
    "                          callbacks=[early_stopping_cb])"
   ]
  },
  {
   "cell_type": "code",
   "execution_count": 154,
   "metadata": {},
   "outputs": [
    {
     "name": "stdout",
     "output_type": "stream",
     "text": [
      "The tensorboard extension is already loaded. To reload it, use:\n",
      "  %reload_ext tensorboard\n"
     ]
    },
    {
     "data": {
      "text/html": [
       "\n",
       "      <iframe id=\"tensorboard-frame-5a70860847c4fea9\" width=\"100%\" height=\"800\" frameborder=\"0\">\n",
       "      </iframe>\n",
       "      <script>\n",
       "        (function() {\n",
       "          const frame = document.getElementById(\"tensorboard-frame-5a70860847c4fea9\");\n",
       "          const url = new URL(\"/\", window.location);\n",
       "          const port = 6007;\n",
       "          if (port) {\n",
       "            url.port = port;\n",
       "          }\n",
       "          frame.src = url;\n",
       "        })();\n",
       "      </script>\n",
       "    "
      ],
      "text/plain": [
       "<IPython.core.display.HTML object>"
      ]
     },
     "metadata": {},
     "output_type": "display_data"
    }
   ],
   "source": [
    "# 5. visualize with TensorBoard\n",
    "%load_ext tensorboard\n",
    "%tensorboard --port 6007 --logdir {root_logdir}"
   ]
  },
  {
   "cell_type": "code",
   "execution_count": 155,
   "metadata": {},
   "outputs": [],
   "source": [
    "# cleanup generated data\n",
    "!rm -rf ./my_fashion_mnist ./my_logs\n",
    "!rm -f *checkpoint*"
   ]
  },
  {
   "cell_type": "markdown",
   "metadata": {},
   "source": [
    "Guidelines on hyperparameter tuning\n",
    "---\n",
    "- Number of hidden layers\n",
    "  - begin with a MLP with a single hidden layer \n",
    "    - ∵ theoretically it can model most complex functions with enough neurons\n",
    "    - it can get reasonable results for many problems\n",
    "  - But for complex problems, deep networks have a much higher parameter efficiency than shallow ones\n",
    "    - DNNs use exponentially fewer neurons than shallow nets, and\n",
    "      - reach much better performance with the same amount of training data\n",
    "      - converge faster to a good solution\n",
    "      - generalize better to new datasets\n",
    "    - ∵ Real-world data is often structured in such a hierarchical way as DNNs\n",
    "      - lower hidden layers model low-level simple structures (e.g. cells)\n",
    "      - intermediate hidden layers combine these low-level structures to model intermediate-level structures (e.g. organs)\n",
    "      - the highest hidden layers and the output layer combine these intermediate structures to model high-level structures (e.g. living beings)\n",
    "    - lower layers and intermediate layers can be reused for other DNNs\n",
    "      - this is called `transfer learning`\n",
    "      - i.e. their structures, parameters and biases are all reused\n",
    "      - only the new high layers and output layers need new training\n",
    "      - mainly used in large scale NNs with dozens even hundreds of layers for complex tasks\n",
    "        - e.g. large image classification, speech recognition, etc.\n",
    "  - `practice`: increase the number of layers gradually until the network starts overfitting\n",
    "- Number of neurons per hidden layer\n",
    "  - the numbers of neurons in the input and output layers are determined by \n",
    "    - the type and number of input and output specific to the task\n",
    "      - e.g. MNIST task requires 28 × 28 = 784 inputs and 10 output neurons\n",
    "    - the same number of neurons in all hidden layers is preferred\n",
    "      - a layer with too few neurons will not have enough representational power \n",
    "        - to preserve all the useful information from the inputs\n",
    "    - the old practice with a plausible rationale is abandoned:\n",
    "      - many low-level features can coalesce into far fewer high-level features \n",
    "      - using fewer and fewer neurons at each hidden layer from input layer to output layer\n",
    "  - `practice`: increase the number of neurons gradually until the network starts overfitting\n",
    "- Learning rate, batch size, and other hyperparameters\n",
    "  - Batch size\n",
    "    - large batch sizes are suitable for hardware accelerators like GPUs\n",
    "      - but often lead to training instabilities, especially at the beginning of training\n",
    "    - it was possible to use very large batch sizes (up to 8,192) along with various techniques such as warming up the learning rate\n",
    "    - `practice`: try to using a large batch size, with learning rate warmup, and if training is unstable or the final performance is disappointing, then try using a small batch size instead\n",
    "  - Learning rate\n",
    "    - generally the optimal learning rate is about half of the maximum learning rate (mlr)\n",
    "      - the mlr is the learning rate above which the training algorithm diverges\n",
    "    - the optimal learning rate is a bit lower than the point at which the loss starts to climb on the curve of loss vs. learning rate\n",
    "      - typically about 10 times lower than the turning point  \n",
    "  - Activation function\n",
    "    - generally the `ReLU` activation function will be a good default for all hidden layers\n",
    "    - but for the output layer it depends on your task\n",
    "  - Optimizer\n",
    "    - Choose a better optimizer than plain old mini-batch gradient descent\n",
    "  - Number of iterations\n",
    "    - no need to be tweaked: just use early stopping instead"
   ]
  },
  {
   "cell_type": "markdown",
   "metadata": {},
   "source": [
    "# References\n",
    "- [sklearn Neural network models (supervised)](https://scikit-learn.org/stable/modules/neural_networks_supervised.html)\n",
    "- [sklearn Neural network models (unsupervised)](https://scikit-learn.org/stable/modules/neural_networks_unsupervised.html)\n",
    "- [Keras](https://keras.io/)"
   ]
  },
  {
   "cell_type": "markdown",
   "metadata": {},
   "source": []
  }
 ],
 "metadata": {
  "kernelspec": {
   "display_name": "Python 3",
   "language": "python",
   "name": "python3"
  },
  "language_info": {
   "codemirror_mode": {
    "name": "ipython",
    "version": 3
   },
   "file_extension": ".py",
   "mimetype": "text/x-python",
   "name": "python",
   "nbconvert_exporter": "python",
   "pygments_lexer": "ipython3",
   "version": "3.9.15"
  }
 },
 "nbformat": 4,
 "nbformat_minor": 2
}
