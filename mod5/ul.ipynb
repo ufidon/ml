{
 "cells": [
  {
   "cell_type": "markdown",
   "metadata": {},
   "source": [
    "<table align=\"left\">\n",
    "  <td>\n",
    "    <a href=\"https://colab.research.google.com/github/ufidon/ml/blob/main/mod5/ul.ipynb\" target=\"_parent\"><img src=\"https://colab.research.google.com/assets/colab-badge.svg\" alt=\"Open In Colab\"/></a>\n",
    "  </td>\n",
    "  <td>\n",
    "    <a target=\"_blank\" href=\"https://kaggle.com/kernels/welcome?src=https://github.com/ufidon/ml/blob/main/mod5/ul.ipynb\"><img src=\"https://kaggle.com/static/images/open-in-kaggle.svg\" /></a>\n",
    "  </td>\n",
    "</table>\n",
    "<br>\n",
    "\n",
    "Unsupervised Learning\n",
    "---\n",
    "_homl3 ch9_\n",
    "\n",
    "- Clustering Algorithms: k-means and DBSCAN\n",
    "  - k-means\n",
    "  - Limits of k-means\n",
    "  - Using Clustering for Image Segmentation\n",
    "  - Using Clustering for Semi-Supervised Learning\n",
    "  - DBSCAN\n",
    "  - Other Clustering Algorithms\n",
    "- Gaussian Mixtures\n",
    "  - Using Gaussian Mixtures for Anomaly Detection\n",
    "  - Selecting the Number of Clusters\n",
    "  - Bayesian Gaussian Mixture Models\n",
    "  - Other Algorithms for Anomaly and Novelty Detection"
   ]
  }
 ],
 "metadata": {
  "language_info": {
   "name": "python"
  }
 },
 "nbformat": 4,
 "nbformat_minor": 2
}
