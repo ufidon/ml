{
 "cells": [
  {
   "cell_type": "markdown",
   "metadata": {},
   "source": [
    "<table align=\"left\">\n",
    "  <td>\n",
    "    <a href=\"https://colab.research.google.com/github/ufidon/ml/blob/main/mod4/dr.ipynb\" target=\"_parent\"><img src=\"https://colab.research.google.com/assets/colab-badge.svg\" alt=\"Open In Colab\"/></a>\n",
    "  </td>\n",
    "  <td>\n",
    "    <a target=\"_blank\" href=\"https://kaggle.com/kernels/welcome?src=https://github.com/ufidon/ml/blob/main/mod4/dr.ipynb\"><img src=\"https://kaggle.com/static/images/open-in-kaggle.svg\" /></a>\n",
    "  </td>\n",
    "</table>\n",
    "<br>\n",
    "\n",
    "Dimensionality Reduction\n",
    "---\n",
    "_homl3 ch8_\n",
    "\n",
    "- The Curse of Dimensionality\n",
    "- Main Approaches for Dimensionality Reduction\n",
    "- Projection\n",
    "  - Manifold Learning\n",
    "- PCA\n",
    "  - Preserving the Variance\n",
    "  - Principal Components\n",
    "  - Projecting Down to d Dimensions\n",
    "  - Using Scikit-Learn\n",
    "  - Explained Variance Ratio\n",
    "  - Choosing the Right Number of Dimensions\n",
    "  - PCA for Compression\n",
    "  - Randomized PCA\n",
    "  - Incremental PCA\n",
    "- Random Projection\n",
    "- LLE\n",
    "- Other Dimensionality Reduction Techniques"
   ]
  }
 ],
 "metadata": {
  "language_info": {
   "name": "python"
  }
 },
 "nbformat": 4,
 "nbformat_minor": 2
}
