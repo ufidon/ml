{
 "cells": [
  {
   "cell_type": "markdown",
   "metadata": {},
   "source": [
    "<table align=\"left\">\n",
    "  <td>\n",
    "    <a href=\"https://colab.research.google.com/github/ufidon/ml/blob/main/mod4/dr.ipynb\" target=\"_parent\"><img src=\"https://colab.research.google.com/assets/colab-badge.svg\" alt=\"Open In Colab\"/></a>\n",
    "  </td>\n",
    "  <td>\n",
    "    <a target=\"_blank\" href=\"https://kaggle.com/kernels/welcome?src=https://github.com/ufidon/ml/blob/main/mod4/dr.ipynb\"><img src=\"https://kaggle.com/static/images/open-in-kaggle.svg\" /></a>\n",
    "  </td>\n",
    "</table>\n",
    "<br>\n",
    "\n",
    "Dimensionality Reduction\n",
    "---\n",
    "_homl3 ch8_\n",
    "\n",
    "- The Curse of Dimensionality\n",
    "- Main Approaches for Dimensionality Reduction\n",
    "- Projection\n",
    "- PCA\n",
    "- Random Projection\n",
    "- LLE\n",
    "- Other Dimensionality Reduction Techniques"
   ]
  },
  {
   "cell_type": "code",
   "execution_count": 1,
   "metadata": {},
   "outputs": [],
   "source": [
    "import numpy as np, pandas as pd, matplotlib.pyplot as plt, matplotlib as mpl\n",
    "import sklearn as skl, sklearn.datasets as skds"
   ]
  },
  {
   "cell_type": "markdown",
   "metadata": {},
   "source": [
    "# The Curse of Dimensionality\n",
    "- problems caused by too many features for each instances\n",
    "  - extremely slow to train and validate ML models on these datasets\n",
    "  - very difficult to find a good solution\n",
    "- Many real-world datasets have thousands even millions of features\n",
    "  - but often it is possible to reduce the number of features considerably\n",
    "    - this turns an intractable problem into a tractable one\n",
    "    - makes it possible to plot a condensed view of a high-dimensional training set\n",
    "      - in 2D or 3D spaces\n",
    "    - helps gain some important insights by visually detecting patterns\n",
    "      - such as clusters\n",
    "- There are three popular dimensionality reduction techniques: \n",
    "  - PCA, random projection, and locally linear embedding (LLE)"
   ]
  },
  {
   "cell_type": "code",
   "execution_count": 3,
   "metadata": {},
   "outputs": [
    {
     "data": {
      "text/plain": [
       "<matplotlib.image.AxesImage at 0x7f3407160750>"
      ]
     },
     "execution_count": 3,
     "metadata": {},
     "output_type": "execute_result"
    },
    {
     "data": {
      "image/png": "[encoded data removed]",
      "text/plain": [
       "<Figure size 640x480 with 1 Axes>"
      ]
     },
     "metadata": {},
     "output_type": "display_data"
    }
   ],
   "source": [
    "# 1. An example of reducing the number of features\n",
    "# A compressed MNIST dataset of handwritten digits\n",
    "# \n",
    "# each digit is an 8 by 8 black-white image\n",
    "# 1.1 the border pixels can be dropped without losing too much information\n",
    "# 1.2 the importance of each pixel can be shown with a random forest\n",
    "#     two neighboring pixels are often highly correlated\n",
    "#     not too much information will be lost if they were merged into a single pixel\n",
    "\n",
    "X, y = skds.load_digits(return_X_y=True)\n",
    "plt.imshow(np.reshape(X[:1],(8,8)))"
   ]
  },
  {
   "cell_type": "markdown",
   "metadata": {},
   "source": [
    "## Problems Of Reducing Dimensionality\n",
    "- cause some information loss\n",
    "- make the ML system perform slightly worse even though it will speed up training\n",
    "- make ML pipelines a bit more complex and thus harder to maintain"
   ]
  },
  {
   "cell_type": "markdown",
   "metadata": {},
   "source": [
    "## An Unit [Spacelet](https://en.wikipedia.org/wiki/Hypercube) In Spaces Of Different Dimensions\n",
    "| # of dimensions | spacelet with sides of 1 unit |\n",
    "|:---:|:---:|\n",
    "| 0 | point |\n",
    "| 1 | an unit segment | \n",
    "| 2 | an unit square |\n",
    "| 3 | an unit cube |\n",
    "| ≥ 4 | hypercubes |\n",
    "\n",
    "- many things behave very differently in high-dimensional space\n",
    "   - the longest diagonal in a n-cube is $\\sqrt{n}$\n",
    "   - the [distance d(n)](https://en.wikipedia.org/wiki/Mean_line_segment_length) between two random selected points in n-cube increases when n increases\n",
    "     - $d(2) \\approx 0.52$\n",
    "     - $d(3) \\approx 0.66$\n",
    "     - $d(1,000,000) \\approx 370.79$\n",
    "     - ∴ high-dimensional datasets are at risk of being very sparse\n",
    "       - great risk of overfitting\n",
    "       - new instances will likely be far away from any training instance\n",
    "   - most points in a high-dimensional hypercube are very close to the border\n",
    "- one solution to the curse of dimensionality could be to increase the size of the training set\n",
    "  - but  the number of training instances required to reach a given density grows exponentially with the number of dimensions"
   ]
  },
  {
   "cell_type": "markdown",
   "metadata": {},
   "source": [
    "\n",
    "# Main Approaches for Dimensionality Reduction\n",
    "\n",
    "# Projection\n",
    "\n",
    "## Manifold Learning\n",
    "\n",
    "# PCA\n",
    "## Preserving the Variance\n",
    "## Principal Components\n",
    "## Projecting Down to d Dimensions\n",
    "## Using Scikit-Learn\n",
    "## Explained Variance Ratio\n",
    "## Choosing the Right Number of Dimensions\n",
    "## PCA for Compression\n",
    "## Randomized PCA\n",
    "## Incremental PCA\n",
    "\n",
    "# Random Projection\n",
    "\n",
    "# LLE\n",
    "\n",
    "# Other Dimensionality Reduction Techniques"
   ]
  }
 ],
 "metadata": {
  "kernelspec": {
   "display_name": "Python 3",
   "language": "python",
   "name": "python3"
  },
  "language_info": {
   "codemirror_mode": {
    "name": "ipython",
    "version": 3
   },
   "file_extension": ".py",
   "mimetype": "text/x-python",
   "name": "python",
   "nbconvert_exporter": "python",
   "pygments_lexer": "ipython3",
   "version": "3.11.4"
  }
 },
 "nbformat": 4,
 "nbformat_minor": 2
}
