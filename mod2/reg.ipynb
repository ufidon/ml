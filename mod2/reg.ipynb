{
 "cells": [
  {
   "cell_type": "markdown",
   "metadata": {},
   "source": [
    "<table align=\"left\">\n",
    "  <td>\n",
    "    <a href=\"https://colab.research.google.com/github/ufidon/ml/blob/main/mod2/reg.ipynb\" target=\"_parent\"><img src=\"https://colab.research.google.com/assets/colab-badge.svg\" alt=\"Open In Colab\"/></a>\n",
    "  </td>\n",
    "  <td>\n",
    "    <a target=\"_blank\" href=\"https://kaggle.com/kernels/welcome?src=https://github.com/ufidon/ml/blob/main/mod2/reg.ipynb\"><img src=\"https://kaggle.com/static/images/open-in-kaggle.svg\" /></a>\n",
    "  </td>\n",
    "</table>\n",
    "<br>\n",
    "\n",
    "\n",
    "__[Regression](https://en.wikipedia.org/wiki/Regression_analysis)__\n",
    "\n",
    "_homl3 ch4_\n",
    "\n",
    "- Linear Regression\n",
    "  - The Normal Equation\n",
    "  - Computational Complexity\n",
    "  - Gradient Descent\n",
    "    - Batch Gradient Descent\n",
    "    - Stochastic Gradient Descent\n",
    "    - Mini-Batch Gradient Descent\n",
    "- Polynomial Regression\n",
    "  - Learning Curves\n",
    "  - Regularized Linear Models\n",
    "    - Ridge Regression\n",
    "    - Lasso Regression\n",
    "    - Elastic Net Regression\n",
    "    - Early Stopping\n",
    "- Logistic Regression\n",
    "  - Estimating Probabilities\n",
    "  - Training and Cost Function\n",
    "  - Decision Boundaries\n",
    "  - Softmax Regression"
   ]
  },
  {
   "cell_type": "markdown",
   "metadata": {},
   "source": [
    "What is regression?\n",
    "---\n",
    "Given $N$ samples $\\lbrace (\\vec{x_1},y_1),(\\vec{x_2},y_2), ⋯, (\\vec{x_N},y_N) \\rbrace$, \n",
    "- $\\vec{x_i}$: feature vector of sample $i$\n",
    "  - $\\vec{x_i}∈X$, sample or features space\n",
    "- $y_i$: sample $i$'s target value, a real number\n",
    "  - $y_i∈Y$, a subset of real number $R$\n",
    "\n",
    "Training a machine learning model $m_{\\vec{α}}: \\hat{y}=m_{\\vec{α}}(\\vec{x},y)$ is the process of optimizing its parameter vector $\\vec{α}=(α_1,α_2,⋯,α_M)$ in its parameter space $\\mathcal{Α}$ to find the $\\vec{α^*}$ which maximizes a scoring function $s:X×Y→R$,\n",
    "\n",
    "$\\displaystyle s^*=argmax_{\\vec{α^*} \\in \\mathcal{Α}} s(\\hat{y},y)=argmax_{\\vec{α^*} \\in \\mathcal{Α}} s(m(\\vec{x},y),y)$"
   ]
  },
  {
   "cell_type": "markdown",
   "metadata": {},
   "source": [
    "[Linear regression](https://en.wikipedia.org/wiki/Linear_regression)\n",
    "---\n",
    "- estimates the linear relationship between \n",
    "  - a scalar response $y$ and \n",
    "  - $m$ iput features $x_1,x_2,⋯,x_m$ through $n$ samples\n",
    "  - $((x_{i1}, x_{i2}, ⋯, x_{im}), y_i),\\qquad i=1,\\ldots ,n$\n",
    "- by simply computing the estimation $\\hat{y_{i}}$ of the true response $y_i$\n",
    "  \n",
    "  $${\\displaystyle \\hat{y_{i}}=\\theta _{0}⋅1+\\theta _{1}x_{i1}+\\cdots +\\theta _{m}x_{im}+\\varepsilon_{i}}$$\n",
    "\n",
    "  - a *weighted sum* of the input features \n",
    "  - plus a constant called the *bias term* $\\theta _{0}$\n",
    "    - also called the *intercept* term\n",
    "  - and a disturbance term or error variable $\\varepsilon$\n",
    "    - an unobserved random variable, omitted below for simplification\n",
    "- the calculation can be concisely noted in vector form\n",
    "\n",
    "$$\\hat{y_i}=h_{\\vec{θ}}(\\vec{x_i})=\\vec{x_i}⋅\\vec{θ}^T$$\n",
    "\n",
    "  - ${h_{\\vec{θ}}}$ is the hypothesis function with model parameters $\\vec{θ}$\n",
    "  - $\\vec{θ}=(θ_0, θ_1, ⋯, θ_m)$ is the model’s parameter vector\n",
    "  - $\\vec{x_i}=(x_{i0}, x_{i1}, x_{i2}, ⋯, x_{im})$ is sample $i$'s feature vector, in which $x_{i0}$ is always 1\n",
    "  - $\\vec{x_i}⋅\\vec{θ}$ is the *dot product* of vector $\\vec{θ}\\text{ and }\\vec{x_i}$\n",
    "\n",
    "Together, can be noted in a single matrix equation\n",
    "\n",
    "$$\\vec{\\hat{y}}=X\\vec{θ}$$\n",
    "\n",
    "- $\\vec{\\hat{y}}=(\\hat{y_1}, \\hat{y_2}, ⋯, \\hat{y_n})$\n",
    "- ${\\displaystyle \\mathbf {X} ={\\begin{bmatrix}\\mathbf {x} _{1}^{\\mathsf {T}}\\\\\\mathbf {x} _{2}^{\\mathsf {T}}\\\\\\vdots \\\\\\mathbf {x} _{n}^{\\mathsf {T}}\\end{bmatrix}}={\\begin{bmatrix}1&x_{11}&\\cdots &x_{1m}\\\\1&x_{21}&\\cdots &x_{2m}\\\\\\vdots &\\vdots &\\ddots &\\vdots \\\\1&x_{n1}&\\cdots &x_{nm}\\end{bmatrix}},}$"
   ]
  },
  {
   "cell_type": "markdown",
   "metadata": {},
   "source": [
    "[mean squared error (MSE)](https://en.wikipedia.org/wiki/Mean_squared_error)\n",
    "---\n",
    "A regression model can be evaluated with \n",
    "- *root mean square error (RMSE)* or simply \n",
    "- *mean square error (MSE)*\n",
    "\n",
    "$$\\displaystyle \\operatorname{MSE}(X,h_{\\vec{θ}})=||\\vec{\\hat{y}}-\\vec{y}||^2=\\frac{1}{n} \\sum_{i=1}^n(\\hat{y_i}-y_i)^2$$\n",
    "\n",
    "The optimized $\\vec{θ^*}$ that minimized the MSE has an analytical solution in the form of *the normal equation*\n",
    "\n",
    "$${\\displaystyle {\\boldsymbol {\\theta^* }}=(\\mathbf {X} ^{\\mathsf {T}}\\mathbf {X} )^{-1}\\mathbf {X} ^{\\mathsf {T}}\\mathbf {y}}$$"
   ]
  },
  {
   "cell_type": "code",
   "execution_count": 1,
   "metadata": {},
   "outputs": [],
   "source": [
    "import numpy as np, pandas as pd, matplotlib.pyplot as plt, matplotlib as mpl\n",
    "import sklearn as skl, sklearn.datasets as skds"
   ]
  },
  {
   "cell_type": "markdown",
   "metadata": {},
   "source": [
    "🍎 A simle example\n",
    "\n",
    "Given\n",
    "\n",
    "- the linear regression model: $y=θ_0+θ_1x_1$\n",
    "- and the the dataset generated with $y = 4 + 3x_1$ + Gaussian noise\n",
    "\n",
    "Find the optimized parameters\n"
   ]
  },
  {
   "cell_type": "code",
   "execution_count": 14,
   "metadata": {},
   "outputs": [
    {
     "data": {
      "image/png": "[encoded data removed]",
      "text/plain": [
       "<Figure size 600x300 with 1 Axes>"
      ]
     },
     "metadata": {},
     "output_type": "display_data"
    }
   ],
   "source": [
    "\n",
    "# 1. generate a toy data set with only one feature x1\n",
    "np.random.seed(42) \n",
    "n = 100 \n",
    "X = 2 * np.random.rand(n, 1) \n",
    "y = 4 + 3 * X + np.random.randn(n, 1) \n",
    "\n",
    "# 2. visualize the toy sata set\n",
    "import matplotlib.pyplot as plt\n",
    "\n",
    "fig1, axe1 = plt.subplots(figsize=(6, 3))\n",
    "axe1.plot(X, y, \"b.\")\n",
    "axe1.set(xlabel= \"$x_1$\", ylabel=\"$y$\")\n",
    "axe1.axis([0, 2, 2, 12])\n",
    "axe1.grid()"
   ]
  },
  {
   "cell_type": "code",
   "execution_count": 11,
   "metadata": {},
   "outputs": [
    {
     "data": {
      "text/plain": [
       "array([[4.21509616],\n",
       "       [2.77011339]])"
      ]
     },
     "execution_count": 11,
     "metadata": {},
     "output_type": "execute_result"
    }
   ],
   "source": [
    "# 3. Find the optimal parameters by the normal equation\n",
    "\n",
    "X_b = np.c_[np.ones((n,1)),X]  # add x0 = 1 to each instance\n",
    "theta_best = np.linalg.inv(X_b.T @ X_b) @ X_b.T @ y\n",
    "theta_best"
   ]
  },
  {
   "cell_type": "code",
   "execution_count": 12,
   "metadata": {},
   "outputs": [
    {
     "data": {
      "text/plain": [
       "array([[4.21509616],\n",
       "       [9.75532293]])"
      ]
     },
     "execution_count": 12,
     "metadata": {},
     "output_type": "execute_result"
    }
   ],
   "source": [
    "# 4. make a prediction\n",
    "X_new = np.array([[0], [2]])\n",
    "X_new_b = np.c_[np.ones(X_new.shape), X_new]  # add x0 = 1 to each instance\n",
    "y_predict = X_new_b @ theta_best\n",
    "y_predict"
   ]
  },
  {
   "cell_type": "code",
   "execution_count": 15,
   "metadata": {},
   "outputs": [
    {
     "data": {
      "text/plain": [
       "<matplotlib.legend.Legend at 0x7f10316fca10>"
      ]
     },
     "execution_count": 15,
     "metadata": {},
     "output_type": "execute_result"
    },
    {
     "data": {
      "image/png": "[encoded data removed]",
      "text/plain": [
       "<Figure size 600x300 with 1 Axes>"
      ]
     },
     "metadata": {},
     "output_type": "display_data"
    }
   ],
   "source": [
    "# 4. visualize the linear model\n",
    "fig2, axe2 = plt.subplots(figsize=(6, 3))  # extra code – not needed, just formatting\n",
    "axe2.plot(X_new, y_predict, \"r-\", label=\"Predictions\")\n",
    "axe2.plot(X, y, \"b.\")\n",
    "axe2.set(xlabel=\"$x_1$\", ylabel=\"$y$\")\n",
    "axe2.axis([0, 2, 2, 12])\n",
    "axe2.grid()\n",
    "axe2.legend(loc=\"upper left\")"
   ]
  },
  {
   "cell_type": "code",
   "execution_count": 16,
   "metadata": {},
   "outputs": [
    {
     "data": {
      "text/plain": [
       "(array([4.21509616]), array([[2.77011339]]))"
      ]
     },
     "execution_count": 16,
     "metadata": {},
     "output_type": "execute_result"
    }
   ],
   "source": [
    "# 5. Find the optimized parameters using \n",
    "# the linear regression model in Scikit-Learn\n",
    "from sklearn.linear_model import LinearRegression\n",
    "\n",
    "lin_reg = LinearRegression()\n",
    "lin_reg.fit(X, y)\n",
    "lin_reg.intercept_, lin_reg.coef_"
   ]
  },
  {
   "cell_type": "code",
   "execution_count": 17,
   "metadata": {},
   "outputs": [
    {
     "data": {
      "text/plain": [
       "array([[4.21509616],\n",
       "       [9.75532293]])"
      ]
     },
     "execution_count": 17,
     "metadata": {},
     "output_type": "execute_result"
    }
   ],
   "source": [
    "lin_reg.predict(X_new)"
   ]
  },
  {
   "cell_type": "code",
   "execution_count": 18,
   "metadata": {},
   "outputs": [
    {
     "data": {
      "text/plain": [
       "array([[4.21509616],\n",
       "       [2.77011339]])"
      ]
     },
     "execution_count": 18,
     "metadata": {},
     "output_type": "execute_result"
    }
   ],
   "source": [
    "# The LinearRegression class is based on \n",
    "# the np.linalg.lstsq() function \n",
    "# (the name stands for \"least squares\")\n",
    "theta_best_svd, residuals, rank, s = np.linalg.lstsq(X_b, y, rcond=1e-6)\n",
    "theta_best_svd"
   ]
  },
  {
   "cell_type": "markdown",
   "metadata": {},
   "source": [
    "- *np.linalg.lstsq()* computes $\\mathbf{X}^+\\mathbf{y}$, where $\\mathbf{X}^{+}$ is the _pseudoinverse_ of $\\mathbf{X}$ \n",
    "  - specifically the Moore-Penrose inverse \n",
    "    - can be computed with `np.linalg.pinv()` directly\n",
    "- the Normal equation may not work if the matrix $\\mathbf{X^T}\\mathbf{X}$ is not invertible\n",
    "  - but the pseudoinverse is always defined\n"
   ]
  },
  {
   "cell_type": "code",
   "execution_count": 19,
   "metadata": {},
   "outputs": [
    {
     "data": {
      "text/plain": [
       "array([[4.21509616],\n",
       "       [2.77011339]])"
      ]
     },
     "execution_count": 19,
     "metadata": {},
     "output_type": "execute_result"
    }
   ],
   "source": [
    "np.linalg.pinv(X_b) @ y"
   ]
  },
  {
   "cell_type": "markdown",
   "metadata": {},
   "source": [
    "Computational Complexity\n",
    "---\n",
    "Given a dataset with $n$ samples and $m$ features,\n",
    "\n",
    "- to find the optimized parameters,\n",
    "  - the Normal equation computes the inverse of $\\mathbf{X^T}\\mathbf{X}$\n",
    "    - with complexity about $O(m^{2.4})$ to $O(m^2)$\n",
    "  - the SVD approach used by Scikit-Learn’s LinearRegression class is about $O(m^2)$.\n",
    "- to make predictions\n",
    "  - the complexity is $O(n×m)$"
   ]
  },
  {
   "cell_type": "markdown",
   "metadata": {},
   "source": [
    "[Gradient Descent](https://en.wikipedia.org/wiki/Gradient_descent)\n",
    "---\n",
    "- a method for unconstrained mathematical optimization\n",
    "- it tweaks parameters iteratively in order to minimize the cost function $F(\\mathbf {x})$\n",
    "  - along the direction of steepest descent, i.e.\n",
    "  - the opposite direction of the current gradient of $F(\\mathbf {x})$\n",
    "\n",
    "$${\\displaystyle \\mathbf {x} _{n+1}=\\mathbf {x} _{n}-\\gamma_n \\nabla F(\\mathbf {x} _{n})}$$\n",
    "\n",
    "  - which generates a monotonic sequence \n",
    "    \n",
    "$${\\displaystyle F(\\mathbf {x} _{0})\\geq F(\\mathbf {x} _{1})\\geq F(\\mathbf {x} _{2})\\geq \\cdots}$$\n",
    "\n",
    "  - $\\gamma_n$ is the *learning rate* at step $n$"
   ]
  }
 ],
 "metadata": {
  "kernelspec": {
   "display_name": "Python 3",
   "language": "python",
   "name": "python3"
  },
  "language_info": {
   "codemirror_mode": {
    "name": "ipython",
    "version": 3
   },
   "file_extension": ".py",
   "mimetype": "text/x-python",
   "name": "python",
   "nbconvert_exporter": "python",
   "pygments_lexer": "ipython3",
   "version": "3.11.4"
  }
 },
 "nbformat": 4,
 "nbformat_minor": 2
}
