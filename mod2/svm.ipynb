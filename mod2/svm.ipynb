{
 "cells": [
  {
   "cell_type": "markdown",
   "metadata": {},
   "source": [
    "[ Support vector machine (SVM)](https://en.wikipedia.org/wiki/Support_vector_machine)\n",
    " ---\n",
    "- a supervised max-margin model\n",
    "- supports linear and nonlinear classification, regression and outlier detection\n",
    "  - nonlinearity is achieved by kernel functions\n",
    "- suitable from small to medium-sized nonlinear datasets\n",
    "  - not well-scalable to very large datasets"
   ]
  },
  {
   "cell_type": "code",
   "execution_count": null,
   "metadata": {},
   "outputs": [],
   "source": [
    "import numpy as np, pandas as pd, matplotlib.pyplot as plt, matplotlib as mpl\n",
    "import sklearn as skl, sklearn.datasets as skds"
   ]
  },
  {
   "cell_type": "markdown",
   "metadata": {},
   "source": [
    "A linearly separable dataset - [the iris flower dataset](https://en.wikipedia.org/wiki/Iris_flower_data_set)\n",
    "---\n",
    "- consists of 3 different types of irises \n",
    "  - Setosa, Versicolour, and Virginica\n",
    "  - 150 samples with 4 features\n",
    "    - Sepal Length, Sepal Width, Petal Length and Petal Width"
   ]
  },
  {
   "cell_type": "code",
   "execution_count": null,
   "metadata": {},
   "outputs": [],
   "source": [
    "iris = skds.load_iris(as_frame=True)\n",
    "print(iris.DESCR)"
   ]
  },
  {
   "cell_type": "code",
   "execution_count": null,
   "metadata": {},
   "outputs": [],
   "source": [
    "iris.data.head(2)"
   ]
  },
  {
   "cell_type": "code",
   "execution_count": null,
   "metadata": {},
   "outputs": [],
   "source": [
    "# the plot below uses the first two features\n",
    "_,ax1 = plt.subplots()\n",
    "# iris.data.plot(ax=ax1, kind='scatter', x='sepal length (cm)', y='sepal width (cm)', c=iris.target)\n",
    "iris_scatter = ax1.scatter(iris.data['sepal length (cm)'], iris.data['sepal width (cm)'], c=iris.target)\n",
    "ax1.set(xlabel=iris.feature_names[0], ylabel=iris.feature_names[1])\n",
    "_ = ax1.legend(iris_scatter.legend_elements()[0],\n",
    "               iris.target_names,\n",
    "               loc='lower right',\n",
    "               title='Classes')"
   ]
  },
  {
   "cell_type": "markdown",
   "metadata": {},
   "source": [
    "- with the first two features,\n",
    "  - setosa is linearly separable from the other two\n",
    "  - however, the other two are not"
   ]
  },
  {
   "cell_type": "code",
   "execution_count": null,
   "metadata": {},
   "outputs": [],
   "source": [
    "from sklearn.decomposition import PCA\n",
    "fig2 = plt.figure(1, figsize=(8,6))\n",
    "ax2 = fig2.add_subplot(111, projection='3d', elev=-150, azim=110)\n",
    "X_reduced = PCA(n_components=3).fit_transform(iris.data)\n",
    "ax2.scatter(X_reduced[:,0], X_reduced[:,1], X_reduced[:,2], c=iris.target, s=40)\n",
    "ax2.set(title=\"First three PCA dimensions\",\n",
    "        xlabel=\"1st Eigenvector\", ylabel=\"2nd Eigenvector\", zlabel=\"3rd Eigenvector\")\n",
    "ax2.xaxis.set_ticklabels([]), ax2.yaxis.set_ticklabels([]), ax2.zaxis.set_ticklabels([])"
   ]
  },
  {
   "cell_type": "markdown",
   "metadata": {},
   "source": []
  }
 ],
 "metadata": {
  "kernelspec": {
   "display_name": "Python 3",
   "language": "python",
   "name": "python3"
  },
  "language_info": {
   "codemirror_mode": {
    "name": "ipython",
    "version": 3
   },
   "file_extension": ".py",
   "mimetype": "text/x-python",
   "name": "python",
   "nbconvert_exporter": "python",
   "pygments_lexer": "ipython3",
   "version": "3.11.6"
  }
 },
 "nbformat": 4,
 "nbformat_minor": 2
}
