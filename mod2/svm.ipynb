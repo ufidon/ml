{
 "cells": [
  {
   "cell_type": "markdown",
   "metadata": {},
   "source": [
    "[ Support vector machine (SVM)](https://en.wikipedia.org/wiki/Support_vector_machine)\n",
    " ---\n",
    "- a supervised max-margin model\n",
    "- supports linear and nonlinear classification, regression and outlier detection\n",
    "  - nonlinearity is achieved by kernel functions\n",
    "- suitable from small to medium-sized nonlinear datasets\n",
    "  - not well-scalable to very large datasets"
   ]
  },
  {
   "cell_type": "code",
   "execution_count": null,
   "metadata": {},
   "outputs": [],
   "source": [
    "import numpy as np, pandas as pd, matplotlib.pyplot as plt, matplotlib as mpl\n",
    "import sklearn as skl, sklearn.datasets as skds\n",
    "from sklearn.svm import SVC"
   ]
  },
  {
   "cell_type": "markdown",
   "metadata": {},
   "source": [
    "Linear SVM classification of - [the iris flower dataset](https://en.wikipedia.org/wiki/Iris_flower_data_set)\n",
    "---\n",
    "- consists of 3 different types of irises \n",
    "  - Setosa, Versicolour, and Virginica\n",
    "  - 150 samples with 4 features\n",
    "    - Sepal Length, Sepal Width, Petal Length and Petal Width"
   ]
  },
  {
   "cell_type": "code",
   "execution_count": null,
   "metadata": {},
   "outputs": [],
   "source": [
    "iris = skds.load_iris(as_frame=True)\n",
    "print(iris.DESCR)"
   ]
  },
  {
   "cell_type": "code",
   "execution_count": null,
   "metadata": {},
   "outputs": [],
   "source": [
    "iris.data.head(2)"
   ]
  },
  {
   "cell_type": "code",
   "execution_count": null,
   "metadata": {},
   "outputs": [],
   "source": [
    "iris.data.min(axis=0), iris.data.max(axis=0)"
   ]
  },
  {
   "cell_type": "code",
   "execution_count": null,
   "metadata": {},
   "outputs": [],
   "source": [
    "np.unique(iris.target.values), iris.target_names"
   ]
  },
  {
   "cell_type": "code",
   "execution_count": null,
   "metadata": {},
   "outputs": [],
   "source": [
    "\n",
    "X = iris.data[['sepal length (cm)', 'sepal width (cm)']].values\n",
    "y = iris.target\n",
    "setosa_or_versicolor = (y==0) | (y==1)\n",
    "X = X[setosa_or_versicolor]\n",
    "y = y[setosa_or_versicolor]\n",
    "\n",
    "# SVM classifier model with Linear kernel\n",
    "lsvm_clf = SVC(kernel='linear', C=1e100)\n",
    "lsvm_clf.fit(X,y)"
   ]
  },
  {
   "cell_type": "code",
   "execution_count": null,
   "metadata": {},
   "outputs": [],
   "source": [
    "lsvm_clf.support_vectors_"
   ]
  },
  {
   "cell_type": "code",
   "execution_count": null,
   "metadata": {},
   "outputs": [],
   "source": [
    "# the plot below uses the first two features\n",
    "_,ax1 = plt.subplots()\n",
    "# iris.data.plot(ax=ax1, kind='scatter', x='sepal length (cm)', y='sepal width (cm)', c=iris.target)\n",
    "iris_scatter = ax1.scatter(iris.data['sepal length (cm)'], iris.data['sepal width (cm)'], c=iris.target)\n",
    "\n",
    "def plot_svc_street(ax, svm_clf, xmin, xmax):\n",
    "  # decision line: w0*x0+w1*x1+b=0 => x1=-w0/w1*x0-b/w1\n",
    "  w, b = svm_clf.coef_[0], svm_clf.intercept_[0]\n",
    "  x = np.linspace(xmin, xmax, 200)\n",
    "  decision_line = -w[0]/w[1]*x-b/w[1]\n",
    "  margin = 1/w[1]\n",
    "  street_up, street_down = decision_line + margin, decision_line-margin\n",
    "  svs = svm_clf.support_vectors_\n",
    "  ax.plot(x, decision_line, 'b-', linewidth=2)\n",
    "  ax.plot(x, street_up, 'r:', linewidth=2)\n",
    "  ax.plot(x, street_down, 'r:', linewidth=2)\n",
    "  ax.scatter(svs[:,0], svs[:,1], s=100, facecolor='#ff0000',zorder=-1)\n",
    "\n",
    "plot_svc_street(ax1, lsvm_clf, 4.3, 6.2)\n",
    "\n",
    "x0 = np.linspace(4.3, 6.2, 200)\n",
    "bad0 = 7/9*(x0-4.5)+2.3\n",
    "ax1.plot(x0, bad0, 'c--', linewidth=2)\n",
    "\n",
    "ax1.set(xlabel=iris.feature_names[0], ylabel=iris.feature_names[1])\n",
    "_ = ax1.legend(iris_scatter.legend_elements()[0],\n",
    "               iris.target_names,\n",
    "               loc='lower right',\n",
    "               title='Classes')"
   ]
  },
  {
   "cell_type": "markdown",
   "metadata": {},
   "source": [
    "- with the first two features,\n",
    "  - setosa is linearly separable from versicolor\n",
    "  - however, versicolor and virginica are not separable\n",
    "- both the SVM decision boundary (the blue sold line) and the cyan dash line (the decision boundary of another poor classifier) separate the setosa and versicolor\n",
    "  - there is a possibly widest margin for the SVM blue line\n",
    "    - marked with the two dotted red lines\n",
    "      - fully determined by the samples located on the edge of the street\n",
    "      - these samples are called *support vectors*\n",
    "    - so SVM classification is also called *large margin classification*\n",
    "    - instances off the street will not affect the decision boundary\n",
    "  - but no margin for the cyan line\n",
    "    - may not perform well on new instances"
   ]
  },
  {
   "cell_type": "markdown",
   "metadata": {},
   "source": [
    "SVMs are sensitive to the feature scales\n",
    "---\n",
    "- the widest possible street is closer to the feature with smaller scale"
   ]
  },
  {
   "cell_type": "code",
   "execution_count": null,
   "metadata": {},
   "outputs": [],
   "source": [
    "from sklearn.preprocessing import StandardScaler\n",
    "\n",
    "Xs = np.array([[1, 52], [2,30], [5, 21], [3, 83], [4,75], [5, 60]]).astype(np.float64)\n",
    "ys = np.array([0, 0, 0, 1, 1, 1])\n",
    "svm_clf = SVC(kernel=\"linear\", C=100).fit(Xs, ys)\n",
    "\n",
    "scaler = StandardScaler()\n",
    "X_scaled = scaler.fit_transform(Xs)\n",
    "svm_clf_scaled = SVC(kernel='linear', C=100).fit(X_scaled, ys)\n",
    "\n",
    "fig, axes = plt.subplots(1, 2, figsize=(8,3))\n",
    "axes[0].plot(Xs[:, 0][ys==1], Xs[:, 1][ys==1], \"bo\")\n",
    "axes[0].plot(Xs[:, 0][ys==0], Xs[:, 1][ys==0], \"ms\")\n",
    "plot_svc_street(axes[0], svm_clf, 0.8, 5.4)\n",
    "\n",
    "axes[1].plot(X_scaled[:, 0][ys==1], X_scaled[:, 1][ys==1], \"bo\")\n",
    "axes[1].plot(X_scaled[:, 0][ys==0], X_scaled[:, 1][ys==0], \"ms\")\n",
    "axes[1].axis([-2,2,-2,2])\n",
    "plot_svc_street(axes[1], svm_clf_scaled, -1.8, 1.8)"
   ]
  },
  {
   "cell_type": "markdown",
   "metadata": {},
   "source": []
  }
 ],
 "metadata": {
  "kernelspec": {
   "display_name": "Python 3",
   "language": "python",
   "name": "python3"
  },
  "language_info": {
   "codemirror_mode": {
    "name": "ipython",
    "version": 3
   },
   "file_extension": ".py",
   "mimetype": "text/x-python",
   "name": "python",
   "nbconvert_exporter": "python",
   "pygments_lexer": "ipython3",
   "version": "3.11.6"
  }
 },
 "nbformat": 4,
 "nbformat_minor": 2
}
