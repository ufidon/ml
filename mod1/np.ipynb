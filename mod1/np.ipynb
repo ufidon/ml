{
 "cells": [
  {
   "cell_type": "markdown",
   "metadata": {},
   "source": [
    "<table align=\"left\">\n",
    "  <td>\n",
    "    <a href=\"https://colab.research.google.com/github/ufidon/ml/blob/main/mod1/np.ipynb\" target=\"_parent\"><img src=\"https://colab.research.google.com/assets/colab-badge.svg\" alt=\"Open In Colab\"/></a>\n",
    "  </td>\n",
    "  <td>\n",
    "    <a target=\"_blank\" href=\"https://kaggle.com/kernels/welcome?src=https://github.com/ufidon/ml/blob/main/mod1/np.ipynb\"><img src=\"https://kaggle.com/static/images/open-in-kaggle.svg\" /></a>\n",
    "  </td>\n",
    "</table>\n",
    "<br>\n",
    "\n",
    "Numpy introduction\n",
    "---\n",
    "- the fundamental Python package for scientific computation, provides\n",
    "  - a multidimensional array object \n",
    "  - various derived objects such as masked arrays and matrices \n",
    "  - various routines for fast operations on arrays, including \n",
    "    - mathematical, logical, shape manipulation, sorting, selecting, I/O, \n",
    "    - basic linear algebra, basic statistical operations, random simulation, etc.\n",
    "- simpler and faster than regular Python through\n",
    "  - optimized precompiled C code\n",
    "  - vectorization: applying operations to arrays instead of just individual elements\n",
    "- more readable with close mathematical notation"
   ]
  },
  {
   "cell_type": "markdown",
   "metadata": {},
   "source": []
  },
  {
   "cell_type": "code",
   "execution_count": null,
   "metadata": {},
   "outputs": [],
   "source": [
    "import numpy as np, pprint as pp, copy, matplotlib.pyplot as plt, matplotlib as mpl"
   ]
  },
  {
   "cell_type": "code",
   "execution_count": null,
   "metadata": {},
   "outputs": [],
   "source": [
    "%%time \n",
    "# magic function must be put in the first line by itself\n",
    "# numpy is much faster than regular Python\n",
    "\n",
    "# 1. regular Python\n",
    "a = list(range(100_1000))\n",
    "b = copy.deepcopy(a)\n",
    "c = [x*x+3*y for (x,y) in zip(a,b)]"
   ]
  },
  {
   "cell_type": "code",
   "execution_count": null,
   "metadata": {},
   "outputs": [],
   "source": [
    "%%time\n",
    "# 2. numpy\n",
    "x,y = np.arange(100_1000), np.arange((100_1000))\n",
    "z = x**2 + 3*y"
   ]
  },
  {
   "cell_type": "markdown",
   "metadata": {},
   "source": [
    "ndarray: n-dimensional arrays\n",
    "---\n",
    "- store elements of same data type\n",
    "- the fundamental datatype of numpy\n",
    "- fixed size at creation\n",
    "- more efficient runtime and memory-wise than Python lists"
   ]
  },
  {
   "cell_type": "code",
   "execution_count": null,
   "metadata": {},
   "outputs": [],
   "source": [
    "# 1.1 create ndarray\n",
    "\n",
    "# 1-d array\n",
    "d1 = np.array([5.1, 2.3, .7])\n",
    "\n",
    "# 2-d array\n",
    "d2 = np.array([['5','f','美','ओ'],['💘','💝','💞','💖']])\n",
    "\n",
    "# 3-d array\n",
    "d3 = np.array([[[1,1],[2,2]],[[3,3],[4,4]],[[4,4],[5,5]]])\n",
    "\n",
    "print(f'{d1=}, \\n{d2=}, \\n{d3=}')\n",
    "# the *shape* of an array is a tuple of integers \n",
    "# giving the size of the array along each dimension\n",
    "print(f'{d1.shape=}, {d2.shape=}, {d3.shape=}')\n",
    "\n",
    "# array size = number of elements\n",
    "print(f'{d1.size=}, {d2.size=}, {d3.size=}')\n",
    "\n",
    "# the *rank* of the array is its number of dimensions\n",
    "# arrays with dimensions no less than 3 are also called *tensors*\n",
    "print(f'rank(d1)={len(d1.shape)}, rank(d2)={len(d2.shape)}, rank(d3)={len(d3.shape)}')\n",
    "print(f'rank(d1)={d1.ndim}, rank(d2)={d2.ndim}, rank(d3)={d3.ndim}')\n",
    "\n",
    "# type: U1 means 1 character unicode string\n",
    "print(f'{type(d1)=}, {d1.dtype=}, {d1.itemsize=}\\n{type(d2)=}, {d2.dtype=}, {d2.itemsize=}\\n{type(d3)=}, {d3.dtype=}, {d3.itemsize=}')"
   ]
  },
  {
   "cell_type": "code",
   "execution_count": null,
   "metadata": {},
   "outputs": [],
   "source": [
    "# 1.2 ndarray shape manipulation\n",
    "# return a reshaped copy\n",
    "f3 = d3.reshape(-1) # flatten ndarray\n",
    "r4 = f3.reshape((4,-1)) # 4 rows, -1 auto columns\n",
    "r2a2 = f3.reshape((2,-1,3))\n",
    "ts = d3.reshape((2,6)) # specify the new shape\n",
    "print(f'{f3=}\\n{r4=}\\n{r2a2=}\\n{ts=}')\n",
    "print(f'{f3.shape=}, {r4.shape=}, {r2a2.shape=}, {ts.shape=}')\n"
   ]
  },
  {
   "cell_type": "code",
   "execution_count": null,
   "metadata": {},
   "outputs": [],
   "source": [
    "# reshape in place\n",
    "ri = np.copy(d3)\n",
    "ri.shape = (3,4)\n",
    "print(f'{d3}\\n{ri}')"
   ]
  },
  {
   "cell_type": "code",
   "execution_count": null,
   "metadata": {},
   "outputs": [],
   "source": [
    "# 1.3 array split and stack\n",
    "x = np.arange(1, 25).reshape(2, 12)\n",
    "\n",
    "x1,x2 = np.hsplit(x,2) # horizontal split\n",
    "print(f'{x}\\n\\n{x1}\\n\\n{x2}')"
   ]
  },
  {
   "cell_type": "code",
   "execution_count": null,
   "metadata": {},
   "outputs": [],
   "source": [
    "sx = np.vstack([x1,x2]) # vertical stack\n",
    "print(sx)"
   ]
  },
  {
   "cell_type": "code",
   "execution_count": null,
   "metadata": {},
   "outputs": [],
   "source": [
    "y = x.transpose()\n",
    "y1,y2,y3 = np.vsplit(y,3) # vertical split\n",
    "print(f'{y}\\n\\n{y1}\\n\\n{y2}\\n\\n{y3}')"
   ]
  },
  {
   "cell_type": "code",
   "execution_count": null,
   "metadata": {},
   "outputs": [],
   "source": [
    "sy = np.hstack([y1,y2,y3]) # horizontal stack\n",
    "print(sy)"
   ]
  },
  {
   "cell_type": "code",
   "execution_count": null,
   "metadata": {},
   "outputs": [],
   "source": [
    "# 2. Create special ndarrays\n",
    "zero = np.zeros((3,4)) # a matrix of zeros\n",
    "one = np.ones((4,3), dtype=np.int64) # a matrix of ones, specify data type\n",
    "emty = np.empty((3,3)) # no really empty, just don't care what are inside the memory\n",
    "unit = np.eye((3)) # unit matrix\n",
    "cons = np.full((2,3), 2.8) # constant matrix\n",
    "ran = np.random.random((2,2)) # random matrix\n",
    "print(f'{zero=}\\n{one=}\\n{emty=}\\n{unit=}\\n{cons=}\\n{ran=}')"
   ]
  },
  {
   "cell_type": "code",
   "execution_count": null,
   "metadata": {},
   "outputs": [],
   "source": [
    "# Create array of random integers between 2 and 10\n",
    "print(f'{np.random.randint(low=2,high=10,size=(3,3))}') "
   ]
  },
  {
   "cell_type": "code",
   "execution_count": null,
   "metadata": {},
   "outputs": [],
   "source": [
    "# 2.1 Create a range of elements\n",
    "a1 = np.arange(6);\n",
    "a2 = np.arange(start=12,stop=0,step=-2) # [start,stop)\n",
    "a3 = np.linspace(start=12,stop=0,num=6) # [start,stop]\n",
    "print(f'{a1=}\\n{a2=}\\n{a3=}')"
   ]
  },
  {
   "cell_type": "code",
   "execution_count": null,
   "metadata": {},
   "outputs": [],
   "source": [
    "# 3. Indexing\n",
    "m = np.array([\n",
    "  ['00','01','02','03','04','05'],\n",
    "  ['10','11','12','13','14','15'],\n",
    "  ['20','21','22','23','24','25'],\n",
    "  ['30','31','32','33','34','35'],\n",
    "  ['40','41','42','43','44','45']\n",
    "])\n",
    "print(f'{m=}\\n{m.shape=}')\n",
    "\n",
    "# 3.1 select single element\n",
    "print(f'{m[3][4]=} {m[3,4]=}')\n",
    "\n",
    "# 3.2 slicing\n",
    "print(f'{m[1:4, :4]=}\\n{m[3:,::-1]=}\\n{m[...,2]=}\\n{m[2,:]=}')\n",
    "\n",
    "# 3.3 indexing with array of indexes\n",
    "rowidx, colidx = np.array([0,0,4,4]), np.array([0,5,0,5])\n",
    "print(f'{m[rowidx, colidx]=}')\n",
    "# same as\n",
    "for row, col in zip(np.array([0,0,4,4]), np.array([0,5,0,5])):\n",
    "  print(f'{m[row, col]}', end=',')\n",
    "  \n",
    "# 3.4 logical indexing\n",
    "selection = ('11'<=m) & (m<='33')\n",
    "print(f\"{m[selection]=}\")"
   ]
  },
  {
   "cell_type": "code",
   "execution_count": null,
   "metadata": {},
   "outputs": [],
   "source": [
    "# An example of indexing array of numbers\n",
    "nums = np.array([\n",
    "  [1 , 2, 3, 4], \n",
    "  [5, 6, 7, 8], \n",
    "  [9, 10, 11, 12]\n",
    "  ])\n",
    "\n",
    "s1,s2,s3,s4 = nums<7, nums >=7, nums%2==0, (nums>3)&(nums<11)\n",
    "print(f'{nums=}\\n{s1=}\\n{s2=}\\n{s3=}\\n{s4=}')\n",
    "print(f'{nums[s1]=}\\n{nums[s2]=}\\n{nums[s3]=}\\n{nums[s4]=}')"
   ]
  },
  {
   "cell_type": "code",
   "execution_count": null,
   "metadata": {},
   "outputs": [],
   "source": [
    "# zero out non-selected elements\n",
    "# modify elements in place\n",
    "backup = nums.copy()\n",
    "nums[~s4] = 0 # by broadcasting, see below\n",
    "print(f'{nums=}\\n{backup=}')"
   ]
  },
  {
   "cell_type": "markdown",
   "metadata": {},
   "source": [
    "Mathematical operations on arrays\n",
    "---\n",
    "- broadcasting\n",
    "- element-wise operations\n",
    "  - addition, subtraction, multiplication, division, etc.\n",
    "- aggregation of elements such as sum, min, max, etc.\n",
    "- matrix operations such as transposition, reverse, etc.\n",
    "- apply mathematical functions\n"
   ]
  },
  {
   "cell_type": "code",
   "execution_count": null,
   "metadata": {},
   "outputs": [],
   "source": [
    "# 1. broadcasting\n",
    "# operation between arrays of different sizes\n",
    "A = np.array([\n",
    "  [1,2],\n",
    "  [3,4]\n",
    "])\n",
    "B = A*3+2\n",
    "print(f'{A}\\n{B}')"
   ]
  },
  {
   "cell_type": "code",
   "execution_count": null,
   "metadata": {},
   "outputs": [],
   "source": [
    "print(f'{A+[3,3]}\\n{A-[[3,],[3,]]}')"
   ]
  },
  {
   "cell_type": "code",
   "execution_count": null,
   "metadata": {},
   "outputs": [],
   "source": [
    "# 2. addition, subtraction, multiplication, division, etc.\n",
    "C1,C2,C3,C4,C5,C6,C7 = A+B,A-B,A*B,A/B, A//B, A%B, A**B\n",
    "print(f'{C1}\\n{C2}\\n{C3}\\n{C4}\\n{C5}\\n{C6}\\n{C7}')"
   ]
  },
  {
   "cell_type": "code",
   "execution_count": null,
   "metadata": {},
   "outputs": [],
   "source": [
    "# 3. aggregation of elements such as sum, min, max, etc.\n",
    "print(f'{C1.sum()=}, {C1.sum(axis=0)=}, {C1.sum(axis=1)=}')\n",
    "print(f'{C1.min()=}, {C1.min(axis=0)=}, {C1.min(axis=1)=}')\n",
    "print(f'{C1.max()=}, {C1.max(axis=0)=}, {C1.max(axis=1)=}')\n",
    "print(f'{C1.mean()=}, {C1.prod(axis=0)=}, {C1.std(axis=1)=}')"
   ]
  },
  {
   "cell_type": "code",
   "execution_count": null,
   "metadata": {},
   "outputs": [],
   "source": [
    "# 3.2 get unique elements and counts\n",
    "R = np.random.randint(low=2,high=10,size=(3,4))\n",
    "print(f'{R=}\\n{np.unique(R)=}')\n"
   ]
  },
  {
   "cell_type": "code",
   "execution_count": null,
   "metadata": {},
   "outputs": [],
   "source": [
    "values, indexes, counts = np.unique(R, return_index=True, return_counts=True)\n",
    "print(f'{values=}\\n{indexes=}\\n{counts=}')"
   ]
  },
  {
   "cell_type": "code",
   "execution_count": null,
   "metadata": {},
   "outputs": [],
   "source": [
    "# 4. transpose and flip\n",
    "print(f'{R=}\\n{R.T=}\\n{R.transpose()=}')"
   ]
  },
  {
   "cell_type": "code",
   "execution_count": null,
   "metadata": {},
   "outputs": [],
   "source": [
    "# flip or reverse, not in place\n",
    "# flip both upside down, and left side right\n",
    "print(f'{R}\\n{np.flip(R)}')\n",
    "print(f'{np.fliplr(R)}\\n{np.flipud(R)}')"
   ]
  },
  {
   "cell_type": "code",
   "execution_count": null,
   "metadata": {},
   "outputs": [],
   "source": [
    "# flipud = flip on axis 0; fliplr = flip on axis 1\n",
    "print(f'{np.flip(R, axis=0)}\\n{np.flip(R, axis=1)}')"
   ]
  },
  {
   "cell_type": "code",
   "execution_count": null,
   "metadata": {},
   "outputs": [],
   "source": [
    "# matrix multiplication\n",
    "R2 = R.dot(R.T)\n",
    "print(f'{R2}') # 3x4 * 4x3 = 3x3"
   ]
  },
  {
   "cell_type": "code",
   "execution_count": null,
   "metadata": {},
   "outputs": [],
   "source": [
    "# matrix inverse and pseudo-inverse\n",
    "import numpy.linalg as npl\n",
    "print(f'{R2.dot(npl.inv(R2))}\\n{R.dot(npl.pinv(R))}')"
   ]
  },
  {
   "cell_type": "code",
   "execution_count": null,
   "metadata": {},
   "outputs": [],
   "source": [
    "# QR decomposition\n",
    "q,r = npl.qr(R2)\n",
    "print(f'{q.dot(r)}')"
   ]
  },
  {
   "cell_type": "code",
   "execution_count": null,
   "metadata": {},
   "outputs": [],
   "source": [
    "# svd - singular value decomposition\n",
    "# R2 = U.S.V\n",
    "U,D,V = npl.svd(R2) # D, diagonal only\n",
    "S = np.zeros(R2.shape) \n",
    "S[np.diag_indices_from(R2)] = D # S, diagonal matrix\n",
    "print(f'{U}\\n{S}\\n{V}\\n{U.dot(S).dot(V)}')"
   ]
  },
  {
   "cell_type": "code",
   "execution_count": null,
   "metadata": {},
   "outputs": [],
   "source": [
    "# matrix determinant, diagonal, and trace=np.diag(R2).sum()\n",
    "print(f'{npl.det(R2)}\\n{np.diag(R2)}\\n{R2.trace()}\\n{np.diag(R2).sum()}')"
   ]
  },
  {
   "cell_type": "code",
   "execution_count": null,
   "metadata": {},
   "outputs": [],
   "source": [
    "# eigenvalues and eigenvectors\n",
    "# R2.v =  λ*v\n",
    "λ, v = npl.eig(R2)\n",
    "print(f'{λ=}\\n{v=}')"
   ]
  },
  {
   "cell_type": "code",
   "execution_count": null,
   "metadata": {},
   "outputs": [],
   "source": [
    "print(f\"{R2.dot(v) - λ*v}\")"
   ]
  },
  {
   "cell_type": "markdown",
   "metadata": {},
   "source": [
    "__5. apply mathematical functions__\n",
    "\n",
    "- called universal functions, applied element-wise\n",
    "  - vectorized version of popular math functions such as\n",
    "    - abs, sqrt, exp,log, ceil, sin, etc.\n",
    "    - isnan, isinfo, isneginfo, etc.\n",
    "    - used as unary function\n",
    "  - binary functions such as add, greater, etc.\n",
    "\n",
    "$\\displaystyle MeanSquareError=\\frac{1}{n}Σ_{i=1}^{n}(\\hat{Y}_i-Y_i)^2$"
   ]
  },
  {
   "cell_type": "code",
   "execution_count": null,
   "metadata": {},
   "outputs": [],
   "source": [
    "Yh = np.random.random((5,1)) # predictions\n",
    "Ya = np.random.random((5,1)) # labels\n",
    "\n",
    "err = (1/5)*np.sum(np.square(Yh-Ya))\n",
    "print(f'{np.hstack([Yh,Ya])}\\n{err=}')\n"
   ]
  },
  {
   "cell_type": "code",
   "execution_count": null,
   "metadata": {},
   "outputs": [],
   "source": [
    "print(f'{np.greater(np.sin(Yh), np.cos(Ya))}')"
   ]
  },
  {
   "cell_type": "markdown",
   "metadata": {},
   "source": [
    "__6. solve linear equations__\n",
    "\n",
    "$AX=b$\n",
    "\n",
    "- $x+3y-4z = 7$\n",
    "- $3x-5y+2z = 25$\n",
    "- $4x -y + z = 1$"
   ]
  },
  {
   "cell_type": "code",
   "execution_count": null,
   "metadata": {},
   "outputs": [],
   "source": [
    "\n",
    "A = np.array([\n",
    "  [1,3,-4],\n",
    "  [3,-5,2],\n",
    "  [4,-1,1]\n",
    "])\n",
    "b = np.array([7,25,1])\n",
    "sol = npl.solve(A,b)\n",
    "print(f\"{sol=}\")\n"
   ]
  },
  {
   "cell_type": "code",
   "execution_count": null,
   "metadata": {},
   "outputs": [],
   "source": [
    "# check the solution\n",
    "A.dot(sol), b"
   ]
  },
  {
   "cell_type": "code",
   "execution_count": null,
   "metadata": {},
   "outputs": [],
   "source": [
    "# check the solution again\n",
    "np.allclose(A.dot(sol), b)"
   ]
  },
  {
   "cell_type": "markdown",
   "metadata": {},
   "source": [
    "# References\n",
    "- [NumPy documentation](https://numpy.org/doc/stable/index.html)"
   ]
  }
 ],
 "metadata": {
  "kernelspec": {
   "display_name": "Python 3",
   "language": "python",
   "name": "python3"
  },
  "language_info": {
   "codemirror_mode": {
    "name": "ipython",
    "version": 3
   },
   "file_extension": ".py",
   "mimetype": "text/x-python",
   "name": "python",
   "nbconvert_exporter": "python",
   "pygments_lexer": "ipython3",
   "version": "3.11.6"
  }
 },
 "nbformat": 4,
 "nbformat_minor": 2
}
