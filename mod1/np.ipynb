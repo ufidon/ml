{
 "cells": [
  {
   "cell_type": "markdown",
   "metadata": {},
   "source": [
    "Numpy introduction\n",
    "---\n",
    "- the fundamental Python package for scientific computation, provides\n",
    "  - a multidimensional array object \n",
    "  - various derived objects such as masked arrays and matrices \n",
    "  - various routines for fast operations on arrays, including \n",
    "    - mathematical, logical, shape manipulation, sorting, selecting, I/O, \n",
    "    - basic linear algebra, basic statistical operations, random simulation, etc.\n",
    "- simpler and faster than regular Python through\n",
    "  - optimized precompiled C code\n",
    "  - vectorization: applying operations to arrays instead of just individual elements\n",
    "- more readable with close mathematical notation"
   ]
  },
  {
   "cell_type": "markdown",
   "metadata": {},
   "source": []
  },
  {
   "cell_type": "code",
   "execution_count": null,
   "metadata": {},
   "outputs": [],
   "source": [
    "import numpy as np, pprint as pp, copy, matplotlib.pyplot as plt, matplotlib as mpl"
   ]
  },
  {
   "cell_type": "code",
   "execution_count": null,
   "metadata": {},
   "outputs": [],
   "source": [
    "%%time \n",
    "# magic function must be put in the first line by itself\n",
    "# numpy is much faster than regular Python\n",
    "\n",
    "# 1. regular Python\n",
    "a = list(range(100_1000))\n",
    "b = copy.deepcopy(a)\n",
    "c = [x*x+3*y for (x,y) in zip(a,b)]"
   ]
  },
  {
   "cell_type": "code",
   "execution_count": null,
   "metadata": {},
   "outputs": [],
   "source": [
    "%%time\n",
    "# 2. numpy\n",
    "x,y = np.arange(100_1000), np.arange((100_1000))\n",
    "z = x**2 + 3*y"
   ]
  },
  {
   "cell_type": "markdown",
   "metadata": {},
   "source": [
    "ndarray: n-dimensional arrays\n",
    "---\n",
    "- store elements of same data type\n",
    "- the fundamental datatype of numpy\n",
    "- fixed size at creation\n",
    "- more efficient runtime and memory-wise than Python lists"
   ]
  },
  {
   "cell_type": "code",
   "execution_count": null,
   "metadata": {},
   "outputs": [],
   "source": [
    "# 1.1 create ndarray\n",
    "\n",
    "# 1-d array\n",
    "d1 = np.array([5.1, 2.3, .7])\n",
    "\n",
    "# 2-d array\n",
    "d2 = np.array([['5','f','美','ओ'],['💘','💝','💞','💖']])\n",
    "\n",
    "# 3-d array\n",
    "d3 = np.array([[[1,1],[2,2]],[[3,3],[4,4]],[[4,4],[5,5]]])\n",
    "\n",
    "print(f'{d1=}, \\n{d2=}, \\n{d3=}')\n",
    "# the *shape* of an array is a tuple of integers \n",
    "# giving the size of the array along each dimension\n",
    "print(f'{d1.shape=}, {d2.shape=}, {d3.shape=}')\n",
    "\n",
    "# the *rank* of the array is its number of dimensions\n",
    "print(f'rank(d1)={len(d1.shape)}, rank(d2)={len(d2.shape)}, rank(d3)={len(d3.shape)}')\n",
    "\n",
    "# type: U1 means 1 character unicode string\n",
    "print(f'{type(d1)=}, {d1.dtype=}\\n{type(d2)=}, {d2.dtype=}\\n{type(d3)=}, {d3.dtype=}')"
   ]
  },
  {
   "cell_type": "code",
   "execution_count": null,
   "metadata": {},
   "outputs": [],
   "source": [
    "# 1.2 ndarray shape manipulation\n",
    "\n",
    "f3 = d3.reshape(-1) # flatten ndarray\n",
    "r4 = f3.reshape((4,-1)) # 4 rows, -1 auto columns\n",
    "r2a2 = f3.reshape((2,-1,3))\n",
    "print(f'{f3=}\\n{r4=}\\n{r2a2=}')\n",
    "print(f'{f3.shape=}, {r4.shape=}, {r2a2.shape=}')\n"
   ]
  },
  {
   "cell_type": "code",
   "execution_count": null,
   "metadata": {},
   "outputs": [],
   "source": [
    "# 2. Create special ndarrays\n",
    "zero = np.zeros((3,4)) # a matrix of zeros\n",
    "one = np.ones((4,3)) # a matrix of zeros\n",
    "unit = np.eye((3)) # unit matrix\n",
    "cons = np.full((2,3), 2.8) # constant matrix\n",
    "ran = np.random.random((2,2)) # random matrix\n",
    "print(f'{zero=}\\n{one=}\\n{unit=}\\n{cons=}\\n{ran=}')"
   ]
  },
  {
   "cell_type": "code",
   "execution_count": null,
   "metadata": {},
   "outputs": [],
   "source": [
    "# 3. Indexing\n",
    "m = np.array([\n",
    "  ['00','01','02','03','04','05'],\n",
    "  ['10','11','12','13','14','15'],\n",
    "  ['20','21','22','23','24','25'],\n",
    "  ['30','31','32','33','34','35'],\n",
    "  ['40','41','42','43','44','45']\n",
    "])\n",
    "print(f'{m=}\\n{m.shape=}')\n",
    "\n",
    "# 3.1 select single element\n",
    "print(f'{m[3][4]=} {m[3,4]=}')\n",
    "\n",
    "# 3.2 slicing\n",
    "print(f'{m[1:4, :4]=}\\n{m[3:,::-1]=}\\n{m[...,2]=}\\n{m[2,:]=}')\n",
    "\n",
    "# 3.3 indexing with array of indexes\n",
    "rowidx, colidx = np.array([0,0,4,4]), np.array([0,5,0,5])\n",
    "print(f'{m[rowidx, colidx]=}')\n",
    "# same as\n",
    "for row, col in zip(np.array([0,0,4,4]), np.array([0,5,0,5])):\n",
    "  print(f'{m[row, col]}', end=',')\n",
    "  \n",
    "# 3.4 logical indexing\n",
    "selection = ('11'<=m) & (m<='33')\n",
    "print(f\"{m[selection]=}\")\n"
   ]
  },
  {
   "cell_type": "markdown",
   "metadata": {},
   "source": [
    "# References\n",
    "- [NumPy documentation](https://numpy.org/doc/stable/index.html)"
   ]
  }
 ],
 "metadata": {
  "kernelspec": {
   "display_name": "Python 3",
   "language": "python",
   "name": "python3"
  },
  "language_info": {
   "codemirror_mode": {
    "name": "ipython",
    "version": 3
   },
   "file_extension": ".py",
   "mimetype": "text/x-python",
   "name": "python",
   "nbconvert_exporter": "python",
   "pygments_lexer": "ipython3",
   "version": "3.11.6"
  }
 },
 "nbformat": 4,
 "nbformat_minor": 2
}
