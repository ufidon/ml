{
 "cells": [
  {
   "cell_type": "markdown",
   "metadata": {},
   "source": [
    "<table align=\"left\">\n",
    "  <td>\n",
    "    <a href=\"https://colab.research.google.com/github/ufidon/ml/blob/main/mod3/rf.ipynb\" target=\"_parent\"><img src=\"https://colab.research.google.com/assets/colab-badge.svg\" alt=\"Open In Colab\"/></a>\n",
    "  </td>\n",
    "  <td>\n",
    "    <a target=\"_blank\" href=\"https://kaggle.com/kernels/welcome?src=https://github.com/ufidon/ml/blob/main/mod3/rf.ipynb\"><img src=\"https://kaggle.com/static/images/open-in-kaggle.svg\" /></a>\n",
    "  </td>\n",
    "</table>\n",
    "<br>\n",
    "\n",
    "[Ensemble Learning](https://en.wikipedia.org/wiki/Ensemble_learning) and [Random Forests](https://en.wikipedia.org/wiki/Random_forest)\n",
    "---\n",
    "_homl3 ch7_"
   ]
  },
  {
   "cell_type": "markdown",
   "metadata": {},
   "source": [
    "# Wisdom of the crowd\n",
    "- A group of predictors usually make better predictions than the best individual predictor\n",
    "  - they are called an *ensemble*\n",
    "  - this technique is called *ensemble learning*\n",
    "  - an ensemble learning algorithm is called an *ensemble method*, such as\n",
    "    - voting classifiers, \n",
    "    - bagging and pasting ensembles, \n",
    "    - random forests, \n",
    "    - boosting, and stacking ensembles\n"
   ]
  },
  {
   "cell_type": "markdown",
   "metadata": {},
   "source": [
    "# Voting Classifiers\n",
    "- two types:  \n",
    "  - hard voting classifier and soft voting classifier\n",
    "- hard voting classifier\n",
    "  - aggregates the predictions from a group of diverse classifiers\n",
    "  - the class that gets the most votes is the ensemble’s prediction\n",
    "- voting classifier often achieves a higher accuracy than the best classifier in the ensemble\n",
    "  - even true for each classifier slightly better than random guessing\n",
    "  - if the voting classifier has enough members and they are sufficiently diverse\n",
    "  - this is due to *the law of large numbers* "
   ]
  },
  {
   "cell_type": "markdown",
   "metadata": {},
   "source": [
    "# Random Forests\n",
    "- A random forest is an ensemble of decision trees\n",
    "  - each trains on a different random subset of the training set\n",
    "  - the ensemble’s prediction is the one that gets the most votes "
   ]
  }
 ],
 "metadata": {
  "language_info": {
   "name": "python"
  }
 },
 "nbformat": 4,
 "nbformat_minor": 2
}
