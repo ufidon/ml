{
 "cells": [
  {
   "cell_type": "markdown",
   "metadata": {},
   "source": [
    "<table align=\"left\">\n",
    "  <td>\n",
    "    <a href=\"https://colab.research.google.com/github/ufidon/ml/blob/main/mod3/rf.ipynb\" target=\"_parent\"><img src=\"https://colab.research.google.com/assets/colab-badge.svg\" alt=\"Open In Colab\"/></a>\n",
    "  </td>\n",
    "  <td>\n",
    "    <a target=\"_blank\" href=\"https://kaggle.com/kernels/welcome?src=https://github.com/ufidon/ml/blob/main/mod3/rf.ipynb\"><img src=\"https://kaggle.com/static/images/open-in-kaggle.svg\" /></a>\n",
    "  </td>\n",
    "</table>\n",
    "<br>\n",
    "\n",
    "[Ensemble Learning](https://en.wikipedia.org/wiki/Ensemble_learning) and [Random Forests](https://en.wikipedia.org/wiki/Random_forest)\n",
    "---\n",
    "_homl3 ch7_\n",
    "\n",
    "- Voting Classifiers\n",
    "- Bagging and Pasting\n",
    "  - Bagging and Pasting in Scikit-Learn\n",
    "  - Out-of-Bag Evaluation\n",
    "  - Random Patches and Random Subspaces\n",
    "- Random Forests\n",
    "  - Extra-Trees\n",
    "  - Feature Importance\n",
    "- Boosting\n",
    "  - AdaBoost\n",
    "  - Gradient Boosting\n",
    "  - Histogram-Based Gradient Boosting\n",
    "- Stacking"
   ]
  }
 ],
 "metadata": {
  "language_info": {
   "name": "python"
  }
 },
 "nbformat": 4,
 "nbformat_minor": 2
}
