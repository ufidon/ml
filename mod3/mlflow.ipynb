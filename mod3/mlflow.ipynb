{
 "cells": [
  {
   "cell_type": "markdown",
   "metadata": {},
   "source": [
    "<table align=\"left\">\n",
    "  <td>\n",
    "    <a href=\"https://colab.research.google.com/github/ufidon/ml/blob/main/mod3/mlflow.ipynb\" target=\"_parent\"><img src=\"https://colab.research.google.com/assets/colab-badge.svg\" alt=\"Open In Colab\"/></a>\n",
    "  </td>\n",
    "  <td>\n",
    "    <a target=\"_blank\" href=\"https://kaggle.com/kernels/welcome?src=https://github.com/ufidon/ml/blob/main/mod3/mlflow.ipynb\"><img src=\"https://kaggle.com/static/images/open-in-kaggle.svg\" /></a>\n",
    "  </td>\n",
    "</table>\n",
    "<br>\n",
    "\n",
    "\n",
    "\n",
    "\n",
    "A complete ML procedure\n",
    "---\n",
    "_homl3 ch2_\n",
    "\n",
    "- Working with Real Data\n",
    "- Look at the Big Picture\n",
    "  - Frame the Problem\n",
    "  - Select a Performance Measure\n",
    "  - Check the Assumptions\n",
    "- Get the Data\n",
    "  - Running the Code Examples Using Google Colab\n",
    "  - Saving Your Code Changes and Your Data\n",
    "  - The Power and Danger of Interactivity\n",
    "  - Book Code Versus Notebook Code\n",
    "  - Download the Data\n",
    "  - Take a Quick Look at the Data Structure\n",
    "  - Create a Test Set\n",
    "- Explore and Visualize the Data to Gain Insights\n",
    "  - Visualizing Geographical Data\n",
    "  - Look for Correlations\n",
    "  - Experiment with Attribute Combinations\n",
    "- Prepare the Data for Machine Learning Algorithms\n",
    "  - Clean the Data\n",
    "  - Handling Text and Categorical Attributes\n",
    "  - Feature Scaling and Transformation\n",
    "  - Custom Transformers\n",
    "  - Transformation Pipelines\n",
    "- Select and Train a Model\n",
    "  - Train and Evaluate on the Training Set\n",
    "  - Better Evaluation Using Cross-Validation\n",
    "- Fine-Tune Your Model\n",
    "  - Grid Search\n",
    "  - Randomized Search\n",
    "  - Ensemble Methods\n",
    "  - Analyzing the Best Models and Their Errors\n",
    "  - Evaluate Your System on the Test Set\n",
    "- Launch, Monitor, and Maintain Your System"
   ]
  }
 ],
 "metadata": {
  "language_info": {
   "name": "python"
  }
 },
 "nbformat": 4,
 "nbformat_minor": 2
}
